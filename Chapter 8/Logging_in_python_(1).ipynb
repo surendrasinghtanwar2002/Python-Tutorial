{
 "cells": [
  {
   "cell_type": "code",
   "execution_count": 2,
   "metadata": {},
   "outputs": [],
   "source": [
    "import logging"
   ]
  },
  {
   "cell_type": "code",
   "execution_count": 3,
   "metadata": {},
   "outputs": [
    {
     "name": "stderr",
     "output_type": "stream",
     "text": [
      "WARNING:root:Hey you have passed something wrong please check it\n",
      "ERROR:root:Hey you have passed wrong thing in the server file\n",
      "CRITICAL:root:Your script got end due to ssh is not working properly\n"
     ]
    }
   ],
   "source": [
    "## Types of logging or levels of loggin ##\n",
    "logging.warning(\"Hey you have passed something wrong please check it\")\n",
    "logging.error(\"Hey you have passed wrong thing in the server file\")\n",
    "logging.critical(\"Your script got end due to ssh is not working properly\")"
   ]
  },
  {
   "cell_type": "code",
   "execution_count": 4,
   "metadata": {},
   "outputs": [
    {
     "name": "stderr",
     "output_type": "stream",
     "text": [
      "C:\\Users\\suren\\AppData\\Local\\Temp\\ipykernel_5548\\1392406157.py:5: DeprecationWarning: The 'warn' function is deprecated, use 'warning' instead\n",
      "  logging.warn(\"Warning message by default run on the hardware\")\n",
      "WARNING:root:Warning message by default run on the hardware\n",
      "ERROR:root:Error message or logs are by default managed by logger\n",
      "CRITICAL:root:Critical logs are also kept by default on the logger\n"
     ]
    }
   ],
   "source": [
    "##By default loggin is supported from warning level only so we need to manually configure what kind of log we want\n",
    "logging.basicConfig(level=10)               ##We can specify logs using the log number or direct string\n",
    "\n",
    "logging.debug(\"Now logger will also kepy debug log also\")\n",
    "logging.warn(\"Warning message by default run on the hardware\")\n",
    "logging.info(\"Now logger will also kept information log also\")\n",
    "logging.error(\"Error message or logs are by default managed by logger\")\n",
    "logging.critical(\"Critical logs are also kept by default on the logger\")"
   ]
  },
  {
   "cell_type": "code",
   "execution_count": 5,
   "metadata": {},
   "outputs": [
    {
     "name": "stderr",
     "output_type": "stream",
     "text": [
      "C:\\Users\\suren\\AppData\\Local\\Temp\\ipykernel_5548\\649986794.py:5: DeprecationWarning: The 'warn' function is deprecated, use 'warning' instead\n",
      "  logging.warn(\"warning message\")\n",
      "WARNING:root:warning message\n",
      "ERROR:root:error message\n",
      "CRITICAL:root:Critical logs are also kept by default on the logger\n"
     ]
    }
   ],
   "source": [
    "##speciying leverage of logs using the string\n",
    "logging.basicConfig(level=\"debug\")   ##In first step we specified log level by number and now we will specify logs with string\n",
    "\n",
    "logging.debug(\"deubg message\")\n",
    "logging.warn(\"warning message\")\n",
    "logging.info(\"information message\")\n",
    "logging.error(\"error message\")\n",
    "logging.critical(\"Critical logs are also kept by default on the logger\")"
   ]
  },
  {
   "cell_type": "code",
   "execution_count": 6,
   "metadata": {},
   "outputs": [
    {
     "name": "stderr",
     "output_type": "stream",
     "text": [
      "C:\\Users\\suren\\AppData\\Local\\Temp\\ipykernel_5548\\2894454104.py:6: DeprecationWarning: The 'warn' function is deprecated, use 'warning' instead\n",
      "  logging.warn(\"This is warning message of the log\")\n",
      "WARNING:root:This is warning message of the log\n",
      "ERROR:root:This is the error message of the logs\n",
      "CRITICAL:root:Critical logs are also kept by default on the logger\n"
     ]
    }
   ],
   "source": [
    "##Now we will store logs in the log file\n",
    "logging.basicConfig(level=10, filename=\"log.log\",filemode=\"w\")\n",
    "\n",
    "logging.debug(\"This is the debug message\")\n",
    "logging.info(\"This is information messsage\")\n",
    "logging.warn(\"This is warning message of the log\")\n",
    "logging.error(\"This is the error message of the logs\")\n",
    "logging.critical(\"Critical logs are also kept by default on the logger\")"
   ]
  },
  {
   "cell_type": "code",
   "execution_count": null,
   "metadata": {},
   "outputs": [],
   "source": []
  }
 ],
 "metadata": {
  "kernelspec": {
   "display_name": "Python 3",
   "language": "python",
   "name": "python3"
  },
  "language_info": {
   "codemirror_mode": {
    "name": "ipython",
    "version": 3
   },
   "file_extension": ".py",
   "mimetype": "text/x-python",
   "name": "python",
   "nbconvert_exporter": "python",
   "pygments_lexer": "ipython3",
   "version": "3.12.4"
  }
 },
 "nbformat": 4,
 "nbformat_minor": 2
}
