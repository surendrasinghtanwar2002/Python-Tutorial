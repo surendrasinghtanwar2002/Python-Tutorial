{
 "cells": [
  {
   "cell_type": "code",
   "execution_count": 1,
   "metadata": {},
   "outputs": [],
   "source": [
    "                                ## The sub() function replaces the matches with the text of your choice ##\n",
    "\n",
    "                                            ##It will return the updated string only\n",
    "import re"
   ]
  },
  {
   "cell_type": "code",
   "execution_count": 4,
   "metadata": {},
   "outputs": [
    {
     "name": "stdout",
     "output_type": "stream",
     "text": [
      "This is the result of the txt1: My_name_is_surendra\n",
      "<class 'str'>\n"
     ]
    },
    {
     "name": "stderr",
     "output_type": "stream",
     "text": [
      "<>:3: SyntaxWarning: invalid escape sequence '\\s'\n",
      "<>:3: SyntaxWarning: invalid escape sequence '\\s'\n",
      "C:\\Users\\suren\\AppData\\Local\\Temp\\ipykernel_20240\\2068199905.py:3: SyntaxWarning: invalid escape sequence '\\s'\n",
      "  txt1_result = re.sub(\"\\s\",\"_\",txt1)\n"
     ]
    }
   ],
   "source": [
    "txt1 = \"My name is surendra\"\n",
    "\n",
    "txt1_result = re.sub(\"\\s\",\"_\",txt1)\n",
    "\n",
    "print(f\"This is the result of the txt1: {txt1_result}\")\n",
    "\n",
    "print(type(txt1_result))"
   ]
  },
  {
   "cell_type": "code",
   "execution_count": 6,
   "metadata": {},
   "outputs": [
    {
     "name": "stdout",
     "output_type": "stream",
     "text": [
      "This is the updated result of the string:- Mera class is 12th b \n"
     ]
    }
   ],
   "source": [
    "txt2 = \"My class is 12th b\"\n",
    "\n",
    "txt2_result  = re.sub(\"My\",\"Mera\",txt2)\n",
    "\n",
    "print(f\"This is the updated result of the string:- {txt2_result} \")"
   ]
  },
  {
   "cell_type": "code",
   "execution_count": 8,
   "metadata": {},
   "outputs": [
    {
     "name": "stdout",
     "output_type": "stream",
     "text": [
      "This is the actual data of the txt3 is:- Hacker#is#the only one community who can control anything\n"
     ]
    },
    {
     "name": "stderr",
     "output_type": "stream",
     "text": [
      "<>:3: SyntaxWarning: invalid escape sequence '\\s'\n",
      "<>:3: SyntaxWarning: invalid escape sequence '\\s'\n",
      "C:\\Users\\suren\\AppData\\Local\\Temp\\ipykernel_20240\\2977240357.py:3: SyntaxWarning: invalid escape sequence '\\s'\n",
      "  txt3_result = re.sub(\"\\s\",\"#\",txt3,2)                               ##We control the number of replacement by specifying the count parameter\n"
     ]
    }
   ],
   "source": [
    "txt3 = \"Hacker is the only one community who can control anything\"\n",
    "\n",
    "txt3_result = re.sub(\"\\s\",\"#\",txt3,2)                               ##We control the number of replacement by specifying the count parameter\n",
    "\n",
    "print(f\"This is the actual data of the txt3 is:- {txt3_result}\")"
   ]
  },
  {
   "cell_type": "code",
   "execution_count": 9,
   "metadata": {},
   "outputs": [
    {
     "name": "stdout",
     "output_type": "stream",
     "text": [
      "This is the result of the txt3:- Hacker%is%the%only%one%community%who%can%control%anything\n"
     ]
    },
    {
     "name": "stderr",
     "output_type": "stream",
     "text": [
      "<>:1: SyntaxWarning: invalid escape sequence '\\s'\n",
      "<>:1: SyntaxWarning: invalid escape sequence '\\s'\n",
      "C:\\Users\\suren\\AppData\\Local\\Temp\\ipykernel_20240\\1556627760.py:1: SyntaxWarning: invalid escape sequence '\\s'\n",
      "  txt4_result = re.sub(\"\\s\",\"%\",txt3)\n"
     ]
    }
   ],
   "source": [
    "txt4_result = re.sub(\"\\s\",\"%\",txt3)\n",
    "\n",
    "print(f\"This is the result of the txt3:- {txt4_result}\")"
   ]
  }
 ],
 "metadata": {
  "kernelspec": {
   "display_name": "Python 3",
   "language": "python",
   "name": "python3"
  },
  "language_info": {
   "codemirror_mode": {
    "name": "ipython",
    "version": 3
   },
   "file_extension": ".py",
   "mimetype": "text/x-python",
   "name": "python",
   "nbconvert_exporter": "python",
   "pygments_lexer": "ipython3",
   "version": "3.12.4"
  }
 },
 "nbformat": 4,
 "nbformat_minor": 2
}
