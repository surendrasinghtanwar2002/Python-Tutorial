{
 "cells": [
  {
   "cell_type": "code",
   "execution_count": 1,
   "metadata": {},
   "outputs": [],
   "source": [
    "# Python has a built-in package called re, which can be used to work with Regular Expressions #\n",
    "\n",
    "import  re"
   ]
  },
  {
   "cell_type": "code",
   "execution_count": 3,
   "metadata": {},
   "outputs": [
    {
     "name": "stdout",
     "output_type": "stream",
     "text": [
      "['ai', 'ai']\n"
     ]
    }
   ],
   "source": [
    "## Findall() method in python  (This method will find the character from the entire string and return a list)\n",
    "txt = \"The rain in the Spain\"\n",
    "x = re.findall(\"ai\",txt)\n",
    "print(x)"
   ]
  },
  {
   "cell_type": "code",
   "execution_count": 5,
   "metadata": {},
   "outputs": [
    {
     "name": "stdout",
     "output_type": "stream",
     "text": [
      "This is your actual value:-  ['r', 'r', 'r']\n"
     ]
    }
   ],
   "source": [
    "## Findall() method in python\n",
    "my_text = \"Surendra Singh Tanwar\"\n",
    "y = re.findall(\"r\",my_text)\n",
    "print(f\"This is your actual value:-  {y}\")"
   ]
  },
  {
   "cell_type": "code",
   "execution_count": 18,
   "metadata": {},
   "outputs": [
    {
     "name": "stdout",
     "output_type": "stream",
     "text": [
      "This is your actual data 2015 Apr  2 14:25:06 switch1 %ETHPORT-5-IF_DOWN_INTERFACE_REMOVED: Interface Ethernet5/1 is down (Interface removed)\n",
      "2015 May 18 12:43:15 switch2 %ETHPORT-5-IF_DOWN_LINK_FAILURE: Interface Ethernet1/4 is down (Link failure)\n",
      "2015 May 18 12:43:15 switch3 %ETHPORT-5-IF_DOWN_LINK_FAILURE: Interface Ethernet1/4 is down (Link failure)\n",
      "2015 May 18 12:43:15 switch4 %ETHPORT-5-IF_DOWN_LINK_FAILURE: Interface Ethernet1/4 is down (Link failure)\n",
      "2015 May 18 12:43:15 switch6 %ETHPORT-5-IF_DOWN_LINK_FAILURE: Interface Ethernet1/4 is down (Link failure)\n",
      "2015 May 18 12:43:15 router1 %ETHPORT-5-IF_DOWN_LINK_FAILURE: Interface Ethernet1/4 is down (Link failure)\n",
      "2015 Apr  2 14:25:06 router2 %ETHPORT-5-IF_DOWN_INTERFACE_REMOVED: Interface Ethernet5/1 is down (Interface removed)\n",
      "2015 Apr  2 14:25:06 router3 %ETHPORT-5-IF_DOWN_INTERFACE_REMOVED: Interface Ethernet5/1 is down (Interface removed)\n",
      "2015 Apr  2 14:25:06 router4 %ETHPORT-5-IF_DOWN_INTERFACE_REMOVED: Interface Ethernet5/1 is down (Interface removed)\n",
      "2015 Apr  2 14:25:06 router5 %ETHPORT-5-IF_DOWN_INTERFACE_REMOVED: Interface Ethernet5/1 is down (Interface removed)\n",
      "2015 Apr  2 14:25:06 router9 %ETHPORT-5-IF_DOWN_INTERFACE_REMOVED: Interface Ethernet5/1 is down (Interface removed)\n",
      "2015 Apr  2 14:25:06 router10 %ETHPORT-5-IF_DOWN_INTERFACE_REMOVED: Interface Ethernet5/1 is down (Interface removed)\n",
      "2015 May 18 12:43:15 switch2 %ETHPORT-5-IF_DOWN_LINK_FAILURE: Interface Ethernet1/4 is down (Link failure)\n",
      "2015 Apr  2 14:25:06 switch1 %ETHPORT-5-IF_DOWN_INTERFACE_REMOVED: Interface Ethernet5/1 is down (Interface removed)\n",
      "2015 May 18 12:43:15 ISP-RTR2 %ETHPORT-5-IF_DOWN_LINK_FAILURE: Interface Ethernet1/4 is down (Link failure)\n",
      "2015 Apr  2 14:25:06 switch1 %ETHPORT-5-IF_DOWN_INTERFACE_REMOVED: Interface Ethernet5/1 is down (Interface removed)\n",
      "2015 May 18 12:43:15 switch2 %ETHPORT-5-IF_DOWN_LINK_FAILURE: Interface Ethernet1/4 is down (Link failure)\n",
      "2015 Apr  2 14:25:06 ISP-RTR1 %ETHPORT-5-IF_DOWN_INTERFACE_REMOVED: Interface Ethernet5/1 is down (Interface removed)\n",
      "2015 May 18 12:43:15 isp_switch2 %ETHPORT-5-IF_DOWN_LINK_FAILURE: \n",
      "2015 Apr  2 14:25:06 switch1 %ETHPORT-5-IF_DOWN_INTERFACE_REMOVED: Interface Ethernet5/1 is down (Interface removed)\n"
     ]
    }
   ],
   "source": [
    "                                    ## Opening a text file from the folder ##\n",
    "with open(\"syslog.txt\",\"r\") as f:\n",
    "    x= f.read()\n",
    "\n",
    "print(f\"This is your actual data {x}\")"
   ]
  },
  {
   "cell_type": "code",
   "execution_count": 20,
   "metadata": {},
   "outputs": [
    {
     "name": "stdout",
     "output_type": "stream",
     "text": [
      "['2015 May', '2015 May', '2015 May', '2015 May', '2015 May', '2015 May', '2015 May', '2015 May', '2015 May']\n"
     ]
    }
   ],
   "source": [
    "data  = re.findall(\"2015 May\",x)\n",
    "print(data)"
   ]
  },
  {
   "cell_type": "code",
   "execution_count": 25,
   "metadata": {},
   "outputs": [
    {
     "name": "stdout",
     "output_type": "stream",
     "text": [
      "We are finding a specific word from the syslog ['Link failure', 'Link failure', 'Link failure', 'Link failure', 'Link failure', 'Link failure', 'Link failure', 'Link failure']\n"
     ]
    }
   ],
   "source": [
    "my_next_data = re.findall(\"Link failure\",x)\n",
    "\n",
    "print(f\"We are finding a specific word from the syslog {my_next_data}\")"
   ]
  },
  {
   "cell_type": "code",
   "execution_count": 29,
   "metadata": {},
   "outputs": [
    {
     "name": "stdout",
     "output_type": "stream",
     "text": [
      "This is the result of the actual data ['uren']\n"
     ]
    }
   ],
   "source": [
    "my_name = \"Surendra\"                                                                    ##This is the actual data\n",
    "\n",
    "find_word = \"uren\"                                                                  ## This is the string which i need from the actual data\n",
    "\n",
    "result = re.findall(find_word,my_name)   ##Here we are running our findall method on the string\n",
    "\n",
    "print(f\"This is the result of the actual data {result}\")\n",
    "\n"
   ]
  }
 ],
 "metadata": {
  "kernelspec": {
   "display_name": "Python 3",
   "language": "python",
   "name": "python3"
  },
  "language_info": {
   "codemirror_mode": {
    "name": "ipython",
    "version": 3
   },
   "file_extension": ".py",
   "mimetype": "text/x-python",
   "name": "python",
   "nbconvert_exporter": "python",
   "pygments_lexer": "ipython3",
   "version": "3.12.4"
  }
 },
 "nbformat": 4,
 "nbformat_minor": 2
}
