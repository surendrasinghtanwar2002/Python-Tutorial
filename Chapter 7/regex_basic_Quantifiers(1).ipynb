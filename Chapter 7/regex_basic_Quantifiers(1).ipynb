{
 "cells": [
  {
   "cell_type": "code",
   "execution_count": 20,
   "metadata": {},
   "outputs": [],
   "source": [
    "                                                                ##  Regex quantifiers ##\n",
    "#Regex quantifiers are used to specify how many times a pattern should occur. \n",
    "#They help in defining the exact number of occurrences or range of occurrences of a pattern in a string"
   ]
  },
  {
   "cell_type": "code",
   "execution_count": 21,
   "metadata": {},
   "outputs": [],
   "source": [
    "import re"
   ]
  },
  {
   "cell_type": "code",
   "execution_count": 22,
   "metadata": {},
   "outputs": [
    {
     "name": "stdout",
     "output_type": "stream",
     "text": [
      "This is the result of pattern 1 :- ['a', '', 'aaa', '', 'aaaaaa', '', 'aaaaaaaaaaaaaaaa', '', '', '', '', '', 'aaa', '']\n"
     ]
    }
   ],
   "source": [
    "#* (Asterisk) Matches 0 or more occurrences of the preceding element.\n",
    "Matches= \"a,aaa,aaaaaa,aaaaaaaaaaaaaaaa, ,b,aaa\"\n",
    "\n",
    "pattern1 = re.compile(r\"a*\",re.IGNORECASE)\n",
    "\n",
    "pattern1_result = re.findall(pattern1,Matches)\n",
    "\n",
    "print(f\"This is the result of pattern 1 :- {pattern1_result}\")"
   ]
  },
  {
   "cell_type": "code",
   "execution_count": 28,
   "metadata": {},
   "outputs": [
    {
     "name": "stdout",
     "output_type": "stream",
     "text": [
      "This is the resulf of pattern2:- ['a', 'aaa', 'aaaaaa', 'aaaaaaaaaaaaaaaa', 'a', 'aaa']\n"
     ]
    }
   ],
   "source": [
    "#+ (Plus) Matches 1 or more occurrences of the preceding element.\n",
    "Matches2 = \"a,aaa,aaaaaa,aaaaaaaaaaaaaaaa, , ab,aaa\"\n",
    "\n",
    "pattern2 = re.compile(r\"a+\",re.IGNORECASE)\n",
    "\n",
    "pattern2_result = re.findall(pattern2,Matches2)\n",
    "\n",
    "print(f\"This is the resulf of pattern2:- {pattern2_result}\")"
   ]
  },
  {
   "cell_type": "code",
   "execution_count": 35,
   "metadata": {},
   "outputs": [
    {
     "name": "stdout",
     "output_type": "stream",
     "text": [
      "This is the resulf of pattern2:- ['a', 'aaa', 'aaaaaa', 'aaaaaaaaaaaaaaaa', 'ab', 'aaa']\n"
     ]
    }
   ],
   "source": [
    "#? (Question Mark) Matches 0 or 1 occurrence of the preceding element.\n",
    "Matches2 = \"a,aaa,aaaaaa,aaaaaaaaaaaaaaaa, , ab,aaa\"\n",
    "\n",
    "pattern2 = re.compile(r\"a+b?\",re.IGNORECASE)\n",
    "\n",
    "pattern2_result = re.findall(pattern2,Matches2)\n",
    "\n",
    "print(f\"This is the resulf of pattern2:- {pattern2_result}\")"
   ]
  },
  {
   "cell_type": "code",
   "execution_count": 44,
   "metadata": {},
   "outputs": [
    {
     "name": "stdout",
     "output_type": "stream",
     "text": [
      "<re.Match object; span=(6, 10), match='aaaa'>\n",
      "<re.Match object; span=(13, 17), match='aaaa'>\n",
      "<re.Match object; span=(17, 21), match='aaaa'>\n",
      "<re.Match object; span=(21, 25), match='aaaa'>\n",
      "<re.Match object; span=(25, 29), match='aaaa'>\n"
     ]
    }
   ],
   "source": [
    "#{n} (Exact Number) Matches exactly n occurrences of the preceding element.\n",
    "Matches2 = \"a,aaa,aaaaaa,aaaaaaaaaaaaaaaa, , ab,aaa\"\n",
    "pattern2 = re.compile(r\"a{4}\",re.IGNORECASE)\n",
    "\n",
    "pattern2_result = re.finditer(pattern2,Matches2)\n",
    "\n",
    "for items in pattern2_result:\n",
    "    print(items)"
   ]
  },
  {
   "cell_type": "code",
   "execution_count": 47,
   "metadata": {},
   "outputs": [
    {
     "name": "stdout",
     "output_type": "stream",
     "text": [
      "This is the output of pattern3_result <re.Match object; span=(2, 5), match='aaa'>\n",
      "This is the output of pattern3_result <re.Match object; span=(6, 12), match='aaaaaa'>\n",
      "This is the output of pattern3_result <re.Match object; span=(13, 29), match='aaaaaaaaaaaaaaaa'>\n",
      "This is the output of pattern3_result <re.Match object; span=(36, 39), match='aaa'>\n"
     ]
    }
   ],
   "source": [
    "#{n,} (At Least n) Matches n or more occurrences of the preceding element.\n",
    "Matches2 = \"a,aaa,aaaaaa,aaaaaaaaaaaaaaaa, , ab,aaa\"\n",
    "pattern3 = re.compile(r\"a{2,}\",re.IGNORECASE)\n",
    "\n",
    "pattern3_result = re.finditer(pattern3,Matches2)\n",
    "\n",
    "for items in pattern3_result:\n",
    "    print(f\"This is the output of pattern3_result {items}\")"
   ]
  },
  {
   "cell_type": "code",
   "execution_count": 50,
   "metadata": {},
   "outputs": [
    {
     "name": "stdout",
     "output_type": "stream",
     "text": [
      "This is the ouput of pattern4_result:- <re.Match object; span=(0, 5), match='aaaaA'>\n",
      "This is the ouput of pattern4_result:- <re.Match object; span=(7, 12), match='aaaaa'>\n",
      "This is the ouput of pattern4_result:- <re.Match object; span=(12, 17), match='aaaaA'>\n",
      "This is the ouput of pattern4_result:- <re.Match object; span=(17, 21), match='aaaa'>\n",
      "This is the ouput of pattern4_result:- <re.Match object; span=(22, 24), match='aa'>\n",
      "This is the ouput of pattern4_result:- <re.Match object; span=(25, 30), match='aaaAa'>\n",
      "This is the ouput of pattern4_result:- <re.Match object; span=(32, 35), match='AAA'>\n",
      "This is the ouput of pattern4_result:- <re.Match object; span=(36, 41), match='aaaaa'>\n",
      "This is the ouput of pattern4_result:- <re.Match object; span=(41, 46), match='aaaaA'>\n",
      "This is the ouput of pattern4_result:- <re.Match object; span=(46, 51), match='aaAaa'>\n",
      "This is the ouput of pattern4_result:- <re.Match object; span=(65, 68), match='aaa'>\n"
     ]
    }
   ],
   "source": [
    "#{n,m} (Between n and m) Matches between n and m occurrences of the preceding element.\n",
    "Matches2 = \"aaaaAa,aaaaaaaaaAaaaa,aa,aaaAaa,AAA,aaaaaaaaaAaaAaaa, , , , , ab,aaa,a\"\n",
    "pattern4 = re.compile(r\"a{2,5}\",re.IGNORECASE)\n",
    "\n",
    "pattern4_result = re.finditer(pattern4,Matches2)\n",
    "\n",
    "for items in pattern4_result:\n",
    "    print(f\"This is the ouput of pattern4_result:- {items}\")"
   ]
  },
  {
   "cell_type": "code",
   "execution_count": null,
   "metadata": {},
   "outputs": [],
   "source": []
  }
 ],
 "metadata": {
  "kernelspec": {
   "display_name": "Python 3",
   "language": "python",
   "name": "python3"
  },
  "language_info": {
   "codemirror_mode": {
    "name": "ipython",
    "version": 3
   },
   "file_extension": ".py",
   "mimetype": "text/x-python",
   "name": "python",
   "nbconvert_exporter": "python",
   "pygments_lexer": "ipython3",
   "version": "3.12.4"
  }
 },
 "nbformat": 4,
 "nbformat_minor": 2
}
