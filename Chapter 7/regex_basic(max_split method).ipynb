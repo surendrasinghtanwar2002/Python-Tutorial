{
 "cells": [
  {
   "cell_type": "code",
   "execution_count": 1,
   "metadata": {},
   "outputs": [],
   "source": [
    "                # You can control the number of occurrences by specifying the maxsplit parameter:\n",
    "\n",
    "#By using the split method we can split the entire string if any special character is between their word like spaces comma etc\n",
    "import re"
   ]
  },
  {
   "cell_type": "code",
   "execution_count": 12,
   "metadata": {},
   "outputs": [
    {
     "name": "stdout",
     "output_type": "stream",
     "text": [
      "['The', 'rain', 'in', 'the', 'Spain']\n"
     ]
    },
    {
     "name": "stderr",
     "output_type": "stream",
     "text": [
      "<>:2: SyntaxWarning: invalid escape sequence '\\s'\n",
      "<>:2: SyntaxWarning: invalid escape sequence '\\s'\n",
      "C:\\Users\\suren\\AppData\\Local\\Temp\\ipykernel_13996\\3444762517.py:2: SyntaxWarning: invalid escape sequence '\\s'\n",
      "  x = re.split(\"\\s\",txt)\n"
     ]
    }
   ],
   "source": [
    "txt = \"The rain in the Spain\"\n",
    "x = re.split(\"\\s\",txt)\n",
    "print(x)"
   ]
  },
  {
   "cell_type": "code",
   "execution_count": 22,
   "metadata": {},
   "outputs": [
    {
     "name": "stdout",
     "output_type": "stream",
     "text": [
      "This is your final data:- ['Harish', 'mohan', 'jagdish', 'kamlesh', 'rakesh', 'harish', 'sohan', 'mohan', 'rohan', 'jogan', 'marina', 'kite', 'dogs'] \n"
     ]
    },
    {
     "name": "stderr",
     "output_type": "stream",
     "text": [
      "<>:2: SyntaxWarning: invalid escape sequence '\\s'\n",
      "<>:2: SyntaxWarning: invalid escape sequence '\\s'\n",
      "C:\\Users\\suren\\AppData\\Local\\Temp\\ipykernel_13996\\1067404546.py:2: SyntaxWarning: invalid escape sequence '\\s'\n",
      "  final_Result = re.split(\"\\s\",txt1)\n"
     ]
    }
   ],
   "source": [
    "txt1 = \"Harish mohan jagdish kamlesh rakesh harish sohan mohan rohan jogan marina kite dogs\"\n",
    "final_Result = re.split(\"\\s\",txt1)\n",
    "\n",
    "print(f\"This is your final data:- {final_Result} \")"
   ]
  },
  {
   "cell_type": "code",
   "execution_count": 23,
   "metadata": {},
   "outputs": [
    {
     "name": "stdout",
     "output_type": "stream",
     "text": [
      "This is the result of the data:- ['My', 'name', 'is', 'surendra', 'singh', 'tanwar']\n"
     ]
    }
   ],
   "source": [
    "txt2 = \"My,name,is,surendra,singh,tanwar\"\n",
    "\n",
    "txt2_Result = re.split(\",\",txt2)\n",
    "\n",
    "print(f\"This is the result of the data:- {txt2_Result}\")"
   ]
  }
 ],
 "metadata": {
  "kernelspec": {
   "display_name": "Python 3",
   "language": "python",
   "name": "python3"
  },
  "language_info": {
   "codemirror_mode": {
    "name": "ipython",
    "version": 3
   },
   "file_extension": ".py",
   "mimetype": "text/x-python",
   "name": "python",
   "nbconvert_exporter": "python",
   "pygments_lexer": "ipython3",
   "version": "3.12.4"
  }
 },
 "nbformat": 4,
 "nbformat_minor": 2
}
