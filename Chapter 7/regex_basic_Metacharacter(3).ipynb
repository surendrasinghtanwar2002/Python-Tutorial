{
 "cells": [
  {
   "cell_type": "code",
   "execution_count": 1,
   "metadata": {},
   "outputs": [],
   "source": [
    "                                                ## Metacharacters are sepcial characters or symbol which have special meaning in python ##\n",
    "\n",
    "#(1) \".\" It is used to include all character but expect new line\n",
    "\n",
    "#(2) \"+\" It is used to find One or more occurrences in the string\n",
    "\n",
    "#(3) \"*\" It is used to find Zero or more occurrences\n",
    "\n",
    "import re\n"
   ]
  },
  {
   "cell_type": "code",
   "execution_count": 5,
   "metadata": {},
   "outputs": [
    {
     "name": "stdout",
     "output_type": "stream",
     "text": [
      "This will return a list:- ['s', 'u', 'r', 'e', 'n', 'd', 'r', 'a', ' ', '\\\\', 'n', ' ', 'i', 's', ' ', 'l', 'i', 'v', 'i', 'n', 'g', ' ', 'a', 't', ' ', 'h', 'i', 's', ' ', 'h', 'o', 'm', 'e', ' ', 'a', 'n', 'd', ' ', ' ', 'h', 'i', 's', ' ', 'e', 'm', 'a', 'i', 'l', ' ', 'a', 'd', 'd', 'r', 'e', 's', 's', ' ', 'i', 's', ' ', 'y', 'a', 'm', 'a', 'l', '1', '2', '3', '@', 'g', 'm', 'a', 'i', 'l', '.', 'c', 'o', 'm', ' ', 'a', 'n', 'd', ' ', 't', 'h', 'e', 'r', 'e', ' ', 'i', 's', ' ', 'a', 'n', 'o', 't', 'h', 'e', 'r', ' ', 'g', 'u', 'y', ' ', 'n', 'a', 'm', 'e', ' ', 'm', 'o', 'h', 'a', 'n', ' ', 'w', 'h', 'o', \"'\", 's', ' ', 'e', 'm', 'a', 'i', 'l', ' ', 'a', 'd', 'd', 'r', 'e', 's', 's', ' ', 'i', 's', ' ', 'm', 'o', 'h', 'a', 'n', '@', 'g', 'm', 'a', 'i', 'l', '.', 'c', 'o', 'm', ' ']\n"
     ]
    }
   ],
   "source": [
    "                                                        #(1) \".\" symbol practise \n",
    "\n",
    "common_data = \"surendra \\\\n is living at his home and \\n his email address is yamal123@gmail.com and there is another guy name mohan who's email address is mohan@gmail.com \\n\"\n",
    "\n",
    "pattern = r\".\"                              ##it is used to find every character but except \\n\n",
    "\n",
    "result1 = re.findall(pattern,common_data)\n",
    "\n",
    "print(f\"This will return a list:- {result1}\")"
   ]
  },
  {
   "cell_type": "code",
   "execution_count": 7,
   "metadata": {},
   "outputs": [
    {
     "name": "stdout",
     "output_type": "stream",
     "text": [
      "This will return the list ['.', '.']\n"
     ]
    }
   ],
   "source": [
    "pattern2 = r\"\\.\"\n",
    "\n",
    "result2 = re.findall(pattern2,common_data)\n",
    "\n",
    "print(f\"This will return the list {result2}\")"
   ]
  },
  {
   "cell_type": "code",
   "execution_count": 11,
   "metadata": {},
   "outputs": [
    {
     "name": "stdout",
     "output_type": "stream",
     "text": [
      "This will return the list ['yamal123@gmail.com', 'mohan@gmail.com']\n"
     ]
    }
   ],
   "source": [
    "                                                        #(2) \"+\" symbol practise\n",
    "pattern3 = r\"\\w+@\\w+\\.\\w+\"\n",
    "\n",
    "result3 = re.findall(pattern3,common_data)\n",
    "\n",
    "print(f\"This will return the list {result3}\")"
   ]
  },
  {
   "cell_type": "code",
   "execution_count": 32,
   "metadata": {},
   "outputs": [
    {
     "name": "stdout",
     "output_type": "stream",
     "text": [
      "This will return the list ['he', 'he', 'heeeee', 'he', 'he', 'he', 'he']\n"
     ]
    }
   ],
   "source": [
    "my_Data = \"hello hel hheeeeehelo hheheheloo\"\n",
    "\n",
    "pattern4 = r\"he+\"                                               #(This will work like h one time and e one or more than one time)\n",
    "\n",
    "result4 = re.findall(pattern4,my_Data)\n",
    "\n",
    "print(f\"This will return the list {result4}\")"
   ]
  },
  {
   "cell_type": "code",
   "execution_count": 42,
   "metadata": {},
   "outputs": [
    {
     "name": "stdout",
     "output_type": "stream",
     "text": [
      "['he', 'he', 'he', 'he', 'he']\n"
     ]
    }
   ],
   "source": [
    "my_Data = \"hello hel hheeeeehelo heheheheheheheheheheheloo\"\n",
    "\n",
    "pattern5 =  r\"(he)+\"\n",
    "\n",
    "result5 = re.findall(pattern5,my_Data)\n",
    "\n",
    "print(result5)"
   ]
  },
  {
   "cell_type": "code",
   "execution_count": 45,
   "metadata": {},
   "outputs": [
    {
     "name": "stdout",
     "output_type": "stream",
     "text": [
      "['96', '94', '95', '966', '975', '941', '525', '956', '142', '365', '971', '256', '412', '25', '65', '96']\n"
     ]
    }
   ],
   "source": [
    "my_number = \"96 94 95 966 975 941 525 956 142 365 971 256 412 25 65 96\"\n",
    "\n",
    "pattern6 = r\"\\d+\"                                   ##It will add one until it find the next value is also a number\n",
    "\n",
    "result6 = re.findall(pattern6,my_number)\n",
    "\n",
    "print(result6)"
   ]
  },
  {
   "cell_type": "code",
   "execution_count": 48,
   "metadata": {},
   "outputs": [
    {
     "name": "stdout",
     "output_type": "stream",
     "text": [
      "['96', '94', '95', '96', '97', '94', '52', '95', '14', '36', '97', '25', '41', '25', '65', '96']\n"
     ]
    }
   ],
   "source": [
    "pattern7 = r\"\\d{2}\"                                 ## It will find only those pattern which have only two number not more than two or less two\n",
    "\n",
    "result7 = re.findall(pattern7,my_number)\n",
    "\n",
    "print(result7)"
   ]
  },
  {
   "cell_type": "code",
   "execution_count": 50,
   "metadata": {},
   "outputs": [
    {
     "name": "stdout",
     "output_type": "stream",
     "text": [
      "This will return the list ['surendra@gmail.com', 'persoanl@gmail.com']\n"
     ]
    }
   ],
   "source": [
    "my_data1 = \"Surendra is a guy who is working for a tech company and his company email address is surendra@gmail.com and his personal mail address is persoanl@gmail.com\"\n",
    "\n",
    "pattern8 = r\"\\w+@\\w+\\.\\w+\"\n",
    "\n",
    "result8 = re.findall(pattern8,my_data1)\n",
    "\n",
    "print(f\"This will return the list {result8}\")"
   ]
  },
  {
   "cell_type": "code",
   "execution_count": 52,
   "metadata": {},
   "outputs": [
    {
     "name": "stdout",
     "output_type": "stream",
     "text": [
      "['abbb', 'abc', 'bc', 'bb', 'abcccc']\n"
     ]
    }
   ],
   "source": [
    "                                                              #(2) \"*\" symbol practise \n",
    "my_Data = \"ab abbb abc ab bc bb abcccc ab\"\n",
    "\n",
    "pattern9 = r\"a*b+\\w+\"\n",
    "\n",
    "result9 = re.findall(pattern9,my_Data)\n",
    "\n",
    "print(result9)                                  ##It will find return the list"
   ]
  },
  {
   "cell_type": "code",
   "execution_count": 59,
   "metadata": {},
   "outputs": [
    {
     "name": "stdout",
     "output_type": "stream",
     "text": [
      "['my', 'personal', 'data', 'is', 'being', 'encrypted', 'in', 'bit', 'algorithm', 'which', 'cannot', 'be', 'hacked', 'until', 'and', 'unless', 'you', 'have', 'a', 'decryption', 'key', 'and', 'this', 'decryption', 'key', 'is', 'hided', 'in', 'the', 'place']\n"
     ]
    }
   ],
   "source": [
    "my_personal_Data = \"my personal data is being encrypted in 256 bit algorithm which cannot be hacked until and unless you have a decryption key and this decryption key is hided in the place\"\n",
    "\n",
    "pattern10 = r\"[a-zA-z]+\"\n",
    "\n",
    "result10 = re.findall(pattern10,my_personal_Data)\n",
    "\n",
    "print(result10)"
   ]
  },
  {
   "cell_type": "code",
   "execution_count": 62,
   "metadata": {},
   "outputs": [
    {
     "name": "stdout",
     "output_type": "stream",
     "text": [
      "This will return the list ['Kamlesh', 'Rakesh', 'Jagdish', 'Harish', 'mishal']\n"
     ]
    }
   ],
   "source": [
    "my_data1 = \"Surendra Kamlesh Rakesh Jagdish Harish mishal mesh kite rik\"\n",
    "\n",
    "pattern11 = r\"\\w+a+\\w+\"\n",
    "\n",
    "result11 = re.findall(pattern11,my_data1)\n",
    "\n",
    "print(f\"This will return the list {result11}\")"
   ]
  },
  {
   "cell_type": "code",
   "execution_count": 65,
   "metadata": {},
   "outputs": [
    {
     "name": "stdout",
     "output_type": "stream",
     "text": [
      "This is your result:- Kamlesh\n",
      "This is your result:- Rakesh\n",
      "This is your result:- Jagdish\n",
      "This is your result:- Harish\n",
      "This is your result:- Manish\n",
      "This is your result:- Chandrapal\n",
      "This is your result:- Shubhanshu\n"
     ]
    }
   ],
   "source": [
    "my_data_2 = \"Kamlesh Rakesh Jagdish Suresh Harish Manish Chandrapal Shubhanshu\"\n",
    "\n",
    "pattern12 = r\"\\w+s*a+\\w+\"\n",
    "\n",
    "result12 = re.findall(pattern12,my_data_2)\n",
    "\n",
    "##Calling the for loop\n",
    "for items in result12:\n",
    "    print(f\"This is your result:- {items}\")"
   ]
  },
  {
   "cell_type": "code",
   "execution_count": 68,
   "metadata": {},
   "outputs": [
    {
     "name": "stdout",
     "output_type": "stream",
     "text": [
      "This will return the iter object:- <callable_iterator object at 0x000001A134A4F5E0>\n",
      "This is the result of items <re.Match object; span=(0, 1), match='S'>\n",
      "This is the result of items <re.Match object; span=(1, 1), match=''>\n",
      "This is the result of items <re.Match object; span=(2, 2), match=''>\n",
      "This is the result of items <re.Match object; span=(3, 3), match=''>\n",
      "This is the result of items <re.Match object; span=(4, 4), match=''>\n",
      "This is the result of items <re.Match object; span=(5, 5), match=''>\n",
      "This is the result of items <re.Match object; span=(6, 6), match=''>\n",
      "This is the result of items <re.Match object; span=(7, 7), match=''>\n",
      "This is the result of items <re.Match object; span=(8, 8), match=''>\n",
      "This is the result of items <re.Match object; span=(9, 10), match='S'>\n",
      "This is the result of items <re.Match object; span=(10, 10), match=''>\n",
      "This is the result of items <re.Match object; span=(11, 11), match=''>\n",
      "This is the result of items <re.Match object; span=(12, 12), match=''>\n",
      "This is the result of items <re.Match object; span=(13, 13), match=''>\n",
      "This is the result of items <re.Match object; span=(14, 14), match=''>\n",
      "This is the result of items <re.Match object; span=(15, 15), match=''>\n",
      "This is the result of items <re.Match object; span=(16, 16), match=''>\n",
      "This is the result of items <re.Match object; span=(17, 17), match=''>\n",
      "This is the result of items <re.Match object; span=(18, 18), match=''>\n",
      "This is the result of items <re.Match object; span=(19, 19), match=''>\n",
      "This is the result of items <re.Match object; span=(20, 20), match=''>\n",
      "This is the result of items <re.Match object; span=(21, 21), match=''>\n",
      "This is the result of items <re.Match object; span=(22, 22), match=''>\n",
      "This is the result of items <re.Match object; span=(23, 23), match=''>\n",
      "This is the result of items <re.Match object; span=(24, 24), match=''>\n",
      "This is the result of items <re.Match object; span=(25, 25), match=''>\n",
      "This is the result of items <re.Match object; span=(26, 26), match=''>\n",
      "This is the result of items <re.Match object; span=(27, 28), match='s'>\n",
      "This is the result of items <re.Match object; span=(28, 28), match=''>\n",
      "This is the result of items <re.Match object; span=(29, 29), match=''>\n",
      "This is the result of items <re.Match object; span=(30, 30), match=''>\n",
      "This is the result of items <re.Match object; span=(31, 31), match=''>\n",
      "This is the result of items <re.Match object; span=(32, 32), match=''>\n",
      "This is the result of items <re.Match object; span=(33, 33), match=''>\n",
      "This is the result of items <re.Match object; span=(34, 34), match=''>\n",
      "This is the result of items <re.Match object; span=(35, 35), match=''>\n",
      "This is the result of items <re.Match object; span=(36, 36), match=''>\n",
      "This is the result of items <re.Match object; span=(37, 37), match=''>\n",
      "This is the result of items <re.Match object; span=(38, 38), match=''>\n",
      "This is the result of items <re.Match object; span=(39, 39), match=''>\n",
      "This is the result of items <re.Match object; span=(40, 40), match=''>\n",
      "This is the result of items <re.Match object; span=(41, 41), match=''>\n",
      "This is the result of items <re.Match object; span=(42, 42), match=''>\n",
      "This is the result of items <re.Match object; span=(43, 43), match=''>\n",
      "This is the result of items <re.Match object; span=(44, 44), match=''>\n",
      "This is the result of items <re.Match object; span=(45, 45), match=''>\n",
      "This is the result of items <re.Match object; span=(46, 46), match=''>\n",
      "This is the result of items <re.Match object; span=(47, 47), match=''>\n",
      "This is the result of items <re.Match object; span=(48, 48), match=''>\n",
      "This is the result of items <re.Match object; span=(49, 49), match=''>\n",
      "This is the result of items <re.Match object; span=(50, 50), match=''>\n",
      "This is the result of items <re.Match object; span=(51, 51), match=''>\n",
      "This is the result of items <re.Match object; span=(52, 52), match=''>\n",
      "This is the result of items <re.Match object; span=(53, 53), match=''>\n",
      "This is the result of items <re.Match object; span=(54, 55), match='s'>\n",
      "This is the result of items <re.Match object; span=(55, 55), match=''>\n",
      "This is the result of items <re.Match object; span=(56, 56), match=''>\n"
     ]
    }
   ],
   "source": [
    "my_Data = \"Surendra Sameer Ritik Kamlesh Madhav Ragav Jatin Kamlesh\"\n",
    "\n",
    "pattern13 = r\"s*\"\n",
    "\n",
    "result13 = re.finditer(pattern13,my_Data,re.IGNORECASE)\n",
    "\n",
    "print(f\"This will return the iter object:- {result13}\")\n",
    "\n",
    "for items in result13:\n",
    "    print(f\"This is the result of items {items}\")\n"
   ]
  },
  {
   "cell_type": "code",
   "execution_count": 73,
   "metadata": {},
   "outputs": [
    {
     "name": "stdout",
     "output_type": "stream",
     "text": [
      "This will return the iter object ['S', '', '', '', '', '', '', '', '', 'S', '', '', '', '', '', '', '', '', '', '', '', '', '', '', '', '', '', 's', '', '', '', '', '', '', '', '', '', '', '', '', '', '', '', '', '', '', '', '', '', '', '', '', '', '', 's', '', '']\n",
      "This is your result:- S \n",
      "This is your result:-  \n",
      "This is your result:-  \n",
      "This is your result:-  \n",
      "This is your result:-  \n",
      "This is your result:-  \n",
      "This is your result:-  \n",
      "This is your result:-  \n",
      "This is your result:-  \n",
      "This is your result:- S \n",
      "This is your result:-  \n",
      "This is your result:-  \n",
      "This is your result:-  \n",
      "This is your result:-  \n",
      "This is your result:-  \n",
      "This is your result:-  \n",
      "This is your result:-  \n",
      "This is your result:-  \n",
      "This is your result:-  \n",
      "This is your result:-  \n",
      "This is your result:-  \n",
      "This is your result:-  \n",
      "This is your result:-  \n",
      "This is your result:-  \n",
      "This is your result:-  \n",
      "This is your result:-  \n",
      "This is your result:-  \n",
      "This is your result:- s \n",
      "This is your result:-  \n",
      "This is your result:-  \n",
      "This is your result:-  \n",
      "This is your result:-  \n",
      "This is your result:-  \n",
      "This is your result:-  \n",
      "This is your result:-  \n",
      "This is your result:-  \n",
      "This is your result:-  \n",
      "This is your result:-  \n",
      "This is your result:-  \n",
      "This is your result:-  \n",
      "This is your result:-  \n",
      "This is your result:-  \n",
      "This is your result:-  \n",
      "This is your result:-  \n",
      "This is your result:-  \n",
      "This is your result:-  \n",
      "This is your result:-  \n",
      "This is your result:-  \n",
      "This is your result:-  \n",
      "This is your result:-  \n",
      "This is your result:-  \n",
      "This is your result:-  \n",
      "This is your result:-  \n",
      "This is your result:-  \n",
      "This is your result:- s \n",
      "This is your result:-  \n",
      "This is your result:-  \n"
     ]
    }
   ],
   "source": [
    "pattern14 = r's*'\n",
    "\n",
    "result14 = re.findall(pattern14,my_Data,re.IGNORECASE)\n",
    "\n",
    "print(f\"This will return the iter object {result14}\")\n",
    "\n",
    "##Calling the for loop here \n",
    "for items in result14:\n",
    "    print(f\"This is your result:- {items} \")"
   ]
  }
 ],
 "metadata": {
  "kernelspec": {
   "display_name": "Python 3",
   "language": "python",
   "name": "python3"
  },
  "language_info": {
   "codemirror_mode": {
    "name": "ipython",
    "version": 3
   },
   "file_extension": ".py",
   "mimetype": "text/x-python",
   "name": "python",
   "nbconvert_exporter": "python",
   "pygments_lexer": "ipython3",
   "version": "3.12.4"
  }
 },
 "nbformat": 4,
 "nbformat_minor": 2
}
