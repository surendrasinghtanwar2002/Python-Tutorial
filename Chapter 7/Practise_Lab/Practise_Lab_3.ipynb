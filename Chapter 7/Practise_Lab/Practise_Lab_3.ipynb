{
 "cells": [
  {
   "cell_type": "code",
   "execution_count": 1,
   "metadata": {},
   "outputs": [],
   "source": [
    "                                                            ## Python MetaCharactes [ ]:- Represent a character class \n",
    "\n",
    "#Square Brackets ([]) represent a character class consisting of a set of characters that we wish to match. For example, the character class [abc] will match any single a, b, or c. \n",
    "\n",
    "import re"
   ]
  },
  {
   "cell_type": "code",
   "execution_count": 6,
   "metadata": {},
   "outputs": [
    {
     "name": "stdout",
     "output_type": "stream",
     "text": [
      "This is the regualar expression object given by finditer method <callable_iterator object at 0x00000225FE09E860>\n"
     ]
    }
   ],
   "source": [
    "                                                                        ##Finding a set of character using the character class and finditer method\n",
    "##Approach 1\n",
    "data = \"My name is surendra singh tanwar and I am learning a New topic which is called Python Regular Expression\"\n",
    "\n",
    "pattern = r\"[a-zA-Z0-9]\"\n",
    "\n",
    "result = re.finditer(pattern,data)\n",
    "\n",
    "print(f\"This is the regualar expression object given by finditer method {result}\")"
   ]
  },
  {
   "cell_type": "code",
   "execution_count": 8,
   "metadata": {},
   "outputs": [],
   "source": [
    "for values in result:\n",
    "    print(f\"This is actual data derieved from the iteration method:- {values}\")"
   ]
  },
  {
   "cell_type": "code",
   "execution_count": 14,
   "metadata": {},
   "outputs": [
    {
     "name": "stdout",
     "output_type": "stream",
     "text": [
      "This is the regex object derieved from the server <callable_iterator object at 0x00000225FE065450>\n"
     ]
    }
   ],
   "source": [
    "##Approach 2\n",
    "data1 = \"Tesal yearly revenu is $100 million dollar and no one can beat them because it is growing $100 million every year\"\n",
    "\n",
    "pattern1 = r\"[$,0-9]\"\n",
    "\n",
    "result1 = re.finditer(pattern1,data1)\n",
    "\n",
    "print(f\"This is the regex object derieved from the server {result1}\")"
   ]
  },
  {
   "cell_type": "code",
   "execution_count": 16,
   "metadata": {},
   "outputs": [],
   "source": [
    "for details in result1:\n",
    "    print(details)"
   ]
  },
  {
   "cell_type": "code",
   "execution_count": 20,
   "metadata": {},
   "outputs": [
    {
     "name": "stdout",
     "output_type": "stream",
     "text": [
      "This is actual data of the server <callable_iterator object at 0x00000225FE102620>\n"
     ]
    }
   ],
   "source": [
    "#Approach 3\n",
    "data2 = \"The datacenter of the google is having more then 5 petabyte of data which is huge database due to google is offering 15 gb free storage to their user\"\n",
    "\n",
    "pattern2 = r\"[A-Z0-9]\"\n",
    "\n",
    "result2 = re.finditer(pattern2,data2)\n",
    "\n",
    "print(f\"This is actual data of the server {result2}\")"
   ]
  },
  {
   "cell_type": "code",
   "execution_count": 22,
   "metadata": {},
   "outputs": [],
   "source": [
    "for actual_data in result2:\n",
    "    print(f\"This is the result derieved from the server {actual_data}\")"
   ]
  },
  {
   "cell_type": "code",
   "execution_count": 29,
   "metadata": {},
   "outputs": [
    {
     "name": "stdout",
     "output_type": "stream",
     "text": [
      "This is the regular expression object derieved from finditer method <callable_iterator object at 0x00000225FE09FEB0>\n"
     ]
    }
   ],
   "source": [
    "data3 = \"Elon musk have gained more than 15 million pound every year and some time he cross more than 25 million still there is no perfect answer of it but still trying it\"\n",
    "\n",
    "pattern3 = r\"[^0-9^\\s]\"\n",
    "\n",
    "result3 = re.finditer(pattern3,data3)\n",
    "\n",
    "print(f\"This is the regular expression object derieved from finditer method {result3}\")"
   ]
  },
  {
   "cell_type": "code",
   "execution_count": 30,
   "metadata": {},
   "outputs": [
    {
     "name": "stdout",
     "output_type": "stream",
     "text": [
      "This is actual result of the server <re.Match object; span=(0, 1), match='E'>\n",
      "This is actual result of the server <re.Match object; span=(1, 2), match='l'>\n",
      "This is actual result of the server <re.Match object; span=(2, 3), match='o'>\n",
      "This is actual result of the server <re.Match object; span=(3, 4), match='n'>\n",
      "This is actual result of the server <re.Match object; span=(5, 6), match='m'>\n",
      "This is actual result of the server <re.Match object; span=(6, 7), match='u'>\n",
      "This is actual result of the server <re.Match object; span=(7, 8), match='s'>\n",
      "This is actual result of the server <re.Match object; span=(8, 9), match='k'>\n",
      "This is actual result of the server <re.Match object; span=(10, 11), match='h'>\n",
      "This is actual result of the server <re.Match object; span=(11, 12), match='a'>\n",
      "This is actual result of the server <re.Match object; span=(12, 13), match='v'>\n",
      "This is actual result of the server <re.Match object; span=(13, 14), match='e'>\n",
      "This is actual result of the server <re.Match object; span=(15, 16), match='g'>\n",
      "This is actual result of the server <re.Match object; span=(16, 17), match='a'>\n",
      "This is actual result of the server <re.Match object; span=(17, 18), match='i'>\n",
      "This is actual result of the server <re.Match object; span=(18, 19), match='n'>\n",
      "This is actual result of the server <re.Match object; span=(19, 20), match='e'>\n",
      "This is actual result of the server <re.Match object; span=(20, 21), match='d'>\n",
      "This is actual result of the server <re.Match object; span=(22, 23), match='m'>\n",
      "This is actual result of the server <re.Match object; span=(23, 24), match='o'>\n",
      "This is actual result of the server <re.Match object; span=(24, 25), match='r'>\n",
      "This is actual result of the server <re.Match object; span=(25, 26), match='e'>\n",
      "This is actual result of the server <re.Match object; span=(27, 28), match='t'>\n",
      "This is actual result of the server <re.Match object; span=(28, 29), match='h'>\n",
      "This is actual result of the server <re.Match object; span=(29, 30), match='a'>\n",
      "This is actual result of the server <re.Match object; span=(30, 31), match='n'>\n",
      "This is actual result of the server <re.Match object; span=(35, 36), match='m'>\n",
      "This is actual result of the server <re.Match object; span=(36, 37), match='i'>\n",
      "This is actual result of the server <re.Match object; span=(37, 38), match='l'>\n",
      "This is actual result of the server <re.Match object; span=(38, 39), match='l'>\n",
      "This is actual result of the server <re.Match object; span=(39, 40), match='i'>\n",
      "This is actual result of the server <re.Match object; span=(40, 41), match='o'>\n",
      "This is actual result of the server <re.Match object; span=(41, 42), match='n'>\n",
      "This is actual result of the server <re.Match object; span=(43, 44), match='p'>\n",
      "This is actual result of the server <re.Match object; span=(44, 45), match='o'>\n",
      "This is actual result of the server <re.Match object; span=(45, 46), match='u'>\n",
      "This is actual result of the server <re.Match object; span=(46, 47), match='n'>\n",
      "This is actual result of the server <re.Match object; span=(47, 48), match='d'>\n",
      "This is actual result of the server <re.Match object; span=(49, 50), match='e'>\n",
      "This is actual result of the server <re.Match object; span=(50, 51), match='v'>\n",
      "This is actual result of the server <re.Match object; span=(51, 52), match='e'>\n",
      "This is actual result of the server <re.Match object; span=(52, 53), match='r'>\n",
      "This is actual result of the server <re.Match object; span=(53, 54), match='y'>\n",
      "This is actual result of the server <re.Match object; span=(55, 56), match='y'>\n",
      "This is actual result of the server <re.Match object; span=(56, 57), match='e'>\n",
      "This is actual result of the server <re.Match object; span=(57, 58), match='a'>\n",
      "This is actual result of the server <re.Match object; span=(58, 59), match='r'>\n",
      "This is actual result of the server <re.Match object; span=(60, 61), match='a'>\n",
      "This is actual result of the server <re.Match object; span=(61, 62), match='n'>\n",
      "This is actual result of the server <re.Match object; span=(62, 63), match='d'>\n",
      "This is actual result of the server <re.Match object; span=(64, 65), match='s'>\n",
      "This is actual result of the server <re.Match object; span=(65, 66), match='o'>\n",
      "This is actual result of the server <re.Match object; span=(66, 67), match='m'>\n",
      "This is actual result of the server <re.Match object; span=(67, 68), match='e'>\n",
      "This is actual result of the server <re.Match object; span=(69, 70), match='t'>\n",
      "This is actual result of the server <re.Match object; span=(70, 71), match='i'>\n",
      "This is actual result of the server <re.Match object; span=(71, 72), match='m'>\n",
      "This is actual result of the server <re.Match object; span=(72, 73), match='e'>\n",
      "This is actual result of the server <re.Match object; span=(74, 75), match='h'>\n",
      "This is actual result of the server <re.Match object; span=(75, 76), match='e'>\n",
      "This is actual result of the server <re.Match object; span=(77, 78), match='c'>\n",
      "This is actual result of the server <re.Match object; span=(78, 79), match='r'>\n",
      "This is actual result of the server <re.Match object; span=(79, 80), match='o'>\n",
      "This is actual result of the server <re.Match object; span=(80, 81), match='s'>\n",
      "This is actual result of the server <re.Match object; span=(81, 82), match='s'>\n",
      "This is actual result of the server <re.Match object; span=(83, 84), match='m'>\n",
      "This is actual result of the server <re.Match object; span=(84, 85), match='o'>\n",
      "This is actual result of the server <re.Match object; span=(85, 86), match='r'>\n",
      "This is actual result of the server <re.Match object; span=(86, 87), match='e'>\n",
      "This is actual result of the server <re.Match object; span=(88, 89), match='t'>\n",
      "This is actual result of the server <re.Match object; span=(89, 90), match='h'>\n",
      "This is actual result of the server <re.Match object; span=(90, 91), match='a'>\n",
      "This is actual result of the server <re.Match object; span=(91, 92), match='n'>\n",
      "This is actual result of the server <re.Match object; span=(96, 97), match='m'>\n",
      "This is actual result of the server <re.Match object; span=(97, 98), match='i'>\n",
      "This is actual result of the server <re.Match object; span=(98, 99), match='l'>\n",
      "This is actual result of the server <re.Match object; span=(99, 100), match='l'>\n",
      "This is actual result of the server <re.Match object; span=(100, 101), match='i'>\n",
      "This is actual result of the server <re.Match object; span=(101, 102), match='o'>\n",
      "This is actual result of the server <re.Match object; span=(102, 103), match='n'>\n",
      "This is actual result of the server <re.Match object; span=(104, 105), match='s'>\n",
      "This is actual result of the server <re.Match object; span=(105, 106), match='t'>\n",
      "This is actual result of the server <re.Match object; span=(106, 107), match='i'>\n",
      "This is actual result of the server <re.Match object; span=(107, 108), match='l'>\n",
      "This is actual result of the server <re.Match object; span=(108, 109), match='l'>\n",
      "This is actual result of the server <re.Match object; span=(110, 111), match='t'>\n",
      "This is actual result of the server <re.Match object; span=(111, 112), match='h'>\n",
      "This is actual result of the server <re.Match object; span=(112, 113), match='e'>\n",
      "This is actual result of the server <re.Match object; span=(113, 114), match='r'>\n",
      "This is actual result of the server <re.Match object; span=(114, 115), match='e'>\n",
      "This is actual result of the server <re.Match object; span=(116, 117), match='i'>\n",
      "This is actual result of the server <re.Match object; span=(117, 118), match='s'>\n",
      "This is actual result of the server <re.Match object; span=(119, 120), match='n'>\n",
      "This is actual result of the server <re.Match object; span=(120, 121), match='o'>\n",
      "This is actual result of the server <re.Match object; span=(122, 123), match='p'>\n",
      "This is actual result of the server <re.Match object; span=(123, 124), match='e'>\n",
      "This is actual result of the server <re.Match object; span=(124, 125), match='r'>\n",
      "This is actual result of the server <re.Match object; span=(125, 126), match='f'>\n",
      "This is actual result of the server <re.Match object; span=(126, 127), match='e'>\n",
      "This is actual result of the server <re.Match object; span=(127, 128), match='c'>\n",
      "This is actual result of the server <re.Match object; span=(128, 129), match='t'>\n",
      "This is actual result of the server <re.Match object; span=(130, 131), match='a'>\n",
      "This is actual result of the server <re.Match object; span=(131, 132), match='n'>\n",
      "This is actual result of the server <re.Match object; span=(132, 133), match='s'>\n",
      "This is actual result of the server <re.Match object; span=(133, 134), match='w'>\n",
      "This is actual result of the server <re.Match object; span=(134, 135), match='e'>\n",
      "This is actual result of the server <re.Match object; span=(135, 136), match='r'>\n",
      "This is actual result of the server <re.Match object; span=(137, 138), match='o'>\n",
      "This is actual result of the server <re.Match object; span=(138, 139), match='f'>\n",
      "This is actual result of the server <re.Match object; span=(140, 141), match='i'>\n",
      "This is actual result of the server <re.Match object; span=(141, 142), match='t'>\n",
      "This is actual result of the server <re.Match object; span=(143, 144), match='b'>\n",
      "This is actual result of the server <re.Match object; span=(144, 145), match='u'>\n",
      "This is actual result of the server <re.Match object; span=(145, 146), match='t'>\n",
      "This is actual result of the server <re.Match object; span=(147, 148), match='s'>\n",
      "This is actual result of the server <re.Match object; span=(148, 149), match='t'>\n",
      "This is actual result of the server <re.Match object; span=(149, 150), match='i'>\n",
      "This is actual result of the server <re.Match object; span=(150, 151), match='l'>\n",
      "This is actual result of the server <re.Match object; span=(151, 152), match='l'>\n",
      "This is actual result of the server <re.Match object; span=(153, 154), match='t'>\n",
      "This is actual result of the server <re.Match object; span=(154, 155), match='r'>\n",
      "This is actual result of the server <re.Match object; span=(155, 156), match='y'>\n",
      "This is actual result of the server <re.Match object; span=(156, 157), match='i'>\n",
      "This is actual result of the server <re.Match object; span=(157, 158), match='n'>\n",
      "This is actual result of the server <re.Match object; span=(158, 159), match='g'>\n",
      "This is actual result of the server <re.Match object; span=(160, 161), match='i'>\n",
      "This is actual result of the server <re.Match object; span=(161, 162), match='t'>\n"
     ]
    }
   ],
   "source": [
    "for data_value in result3:\n",
    "    print(f\"This is actual result of the server {data_value}\")"
   ]
  },
  {
   "cell_type": "code",
   "execution_count": null,
   "metadata": {},
   "outputs": [],
   "source": []
  }
 ],
 "metadata": {
  "kernelspec": {
   "display_name": "Python 3",
   "language": "python",
   "name": "python3"
  },
  "language_info": {
   "codemirror_mode": {
    "name": "ipython",
    "version": 3
   },
   "file_extension": ".py",
   "mimetype": "text/x-python",
   "name": "python",
   "nbconvert_exporter": "python",
   "pygments_lexer": "ipython3",
   "version": "3.12.4"
  }
 },
 "nbformat": 4,
 "nbformat_minor": 2
}
