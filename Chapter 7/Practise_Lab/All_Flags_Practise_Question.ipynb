{
 "cells": [
  {
   "cell_type": "code",
   "execution_count": 241,
   "metadata": {},
   "outputs": [],
   "source": [
    "                                                        ## This all are practise set question ##\n",
    "import re"
   ]
  },
  {
   "cell_type": "code",
   "execution_count": 242,
   "metadata": {},
   "outputs": [
    {
     "name": "stdout",
     "output_type": "stream",
     "text": [
      "['Contact@Example.com', 'support@example.org']\n"
     ]
    }
   ],
   "source": [
    "#Question 1 Write a regex to find the email domain “example.com” in the text, regardless of case.\n",
    "text1 = \"My email is Contact@Example.com and support@example.org\"\n",
    "\n",
    "pattern1 = r\"\\w+@\\w+.\\w+\"\n",
    "\n",
    "pattern1_result = re.findall(pattern1,text1,re.IGNORECASE)\n",
    "\n",
    "print(pattern1_result)"
   ]
  },
  {
   "cell_type": "code",
   "execution_count": 243,
   "metadata": {},
   "outputs": [
    {
     "name": "stdout",
     "output_type": "stream",
     "text": [
      "This is the result:- ['Fox', 'fox']\n"
     ]
    }
   ],
   "source": [
    "#Question 2 Write a regex to match the word “fox” regardless of its case.\n",
    "text2 = \"The quick Brown Fox jumps over the lazy Dog, fox is very bad animal.\"\n",
    "\n",
    "pattern2 = r\"fox\"\n",
    "\n",
    "pattern2_result = re.findall(pattern2,text2,re.IGNORECASE)\n",
    "\n",
    "print(f\"This is the result:- {pattern2_result}\")"
   ]
  },
  {
   "cell_type": "code",
   "execution_count": 244,
   "metadata": {},
   "outputs": [
    {
     "name": "stdout",
     "output_type": "stream",
     "text": [
      "hi, hi, hi, hi\n"
     ]
    }
   ],
   "source": [
    "##Question 3 Write a regex to replace all occurrences of “hello” with “hi” in a case-insensitive manner.\n",
    "text3= \"Hello, hello, HeLLo, hElLo\"\n",
    "\n",
    "pattern3 = re.compile(r\"hello\",re.IGNORECASE)\n",
    "\n",
    "pattern3_result = re.sub(pattern3,\"hi\",text3)\n",
    "\n",
    "print(pattern3_result)\n"
   ]
  },
  {
   "cell_type": "code",
   "execution_count": 245,
   "metadata": {},
   "outputs": [
    {
     "name": "stdout",
     "output_type": "stream",
     "text": [
      "This is the result of pattern4:- ['12/DEC/2024', '05/May/2025']\n"
     ]
    }
   ],
   "source": [
    "##Question 4 Write a regex to match dates in the format dd/Month/yyyy, regardless of the case of the month.\n",
    "text4 = \"The event will be held on 12/DEC/2024 and 05/May/2025.\"\n",
    "\n",
    "pattern4 = re.compile(r\"\\d{2}/\\w+/\\d{4}\",re.IGNORECASE)\n",
    "\n",
    "pattern4_result = re.findall(pattern4,text4)\n",
    "\n",
    "print(f\"This is the result of pattern4:- {pattern4_result}\")\n"
   ]
  },
  {
   "cell_type": "code",
   "execution_count": 246,
   "metadata": {},
   "outputs": [
    {
     "name": "stdout",
     "output_type": "stream",
     "text": [
      "This is the result of pattern5:- ['Error: File not found']\n"
     ]
    }
   ],
   "source": [
    "##Question 5 Write a regex to match lines that start with “Error” in the text\n",
    "text5 = \"Error: File not found\\nWarning: Low disk space\\nInfo: Update completed\"\n",
    "\n",
    "pattern5 = re.compile(r\"^Error.*\",re.MULTILINE)\n",
    "\n",
    "pattern5_result = re.findall(pattern5,text5)\n",
    "\n",
    "print(f\"This is the result of pattern5:- {pattern5_result}\")"
   ]
  },
  {
   "cell_type": "code",
   "execution_count": 247,
   "metadata": {},
   "outputs": [
    {
     "name": "stdout",
     "output_type": "stream",
     "text": [
      "['Line one ends with a period.']\n"
     ]
    }
   ],
   "source": [
    "##Question 6 Write a regex to match lines that end with a period.\n",
    "\n",
    "text6 = \"Line one ends with a period.\\nLine two ends with an exclamation mark!\\nLine three ends with a question mark?\"\n",
    "\n",
    "pattern6 = re.compile(r\".*\\.$\",re.MULTILINE)\n",
    "\n",
    "pattern6_Result = re.findall(pattern6,text6)\n",
    "\n",
    "print(pattern6_Result)"
   ]
  },
  {
   "cell_type": "code",
   "execution_count": 248,
   "metadata": {},
   "outputs": [
    {
     "name": "stdout",
     "output_type": "stream",
     "text": [
      "This is the result of pattern 7:- ['important', 'important']\n"
     ]
    }
   ],
   "source": [
    "#Question 7 Write a regex to find lines containing the word \"important\"\n",
    "text7= \"First line\\nSecond line with important info\\nThird line important\"\n",
    "\n",
    "pattern7 = re.compile(r\"important\",re.MULTILINE | re.DOTALL)\n",
    "\n",
    "pattern7_result = re.findall(pattern7,text7)\n",
    "\n",
    "print(f\"This is the result of pattern 7:- {pattern7_result}\")"
   ]
  },
  {
   "cell_type": "code",
   "execution_count": 249,
   "metadata": {},
   "outputs": [
    {
     "name": "stdout",
     "output_type": "stream",
     "text": [
      "This is the result of pattern 8:- ['#', '#']\n",
      "This is the counting of #:- 2\n"
     ]
    }
   ],
   "source": [
    "#Question 8 Write a regex to count how many lines start with “#”.\n",
    "text8 =\"#Header\\nData\\n#Footer\"\n",
    "\n",
    "pattern8 = re.compile(r\"#\",re.MULTILINE | re.DOTALL)\n",
    "\n",
    "pattern8_result = re.findall(pattern8,text8)\n",
    "\n",
    "print(f\"This is the result of pattern 8:- {pattern8_result}\")\n",
    "\n",
    "print(f\"This is the counting of #:- {pattern8_result.count(\"#\")}\")"
   ]
  },
  {
   "cell_type": "code",
   "execution_count": 250,
   "metadata": {},
   "outputs": [
    {
     "name": "stdout",
     "output_type": "stream",
     "text": [
      "This is the result of pattern9:- ['BEGIN\\nThis is a text\\nspanning multiple lines\\nEND']\n"
     ]
    }
   ],
   "source": [
    "#Question 9 Write a regex to match text between “BEGIN” and “END”, including newlines.\n",
    "text9 = \"BEGIN\\nThis is a text\\nspanning multiple lines\\nEND\"\n",
    "\n",
    "pattern9 = re.compile(r\"^Begin.*END\",re.MULTILINE | re.IGNORECASE | re.DOTALL)\n",
    "\n",
    "pattern9_result = re.findall(pattern9,text9)\n",
    "\n",
    "print(f\"This is the result of pattern9:- {pattern9_result}\")"
   ]
  },
  {
   "cell_type": "code",
   "execution_count": 251,
   "metadata": {},
   "outputs": [
    {
     "name": "stdout",
     "output_type": "stream",
     "text": [
      "This is the result of pattern 10 ['/* This is a multi-line comment\\nspanning multiple lines\\n*/']\n"
     ]
    }
   ],
   "source": [
    "#Question 10 Write a regex to extract the multi-line comment.\n",
    "text10 = \"/* This is a multi-line comment\\nspanning multiple lines\\n*/\"\n",
    "\n",
    "pattern10 = re.compile(r\".+\",re.DOTALL)\n",
    "\n",
    "pattern10_result = re.findall(pattern10,text10)\n",
    "\n",
    "print(f\"This is the result of pattern 10 {pattern10_result}\")"
   ]
  },
  {
   "cell_type": "code",
   "execution_count": 252,
   "metadata": {},
   "outputs": [
    {
     "name": "stdout",
     "output_type": "stream",
     "text": [
      "This is the result of pattern 11 ['<start>\\nContent\\nspanning multiple lines\\n<end']\n"
     ]
    }
   ],
   "source": [
    "#Question 11 Write a regex to match the content between <start> and <end> tags, including newlines.\n",
    "text11= \"<start>\\nContent\\nspanning multiple lines\\n<end>\"\n",
    "pattern11 = re.compile(r\"^<start>.*end\",re.DOTALL|re.IGNORECASE)\n",
    "\n",
    "pattern11_result = re.findall(pattern11,text11)\n",
    "\n",
    "print(f\"This is the result of pattern 11 {pattern11_result}\")"
   ]
  },
  {
   "cell_type": "code",
   "execution_count": 253,
   "metadata": {},
   "outputs": [
    {
     "name": "stdout",
     "output_type": "stream",
     "text": [
      "This is the result of pattern 12 ['paragraph', 'paragraph', 'paragraph']\n"
     ]
    }
   ],
   "source": [
    "#Question 12 Write a regex to find all paragraphs in the text.\n",
    "text12 = \"First paragraph.\\n\\nSecond paragraph spans\\nmultiple lines.\\n\\nThird paragraph.\"\n",
    "\n",
    "pattern12 = re.compile(r\"paragraph\",re.DOTALL| re.IGNORECASE)\n",
    "\n",
    "pattern12_result = re.findall(pattern12,text12)\n",
    "\n",
    "print(f\"This is the result of pattern 12 {pattern12_result}\")"
   ]
  },
  {
   "cell_type": "code",
   "execution_count": 254,
   "metadata": {},
   "outputs": [
    {
     "name": "stdout",
     "output_type": "stream",
     "text": [
      "['12-25-2024']\n"
     ]
    }
   ],
   "source": [
    "#Question 13 Write a regex to match dates in the format MM-DD-YYYY, with comments explaining each part.\n",
    "text13 = \"The date is 12-25-2024.\"\n",
    "pattern13 = re.compile(\n",
    "    r\"\\d+-\\d+-\\d+(?# This is the format to find the pattern in the string)\" ,re.VERBOSE\n",
    "    )\n",
    "pattern13_result = re.findall(pattern13,text13)\n",
    "\n",
    "print(pattern13_result)"
   ]
  },
  {
   "cell_type": "code",
   "execution_count": 255,
   "metadata": {},
   "outputs": [
    {
     "name": "stdout",
     "output_type": "stream",
     "text": [
      "This is the result of the string ['(123) 456-7890', '(987) 654-3210']\n"
     ]
    }
   ],
   "source": [
    "#Question 14 Write a regex to match phone numbers in the format (123) 456-7890, with comments explaining the pattern.\n",
    "text14 = \"Call me at (123) 456-7890 or (987) 654-3210.\"\n",
    "pattern14 = re.compile(r\"\\(\\d+\\)\\s\\d+-\\d+(?#This method is used to find the format of number)\",re.VERBOSE)\n",
    "\n",
    "pattern14_result = re.findall(pattern14,text14)\n",
    "print(f\"This is the result of the string {pattern14_result}\")"
   ]
  },
  {
   "cell_type": "code",
   "execution_count": 256,
   "metadata": {},
   "outputs": [
    {
     "name": "stdout",
     "output_type": "stream",
     "text": [
      "Yes this is right password\n"
     ]
    }
   ],
   "source": [
    "#Question 15 Write a regex for a password meeting the specified requirements, with comments explaining each requirement.\n",
    "pattern15=re.compile(r\"^(?=.*[A-Za-z])(?=.*\\d)(?=.*[@$!%*#?&])[A-Za-z\\d@$!%*#?&]{8,}$ (?#This is the regex password pattern)\",re.VERBOSE)\n",
    "\n",
    "# user_pass = input(\"Enter your password:- \")\n",
    "pattern15_result = re.findall(pattern15,user_pass)\n",
    "if pattern15_result:\n",
    "    print(\"Yes this is right password\")\n",
    "else:\n",
    "    print(\"Wrong password\")"
   ]
  },
  {
   "cell_type": "code",
   "execution_count": 257,
   "metadata": {},
   "outputs": [],
   "source": [
    "# #Question 16 Write a regex to match IP addresses (e.g., 192.168.0.1), with detailed comments explaining the octet pattern.\n",
    "# text16 = \"Server IPs: 192.168.0.1, 10.0.0.1\"\n",
    "# pattern16 = re.compile(r\"\\d+\\.\\d+\\.\\d+\\.\\d+\")\n",
    "# user_input = input(\"Enter your ip address:- \").strip()\n",
    "# # pattern16_result = re.findall(pattern16,user_input)\n",
    "# if pattern16_result:\n",
    "#     print(f\"Your give ip address is right {pattern16_result}\")\n",
    "# else:\n",
    "#     print(f\"Your given ip address is not right {pattern16_result}\")"
   ]
  },
  {
   "cell_type": "code",
   "execution_count": 273,
   "metadata": {},
   "outputs": [
    {
     "name": "stdout",
     "output_type": "stream",
     "text": [
      "['é', 'ï', 'ñ']\n"
     ]
    }
   ],
   "source": [
    "#Question 17 Write a regex to match words that contain only ASCII characters.\n",
    "text17 = \"Here are some words: café, naïve, jalapeño\"\n",
    "\n",
    "pattern17 = r\"\\w+\"\n",
    "\n",
    "pattern17_result = re.findall(pattern17,text17,re.ASCII)\n",
    "\n",
    "print(pattern17_result)"
   ]
  },
  {
   "cell_type": "code",
   "execution_count": 277,
   "metadata": {},
   "outputs": [
    {
     "name": "stdout",
     "output_type": "stream",
     "text": [
      "['é', 'ï', 'ñ']\n"
     ]
    }
   ],
   "source": [
    "#Question 18 Write a regex to replace all non-ASCII characters with a question mark.\n",
    "text18 = \"Sample text with some non-ASCII characters: café, naïve, jalapeño\"\n",
    "\n",
    "pattern18 = r\"[^\\x00-\\x7F]\"             ##Non ascii character\n",
    "\n",
    "# pattern19_result = re.sub(pattern18,\"?\",text18,re.ASCII)\n",
    "pattern18_result = re.findall(pattern18,text18,re.ASCII)\n",
    "\n",
    "print(pattern18_result)"
   ]
  },
  {
   "cell_type": "code",
   "execution_count": 279,
   "metadata": {},
   "outputs": [
    {
     "name": "stdout",
     "output_type": "stream",
     "text": [
      "['١', '٢', '٣']\n"
     ]
    }
   ],
   "source": [
    "##Question 19 Write a regex to find sequences of ASCII digits, excluding Unicode digits.\n",
    "text19 = \"Numbers: 123, 456, 789, ١٢٣\"\n",
    "pattern19 = r\"[^\\x00-\\x7F]\"             ##non ascii character\n",
    "\n",
    "##pattern20_result \n",
    "pattern20_result = re.findall(pattern19,text19,re.ASCII)\n",
    "\n",
    "print(pattern20_result)"
   ]
  },
  {
   "cell_type": "code",
   "execution_count": 281,
   "metadata": {},
   "outputs": [
    {
     "name": "stdout",
     "output_type": "stream",
     "text": [
      "['Words', 'hello', '123abc', 'Hola']\n"
     ]
    }
   ],
   "source": [
    "##Question 20 Write a regex to find all alphanumeric words that consist of ASCII characters only.\n",
    "text20 = \"Words: hello, 123abc, ¡Hola!, 你好\"\n",
    "pattern20 = r\"[a-zA-Z0-9_]+\"\n",
    "\n",
    "pattern20_result = re.findall(pattern20,text20,re.ASCII)\n",
    "\n",
    "print(pattern20_result)"
   ]
  },
  {
   "cell_type": "code",
   "execution_count": null,
   "metadata": {},
   "outputs": [],
   "source": []
  }
 ],
 "metadata": {
  "kernelspec": {
   "display_name": "Python 3",
   "language": "python",
   "name": "python3"
  },
  "language_info": {
   "codemirror_mode": {
    "name": "ipython",
    "version": 3
   },
   "file_extension": ".py",
   "mimetype": "text/x-python",
   "name": "python",
   "nbconvert_exporter": "python",
   "pygments_lexer": "ipython3",
   "version": "3.12.4"
  }
 },
 "nbformat": 4,
 "nbformat_minor": 2
}
