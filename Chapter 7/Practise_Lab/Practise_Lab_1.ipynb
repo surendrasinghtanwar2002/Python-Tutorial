{
 "cells": [
  {
   "cell_type": "markdown",
   "metadata": {},
   "source": []
  },
  {
   "cell_type": "code",
   "execution_count": 31,
   "metadata": {},
   "outputs": [],
   "source": [
    "                                                    ## Search method is used to find a single pattern from the string and if there is no pattern avilable in string it will return none ##\n",
    "import re"
   ]
  },
  {
   "cell_type": "code",
   "execution_count": 34,
   "metadata": {},
   "outputs": [
    {
     "name": "stdout",
     "output_type": "stream",
     "text": [
      "<re.Match object; span=(106, 112), match='python'>\n"
     ]
    }
   ],
   "source": [
    "data = \"The is the most significant langauge which can perform any task easy with the help of various modules and python is easy to learn\"\n",
    "\n",
    "pattern = \"python\"\n",
    "\n",
    "print(re.search(pattern,data))"
   ]
  },
  {
   "cell_type": "code",
   "execution_count": 37,
   "metadata": {},
   "outputs": [
    {
     "name": "stdout",
     "output_type": "stream",
     "text": [
      "<re.Match object; span=(86, 92), match='python'>\n"
     ]
    }
   ],
   "source": [
    "data = \"I love only one langauge which is javascript before but nowadays i can also work with python due to regular practise of python\"\n",
    "\n",
    "pattern = \"python\"\n",
    "\n",
    "print(re.search(pattern,data))"
   ]
  },
  {
   "cell_type": "code",
   "execution_count": 39,
   "metadata": {},
   "outputs": [
    {
     "name": "stdout",
     "output_type": "stream",
     "text": [
      "<re.Match object; span=(116, 125), match='123456789'>\n"
     ]
    }
   ],
   "source": [
    "my_personal_data = \"My name is surendra singh tanwar and i have completed my bachelors from the poornima university and my mobile no is 123456789 and my email is fake@gmail.com\"\n",
    "\n",
    "pattern = \"123456789\"\n",
    "\n",
    "print(re.search(pattern,my_personal_data))"
   ]
  },
  {
   "cell_type": "code",
   "execution_count": 43,
   "metadata": {},
   "outputs": [
    {
     "name": "stdout",
     "output_type": "stream",
     "text": [
      "['Rohan', 'Rohan']\n"
     ]
    }
   ],
   "source": [
    "                                                        ## Find method will return all the pattern from the string in the form of list and when no pattern is found it will return the empty list ##\n",
    "my_Data = \"Rohan, Sohan, Jagdish, Kamlesh, Rakesh, Rohan, Jackson\"\n",
    "\n",
    "my_pattern = \"Rohan\"\n",
    "\n",
    "print(re.findall(my_pattern,my_Data))\n"
   ]
  },
  {
   "cell_type": "code",
   "execution_count": 45,
   "metadata": {},
   "outputs": [
    {
     "name": "stdout",
     "output_type": "stream",
     "text": [
      "['Kamlesh']\n"
     ]
    }
   ],
   "source": [
    "my_second_pattern = \"Kamlesh\"\n",
    "\n",
    "print(re.findall(my_second_pattern,my_Data))"
   ]
  },
  {
   "cell_type": "code",
   "execution_count": 57,
   "metadata": {},
   "outputs": [
    {
     "name": "stdout",
     "output_type": "stream",
     "text": [
      "Found the pattern ['SURENDRA', 'SURENDRA']\n"
     ]
    }
   ],
   "source": [
    "student_name = \"SURENDRA, rakesh, kamlesh, jagdish, sohan, mohan, rohan, SURENDRA, kite, manish, shubhanshu, devansh\"\n",
    "\n",
    "my_pattern = \"SURENDRA\"\n",
    "\n",
    "result = re.findall(my_pattern,student_name)\n",
    "\n",
    "if result:\n",
    "    print(f\"Found the pattern {result}\")\n",
    "\n",
    "else:\n",
    "    print(\"Not Found the pattern\")\n"
   ]
  },
  {
   "cell_type": "code",
   "execution_count": 58,
   "metadata": {},
   "outputs": [
    {
     "name": "stdout",
     "output_type": "stream",
     "text": [
      "Found the pattern ['SURENDRA', 'SURENDRA']\n"
     ]
    }
   ],
   "source": [
    "result1 = re.search(my_pattern,student_name,re.IGNORECASE)\n",
    "\n",
    "if result:\n",
    "    print(f\"Found the pattern {result}\")\n",
    "\n",
    "else:\n",
    "    print(\"Not Found the pattern\")"
   ]
  },
  {
   "cell_type": "code",
   "execution_count": 60,
   "metadata": {},
   "outputs": [
    {
     "name": "stdout",
     "output_type": "stream",
     "text": [
      "<re.Match object; span=(0, 6), match='Python'>\n"
     ]
    }
   ],
   "source": [
    "data = \"Python is the best langauge which i have tried in past time\"\n",
    "\n",
    "pattern = \"python\"\n",
    "\n",
    "result = re.search(pattern,data,re.IGNORECASE)\n",
    "\n",
    "print(result)"
   ]
  },
  {
   "cell_type": "code",
   "execution_count": 62,
   "metadata": {},
   "outputs": [
    {
     "name": "stdout",
     "output_type": "stream",
     "text": [
      "This is the actual data of the string: <re.Match object; span=(0, 6), match='Python'>\n"
     ]
    }
   ],
   "source": [
    "## match() method is used to search for a pattern at the beginning of a string\n",
    "\n",
    "pattern = re.compile(r\"python\",re.IGNORECASE)\n",
    "\n",
    "data = \"Python is the one of the best language ever which i have ever seen\"\n",
    "\n",
    "match = re.match(pattern,data)\n",
    "\n",
    "print(f\"This is the actual data of the string: {match}\")"
   ]
  },
  {
   "cell_type": "code",
   "execution_count": 64,
   "metadata": {},
   "outputs": [
    {
     "name": "stdout",
     "output_type": "stream",
     "text": [
      "We have found the result\n"
     ]
    }
   ],
   "source": [
    "patter = re.compile(r\"python\",re.IGNORECASE)\n",
    "\n",
    "final_Result = re.match(patter,data)\n",
    "\n",
    "if final_Result:\n",
    "    print(\"We have found the result\")\n",
    "\n",
    "else:\n",
    "    print(\"We have not found the result\")"
   ]
  },
  {
   "cell_type": "code",
   "execution_count": 73,
   "metadata": {},
   "outputs": [
    {
     "name": "stdout",
     "output_type": "stream",
     "text": [
      "0\n",
      "3\n",
      "5\n"
     ]
    }
   ],
   "source": [
    "patter = re.compile(\"ab\")\n",
    "\n",
    "data = \"abaababa\"\n",
    "\n",
    "result = re.finditer(patter,data)\n",
    "\n",
    "for items in result:\n",
    "    print(items.start())"
   ]
  },
  {
   "cell_type": "code",
   "execution_count": null,
   "metadata": {},
   "outputs": [],
   "source": []
  }
 ],
 "metadata": {
  "kernelspec": {
   "display_name": "Python 3",
   "language": "python",
   "name": "python3"
  },
  "language_info": {
   "codemirror_mode": {
    "name": "ipython",
    "version": 3
   },
   "file_extension": ".py",
   "mimetype": "text/x-python",
   "name": "python",
   "nbconvert_exporter": "python",
   "pygments_lexer": "ipython3",
   "version": "3.12.4"
  }
 },
 "nbformat": 4,
 "nbformat_minor": 2
}
