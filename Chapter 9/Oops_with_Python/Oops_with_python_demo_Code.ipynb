{
 "cells": [
  {
   "cell_type": "code",
   "execution_count": 1,
   "metadata": {},
   "outputs": [
    {
     "name": "stdout",
     "output_type": "stream",
     "text": [
      "4\n",
      "4\n",
      "4\n"
     ]
    }
   ],
   "source": [
    "                                                    # Class Attributes\n",
    "\n",
    "class Car:\n",
    "    wheels = 4  # Class attribute\n",
    "\n",
    "# Accessing class attribute\n",
    "print(Car.wheels)  # Output: 4\n",
    "\n",
    "# Creating objects\n",
    "car1 = Car()\n",
    "car2 = Car()\n",
    "\n",
    "# Accessing class attribute via objects\n",
    "print(car1.wheels)  # Output: 4\n",
    "print(car2.wheels)  # Output: 4"
   ]
  },
  {
   "cell_type": "code",
   "execution_count": null,
   "metadata": {},
   "outputs": [],
   "source": [
    "                                                # Object (Instance) Attributes\n",
    "\n",
    "class Car:\n",
    "    def __init__(self, color):\n",
    "        self.color = color  # Object attribute\n",
    "\n",
    "# Creating objects with different object attributes\n",
    "car1 = Car(\"red\")\n",
    "car2 = Car(\"blue\")\n",
    "\n",
    "# Accessing object attributes\n",
    "print(car1.color)  # Output: red\n",
    "print(car2.color)  # Output: blue"
   ]
  },
  {
   "cell_type": "code",
   "execution_count": null,
   "metadata": {},
   "outputs": [],
   "source": [
    "# Class attributes belong to the class itself and are shared among all instances. Object attributes belong to specific instances.\n",
    "# Initialization: Class attributes are defined directly within the class, while object attributes are usually defined within the __init__ method or other instance methods.\n",
    "# Mutability: Modifying a class attribute affects all instances that haven't overridden the attribute. Modifying an object attribute only affects that specific object."
   ]
  }
 ],
 "metadata": {
  "kernelspec": {
   "display_name": "Python 3",
   "language": "python",
   "name": "python3"
  },
  "language_info": {
   "codemirror_mode": {
    "name": "ipython",
    "version": 3
   },
   "file_extension": ".py",
   "mimetype": "text/x-python",
   "name": "python",
   "nbconvert_exporter": "python",
   "pygments_lexer": "ipython3",
   "version": "3.12.5"
  }
 },
 "nbformat": 4,
 "nbformat_minor": 2
}
