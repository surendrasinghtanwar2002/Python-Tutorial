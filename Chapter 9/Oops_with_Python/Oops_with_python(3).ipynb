{
 "cells": [
  {
   "cell_type": "code",
   "execution_count": 5,
   "metadata": {},
   "outputs": [
    {
     "name": "stdout",
     "output_type": "stream",
     "text": [
      "////We created the object -------------------><__main__.Car object at 0x000001505D802600> <------------------------/////\n",
      "                        Car Name:-('Maruti',)                         \n",
      "                            Car Model:-800                            \n",
      "                           Car Color:-blak                            \n",
      "                             Car Size:-15                             \n",
      "                         Car Budget:-1500000                          \n",
      "                           Car Tire Size15                            \n",
      "In this stage we have created the Color for the ('Maruti',)\n",
      "In this stage we will assamble the entire thing name:('Maruti',) model:800 color:blak size:15 tire:15\n",
      "In this stage we will discuss about the budget 1500000\n"
     ]
    }
   ],
   "source": [
    "                                                        #(1) Create the class for the Car\n",
    "class Car:               #This is your actual class\n",
    "    welcome_message = \"Hello world\"                 ##This is my class based attributes\n",
    "    \n",
    "    ##Now we will create the constructor for the object\n",
    "    def __init__(self,car_name,car_model,car_color,car_size,car_budget,car_tire_size):\n",
    "        self.name = car_name\n",
    "        self.model = car_model                                      ##They all are object based attributes\n",
    "        self.color = car_color\n",
    "        self.size = car_size\n",
    "        self.budget = car_budget\n",
    "        self.tire = car_tire_size\n",
    "    \n",
    "                                                        #(2) Creating method for the object\n",
    "    ##First Method for assambling\n",
    "    def first__stage_assambling(self):\n",
    "        return f\"In this stage we have created the Color for the {self.name}\"\n",
    "\n",
    "    ##Second Method for assambling\n",
    "    def second_stage_assambling(self):\n",
    "        return f\"In this stage we will assamble the entire thing name:{self.name} model:{self.model} color:{self.color} size:{self.size} tire:{self.tire}\"\n",
    "    \n",
    "    ##Last method for budget discsusion\n",
    "    def budget_discussion(self):\n",
    "        return f\"In this stage we will discuss about the budget {self.budget}\"\n",
    "    \n",
    "\n",
    "\n",
    "\n",
    "                                                     #(3) Now we will create the actual object for the class\n",
    "\n",
    "##We are collecting data for the object\n",
    "carname = input(\"Enter your Car Name:- \")\n",
    "carmodel = input(\"Enter your car Model Name:- \")\n",
    "carcolor = input(\"Enter your Car Color name:- \")\n",
    "carsize = input(\"Enter your Car Size:- \")\n",
    "carbudget = input(\"Enter your Car Budget:- \")\n",
    "cartire = input(\"Enter your Car_tire size:- \")\n",
    "\n",
    "s1 = Car(carname,carmodel,carcolor,carsize,carbudget,cartire)           \n",
    "\n",
    "print(f\"We created the object ------------------->{s1} <------------------------\".center(120,\"/\"))      ##This is the object which we have created\n",
    "\n",
    "##In this we have seen each object data\n",
    "print(f\"Car Name:-{s1.name}\".center(70))\n",
    "print(f\"Car Model:-{s1.model}\".center(70))\n",
    "print(f\"Car Color:-{s1.color}\".center(70))\n",
    "print(f\"Car Size:-{s1.size}\".center(70))\n",
    "print(f\"Car Budget:-{s1.budget}\".center(70))\n",
    "print(f\"Car Tire Size{s1.tire}\".center(70))\n",
    "\n",
    "##now we will use the inbuilt method for the object\n",
    "print(s1.first__stage_assambling())\n",
    "\n",
    "print(s1.second_stage_assambling())\n",
    "\n",
    "print(s1.budget_discussion())"
   ]
  }
 ],
 "metadata": {
  "kernelspec": {
   "display_name": "Python 3",
   "language": "python",
   "name": "python3"
  },
  "language_info": {
   "codemirror_mode": {
    "name": "ipython",
    "version": 3
   },
   "file_extension": ".py",
   "mimetype": "text/x-python",
   "name": "python",
   "nbconvert_exporter": "python",
   "pygments_lexer": "ipython3",
   "version": "3.12.5"
  }
 },
 "nbformat": 4,
 "nbformat_minor": 2
}
