{
 "cells": [
  {
   "cell_type": "code",
   "execution_count": 14,
   "metadata": {},
   "outputs": [
    {
     "name": "stdout",
     "output_type": "stream",
     "text": [
      "This is the object of the student <__main__.Student object at 0x00000272A2963500>\n",
      "Welcome to our College surendra Poornima\n",
      "None\n",
      "This is your actual data surendra 96\n",
      "Your data have been updated\n",
      "None\n"
     ]
    }
   ],
   "source": [
    "##first create the class\n",
    "class Student:\n",
    "    college_name = \"Poornima\"               ##it is class based attributes or parameter\n",
    "    ##creating the constructor with some attributes\n",
    "    def __init__(self,name,age) -> None:     \n",
    "        print(f\"This is the object of the student {self}\")\n",
    "        self.name = name                ##They are called class based attritubes or parameter and each object have their own data\n",
    "        self.age = age\n",
    "    \n",
    "    def welcome(self):      ##This is methods or we can say function\n",
    "        print(\"Welcome to our College\",self.name,self.college_name)\n",
    "\n",
    "    def confirmation(self):         ##This is my object another method\n",
    "        print(f\"This is your actual data {self.name} {self.age}\")\n",
    "        user_input = input(\"Do you want to say this information (Yes/No):-\").strip()\n",
    "        if user_input == \"yes\" or \"Yes\":\n",
    "            print(\"Your data have been updated\")\n",
    "        else:\n",
    "            print(\"Your data is not being updated properly\")\n",
    "\n",
    "\n",
    "## Creating first object and using thier method or functions\n",
    "# s1 = Student(\"karan\",96)                    \n",
    "# # print(s1.name)\n",
    "# # print(s1.marks)\n",
    "# # print(s1.college_name)\n",
    "# # print(s1.marks)\n",
    "# print(s1.welcome())\n",
    "# print(s1.confirmation())\n",
    "\n",
    "##Creating second object \n",
    "user_name = input(\"Enter your name:- \")\n",
    "user_age = int(input(\"Enter your age:- \"))\n",
    "s2 = Student(user_name,user_age)\n",
    "print(s2.welcome())\n",
    "print(s2.confirmation())\n"
   ]
  }
 ],
 "metadata": {
  "kernelspec": {
   "display_name": "Python 3",
   "language": "python",
   "name": "python3"
  },
  "language_info": {
   "codemirror_mode": {
    "name": "ipython",
    "version": 3
   },
   "file_extension": ".py",
   "mimetype": "text/x-python",
   "name": "python",
   "nbconvert_exporter": "python",
   "pygments_lexer": "ipython3",
   "version": "3.12.5"
  }
 },
 "nbformat": 4,
 "nbformat_minor": 2
}
