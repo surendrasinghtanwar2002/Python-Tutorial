{
 "cells": [
  {
   "cell_type": "code",
   "execution_count": 1,
   "metadata": {},
   "outputs": [],
   "source": [
    "                        ## Practising the class and object methods ##\n",
    "##first creating the class blue print\n",
    "class banking:\n",
    "    welcome_message = \"Hello welcome to our Banking Service\"\n",
    "    ##first intialising the constructor\n",
    "    def __init__(self,account_no,_balance):                 ##intialise constructor\n",
    "        self.acc = account_no\n",
    "        self.balance = _balance\n",
    "\n",
    "    ##now i will create their method for this object\n",
    "    def debit(self):\n",
    "        deducated_Value = int(input(\"Enter your amount to withdraw:- \"))\n",
    "        return self.balance - deducated_Value                   ##This will basically return the deducted amount\n",
    "\n",
    "    ##now i will create the another method for this object\n",
    "    def account_details(self):\n",
    "        return f\"This is your account no {self.acc} and your balance is {self.balance}\""
   ]
  },
  {
   "cell_type": "code",
   "execution_count": 8,
   "metadata": {},
   "outputs": [
    {
     "name": "stdout",
     "output_type": "stream",
     "text": [
      "------------------------> 198189189189189 <-------------------\n",
      "------------------------> 4500 <------------------------\n",
      "This is your object ----------> <__main__.banking object at 0x000001F5707AE6C0> <-------------------\n",
      "This is your amount after the deducation 2000\n",
      "This is your account no 198189189189189 and your balance is 4500\n"
     ]
    }
   ],
   "source": [
    "##Now in this step i will create the object\n",
    "user_account_no = int(input(\"Enter your account no:- \"))\n",
    "balance = int(input(\"Enter your current balance:- \"))\n",
    "\n",
    "print(f\"------------------------> {user_account_no} <-------------------\")\n",
    "print(f\"------------------------> {balance} <------------------------\")\n",
    "##now i will simply make the object\n",
    "s1 = banking(user_account_no,balance)\n",
    "\n",
    "print(f\"This is your object ----------> {s1} <-------------------\")\n",
    "\n",
    "result = s1.debit()                         ##This is what we get\n",
    "print(f\"This is your amount after the deducation {result}\")\n",
    "\n",
    "print(s1.account_details())"
   ]
  },
  {
   "cell_type": "code",
   "execution_count": null,
   "metadata": {},
   "outputs": [],
   "source": []
  }
 ],
 "metadata": {
  "kernelspec": {
   "display_name": "Python 3",
   "language": "python",
   "name": "python3"
  },
  "language_info": {
   "codemirror_mode": {
    "name": "ipython",
    "version": 3
   },
   "file_extension": ".py",
   "mimetype": "text/x-python",
   "name": "python",
   "nbconvert_exporter": "python",
   "pygments_lexer": "ipython3",
   "version": "3.12.5"
  }
 },
 "nbformat": 4,
 "nbformat_minor": 2
}
