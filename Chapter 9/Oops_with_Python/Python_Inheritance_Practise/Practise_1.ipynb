{
 "cells": [
  {
   "cell_type": "code",
   "execution_count": 5,
   "metadata": {},
   "outputs": [
    {
     "name": "stdout",
     "output_type": "stream",
     "text": [
      "Person name Rohan Person age 25\n",
      "Person name Rohan Person age 25 with employee id 256525282828\n"
     ]
    }
   ],
   "source": [
    "                                                        ## Practise question 1 ##\n",
    "#Parent Class\n",
    "class Person:\n",
    "    def __init__(self,name,age) -> None:                ##instace constructor\n",
    "        self.name = name\n",
    "        self.age = age\n",
    "    \n",
    "    def display_info(self):                             ##Object method or function\n",
    "        return f\"Person name {self.name} Person age {self.age}\"\n",
    "\n",
    "#Child Class\n",
    "class Employee(Person):\n",
    "    def __init__(self,employeename,employeeage,employee_id) -> None:\n",
    "        self.employee_id = employee_id\n",
    "        super().__init__(employeename,employeeage)\n",
    "\n",
    "    def display_employee_info(self):\n",
    "        return f\"{super().display_info()} with employee id {self.employee_id}\"\n",
    "    \n",
    "##In this step we will create the object\n",
    "details = Employee(\"Rohan\",25,256525282828)\n",
    "\n",
    "##printing the method of the parent class \n",
    "print(details.display_info())\n",
    "\n",
    "##printing the method of the sub class\n",
    "print(details.display_employee_info())"
   ]
  },
  {
   "cell_type": "code",
   "execution_count": 9,
   "metadata": {},
   "outputs": [
    {
     "name": "stdout",
     "output_type": "stream",
     "text": [
      "Calculation of the area is:- 375\n"
     ]
    }
   ],
   "source": [
    "                                                        ## Practise question 2 ##\n",
    "##Parent Class\n",
    "class Shape:\n",
    "    ##method for the data\n",
    "    def area(self):\n",
    "        return f\"Calulating the area:- \"\n",
    "\n",
    "##Child Class\n",
    "class Rectange(Shape):\n",
    "    def __init__(self,lenght,width) -> None:     # super().__init__()\n",
    "        self.length = lenght\n",
    "        self.width = width\n",
    "\n",
    "    def area(self):                     ##It will over the orginal area method which is presented in the parent class\n",
    "            return f\"Calculation of the area is:- {self.length * self.width}\"\n",
    "\n",
    "##Creating the object\n",
    "calc = Rectange(15,25)\n",
    "\n",
    "print(calc.area())"
   ]
  },
  {
   "cell_type": "code",
   "execution_count": 12,
   "metadata": {},
   "outputs": [
    {
     "name": "stdout",
     "output_type": "stream",
     "text": [
      "Book Title: 'Oops with Python' Author Name: 'Jameson' ISBN no: '1515115' \n"
     ]
    }
   ],
   "source": [
    "                                                        ## Practise question 3 ##\n",
    "\n",
    "##Parent class\n",
    "class Book:\n",
    "\n",
    "    ##Creating the constructor\n",
    "    def __init__(self,title,author) -> None:\n",
    "        self.title = title\n",
    "        self.author = author\n",
    "    \n",
    "    ##method for displaying the details\n",
    "    def show_book_details(self):\n",
    "        return f\"Book Title: '{self.title}' Author Name: '{self.author}'\"\n",
    "##Child Class\n",
    "class LibraryBook(Book):\n",
    "\n",
    "    ##Creating the constructor for hte ISBN\n",
    "    def __init__(self,booktitle,bookauthor,ISBN) -> None:\n",
    "        self.ISBN = ISBN\n",
    "        super().__init__(booktitle,bookauthor)\n",
    "    \n",
    "    ##method for displaying the entire details\n",
    "    def display_library_book(self):\n",
    "        return f\"{super().show_book_details()} ISBN no: '{self.ISBN}' \"\n",
    "    \n",
    "##Creating the object\n",
    "book_owner = LibraryBook(\"Oops with Python\",\"Jameson\",1515115)\n",
    "\n",
    "print(book_owner.display_library_book())"
   ]
  },
  {
   "cell_type": "code",
   "execution_count": null,
   "metadata": {},
   "outputs": [],
   "source": []
  }
 ],
 "metadata": {
  "kernelspec": {
   "display_name": "Python 3",
   "language": "python",
   "name": "python3"
  },
  "language_info": {
   "codemirror_mode": {
    "name": "ipython",
    "version": 3
   },
   "file_extension": ".py",
   "mimetype": "text/x-python",
   "name": "python",
   "nbconvert_exporter": "python",
   "pygments_lexer": "ipython3",
   "version": "3.12.5"
  }
 },
 "nbformat": 4,
 "nbformat_minor": 2
}
