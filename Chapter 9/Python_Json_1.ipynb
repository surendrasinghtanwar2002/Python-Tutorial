{
 "cells": [
  {
   "cell_type": "code",
   "execution_count": 1,
   "metadata": {},
   "outputs": [],
   "source": [
    "# (Done) json.load     ----> Take a json encoded data input(mainly from json file) and return a pythonic object mostly Dictionary or List. \n",
    "\n",
    "# (Done) json.loads   ----> Take a json encoded string input string and return a pythonic object mostly Dictionary or List.\n",
    "\n",
    "# json.dump   ----> Take a pythonic object like dictionary, list etc. and output json encoded data to a json file.\n",
    "\n",
    "# json.dumps ----> Take a pythonic object like dictionary, list etc. and output json encoded data string."
   ]
  },
  {
   "cell_type": "code",
   "execution_count": 2,
   "metadata": {},
   "outputs": [],
   "source": [
    "import json\n",
    "\n",
    "\n",
    "import curses"
   ]
  },
  {
   "cell_type": "code",
   "execution_count": 3,
   "metadata": {},
   "outputs": [
    {
     "name": "stdout",
     "output_type": "stream",
     "text": [
      "<class 'str'>\n",
      "<class 'dict'>\n"
     ]
    }
   ],
   "source": [
    "##json.loads() method will covert the json string into the pythonic object dictionary or list\n",
    "\n",
    "x = '{\"name\":\"john\", \"age\":30, \"city\":\"New York\"}'\n",
    "\n",
    "print(type(x))          ##This is string\n",
    "\n",
    "##converting the string to python object\n",
    "y = json.loads(x)\n",
    "\n",
    "print(type(y))          ##This is dictionary"
   ]
  },
  {
   "cell_type": "code",
   "execution_count": 4,
   "metadata": {},
   "outputs": [
    {
     "name": "stdout",
     "output_type": "stream",
     "text": [
      "{'student_name': 'Surendra', 'class': '12thb', 'mobile_no': '9460824001'}\n",
      "Surendra\n",
      "12thb\n",
      "9460824001\n"
     ]
    }
   ],
   "source": [
    "data = '{\"student_name\":\"Surendra\", \"class\": \"12thb\", \"mobile_no\": \"9460824001\"}'\n",
    "\n",
    "##converting the json string to the python object\n",
    "\n",
    "json_data = json.loads(data)\n",
    "\n",
    "##We have coverted the json string to object\n",
    "print(json_data)\n",
    "print(json_data[\"student_name\"])\n",
    "print(json_data[\"class\"])\n",
    "print(json_data[\"mobile_no\"])"
   ]
  },
  {
   "cell_type": "code",
   "execution_count": 5,
   "metadata": {},
   "outputs": [
    {
     "name": "stdout",
     "output_type": "stream",
     "text": [
      "<class 'str'>\n",
      "<class 'dict'>\n",
      "AS-PAR001\n",
      "PARIS\n",
      "{'HOSTNAME': 'AS-PAR001', 'REGION': 'EUROPE', 'CITY': 'PARIS', 'DEVICE_ROLE': 'ACCESS SW', 'MGMT_INTERFACE': 'VLAN100', 'IOS_VER': '15.0', 'L100_IP': '10.10.10.1'}\n",
      "{'HOSTNAME': 'DS-MEX002', 'REGION': 'AMERICA', 'CITY': 'MEXICO', 'DEVICE_ROLE': 'DISTRIBUTION SW', 'MGMT_INTERFACE': 'VLAN100', 'IOS_VER': '12.1', 'L100_IP': '10.20.20.2'}\n",
      "{'HOSTNAME': 'CS-DEL001', 'REGION': 'APAC', 'CITY': 'DELHI', 'DEVICE_ROLE': 'CORE SW', 'MGMT_INTERFACE': 'VLAN100', 'IOS_VER': '15.4', 'L100_IP': '10.30.30.3'}\n"
     ]
    }
   ],
   "source": [
    "##converting the json string to the python object {dictionart, list}\n",
    "\n",
    "with open(\"json_test_file.txt\",\"r\") as f:\n",
    "    json_string = f.read()\n",
    "\n",
    "\n",
    "print(type(json_string))            ##Its string\n",
    "##converting the json string to the object\n",
    "json_data = json.loads(json_string)\n",
    "\n",
    "print(type(json_data))\n",
    "print(json_data[\"DEVICES\"][0][\"HOSTNAME\"])\n",
    "print(json_data[\"DEVICES\"][0][\"CITY\"])\n",
    "print(json_data[\"DEVICES\"][0])      ##First positional item in the list\n",
    "print(json_data[\"DEVICES\"][1])      ##Second positional item in the list\n",
    "print(json_data[\"DEVICES\"][2])      ##Third positional item in the list"
   ]
  },
  {
   "cell_type": "code",
   "execution_count": 6,
   "metadata": {},
   "outputs": [
    {
     "name": "stdout",
     "output_type": "stream",
     "text": [
      "<class 'str'>\n",
      "<class 'dict'>\n",
      "Hostname AS-PAR001                   \n",
      "Region: EUROPE\n",
      "Hostname DS-MEX002                   \n",
      "Region: AMERICA\n",
      "Hostname CS-DEL001                   \n",
      "Region: APAC\n",
      "------------------------------------------------------------\n"
     ]
    }
   ],
   "source": [
    "                        ## Iterating item of the dictionary ##\n",
    "with open(\"json_test_file.txt\",\"r\") as f:\n",
    "    json_string1 = f.read()     ##It will return a string\n",
    "\n",
    "print(type(json_string1))           ##Type will be string\n",
    "\n",
    "##converting the json string to the python object\n",
    "json_data1 = json.loads(json_string1)\n",
    "\n",
    "##printing all the statement of the json data\n",
    "print(type(json_data1))\n",
    "\n",
    "\n",
    "##iterate every item from the dictionary\n",
    "dictionary_key = json_data1[\"DEVICES\"]\n",
    "for items in dictionary_key:            ##This will extract all the value of the dictionary\n",
    "    # print(f\"Key name '{x}' Value is '{y}' \")\n",
    "    print(f\"Hostname {items['HOSTNAME'].ljust(27)} \\nRegion: {items['REGION']}\")\n",
    "print('-' * 60)\n"
   ]
  },
  {
   "cell_type": "code",
   "execution_count": 7,
   "metadata": {},
   "outputs": [
    {
     "name": "stdout",
     "output_type": "stream",
     "text": [
      "<class 'str'>\n",
      "<class 'dict'>\n",
      "{'HOSTNAME': 'AS-PAR001', 'REGION': 'EUROPE', 'CITY': 'PARIS', 'DEVICE_ROLE': 'ACCESS SW', 'MGMT_INTERFACE': 'VLAN100', 'IOS_VER': '15.0', 'L100_IP': '10.10.10.1'}\n",
      "{'HOSTNAME': 'DS-MEX002', 'REGION': 'AMERICA', 'CITY': 'MEXICO', 'DEVICE_ROLE': 'DISTRIBUTION SW', 'MGMT_INTERFACE': 'VLAN100', 'IOS_VER': '12.1', 'L100_IP': '10.20.20.2'}\n",
      "{'HOSTNAME': 'CS-DEL001', 'REGION': 'APAC', 'CITY': 'DELHI', 'DEVICE_ROLE': 'CORE SW', 'MGMT_INTERFACE': 'VLAN100', 'IOS_VER': '15.4', 'L100_IP': '10.30.30.3'}\n",
      "{'DEVICES': [{'HOSTNAME': 'AS-PAR001', 'REGION': 'EUROPE', 'CITY': 'PARIS', 'DEVICE_ROLE': 'ACCESS SW', 'MGMT_INTERFACE': 'VLAN100', 'IOS_VER': '15.0', 'L100_IP': '10.10.10.1'}, {'HOSTNAME': 'DS-MEX002', 'REGION': 'AMERICA', 'CITY': 'MEXICO', 'DEVICE_ROLE': 'DISTRIBUTION SW', 'MGMT_INTERFACE': 'VLAN100', 'IOS_VER': '12.1', 'L100_IP': '10.20.20.2'}, {'HOSTNAME': 'CS-DEL001', 'REGION': 'APAC', 'CITY': 'DELHI', 'DEVICE_ROLE': 'CORE SW', 'MGMT_INTERFACE': 'VLAN100', 'IOS_VER': '15.4', 'L100_IP': '10.30.30.3'}]}\n"
     ]
    }
   ],
   "source": [
    "                                ## Iterating items of the dictionary ##\n",
    "with open(\"json_test_file.txt\",\"r\") as f:\n",
    "    output = f.read()\n",
    "\n",
    "##Before conversion of the data\n",
    "print(type(output))         ##It was string\n",
    "\n",
    "##converting the json string to the python object\n",
    "jsondata = json.loads(output)\n",
    "\n",
    "print(type(jsondata))           ##This is dictionary\n",
    "\n",
    "##iterating each and every items through the dictionary\n",
    "print(json_data[\"DEVICES\"][0])\n",
    "print(json_data[\"DEVICES\"][1])\n",
    "print(json_data[\"DEVICES\"][2])\n",
    "print(json_data)"
   ]
  },
  {
   "cell_type": "code",
   "execution_count": 8,
   "metadata": {},
   "outputs": [
    {
     "name": "stdout",
     "output_type": "stream",
     "text": [
      "<class 'dict'>\n",
      "{'DEVICES': [{'HOSTNAME': 'AS-PAR001', 'REGION': 'EUROPE', 'CITY': 'PARIS', 'DEVICE_ROLE': 'ACCESS SW', 'MGMT_INTERFACE': 'VLAN100', 'IOS_VER': '15.0', 'L100_IP': '10.10.10.1'}, {'HOSTNAME': 'DS-MEX002', 'REGION': 'AMERICA', 'CITY': 'MEXICO', 'DEVICE_ROLE': 'DISTRIBUTION SW', 'MGMT_INTERFACE': 'VLAN100', 'IOS_VER': '12.1', 'L100_IP': '10.20.20.2'}, {'HOSTNAME': 'CS-DEL001', 'REGION': 'APAC', 'CITY': 'DELHI', 'DEVICE_ROLE': 'CORE SW', 'MGMT_INTERFACE': 'VLAN100', 'IOS_VER': '15.4', 'L100_IP': '10.30.30.3'}]}\n"
     ]
    }
   ],
   "source": [
    "        ## json dumps method is used to convert the python object into json string ##\n",
    "device_data = {'DEVICES': [{'HOSTNAME': 'AS-PAR001', 'REGION': 'EUROPE', 'CITY': 'PARIS', 'DEVICE_ROLE': 'ACCESS SW', 'MGMT_INTERFACE': 'VLAN100', 'IOS_VER': '15.0', 'L100_IP': '10.10.10.1'}, {'HOSTNAME': 'DS-MEX002', 'REGION': 'AMERICA', 'CITY': 'MEXICO', 'DEVICE_ROLE': 'DISTRIBUTION SW', 'MGMT_INTERFACE': 'VLAN100', 'IOS_VER': '12.1', 'L100_IP': '10.20.20.2'}, {'HOSTNAME': 'CS-DEL001', 'REGION': 'APAC', 'CITY': 'DELHI', 'DEVICE_ROLE': 'CORE SW', 'MGMT_INTERFACE': 'VLAN100', 'IOS_VER': '15.4', 'L100_IP': '10.30.30.3'}]}\n",
    "\n",
    "print(type(device_data))\n",
    "print(device_data)"
   ]
  },
  {
   "cell_type": "code",
   "execution_count": 9,
   "metadata": {},
   "outputs": [
    {
     "name": "stdout",
     "output_type": "stream",
     "text": [
      "<class 'str'>\n",
      "{\"DEVICES\": [{\"HOSTNAME\": \"AS-PAR001\", \"REGION\": \"EUROPE\", \"CITY\": \"PARIS\", \"DEVICE_ROLE\": \"ACCESS SW\", \"MGMT_INTERFACE\": \"VLAN100\", \"IOS_VER\": \"15.0\", \"L100_IP\": \"10.10.10.1\"}, {\"HOSTNAME\": \"DS-MEX002\", \"REGION\": \"AMERICA\", \"CITY\": \"MEXICO\", \"DEVICE_ROLE\": \"DISTRIBUTION SW\", \"MGMT_INTERFACE\": \"VLAN100\", \"IOS_VER\": \"12.1\", \"L100_IP\": \"10.20.20.2\"}, {\"HOSTNAME\": \"CS-DEL001\", \"REGION\": \"APAC\", \"CITY\": \"DELHI\", \"DEVICE_ROLE\": \"CORE SW\", \"MGMT_INTERFACE\": \"VLAN100\", \"IOS_VER\": \"15.4\", \"L100_IP\": \"10.30.30.3\"}]}\n"
     ]
    }
   ],
   "source": [
    "json_string2 = json.dumps(device_data)\n",
    "\n",
    "print(type(json_string2))\n",
    "print(json_string2)"
   ]
  },
  {
   "cell_type": "code",
   "execution_count": 13,
   "metadata": {},
   "outputs": [
    {
     "name": "stdout",
     "output_type": "stream",
     "text": [
      "{'HOSTNAME': 'AS-PAR001', 'REGION': 'EUROPE', 'CITY': 'PARIS', 'DEVICE_ROLE': 'ACCESS SW', 'MGMT_INTERFACE': 'VLAN100', 'IOS_VER': '15.0', 'L100_IP': '10.10.10.1'}\n",
      "{'HOSTNAME': 'DS-MEX002', 'REGION': 'AMERICA', 'CITY': 'MEXICO', 'DEVICE_ROLE': 'DISTRIBUTION SW', 'MGMT_INTERFACE': 'VLAN100', 'IOS_VER': '12.1', 'L100_IP': '10.20.20.2'}\n",
      "{'HOSTNAME': 'CS-DEL001', 'REGION': 'APAC', 'CITY': 'DELHI', 'DEVICE_ROLE': 'CORE SW', 'MGMT_INTERFACE': 'VLAN100', 'IOS_VER': '15.4', 'L100_IP': '10.30.30.3'}\n"
     ]
    }
   ],
   "source": [
    "f = open(\"json_test_file_1.json\")\n",
    "\n",
    "##conver the data into the json\n",
    "data = json.load(f)\n",
    "\n",
    "##printing dictionary each list items\n",
    "print(data[\"DEVICES\"][0])\n",
    "print(data[\"DEVICES\"][1])\n",
    "print(data[\"DEVICES\"][2])\n"
   ]
  },
  {
   "cell_type": "code",
   "execution_count": 19,
   "metadata": {},
   "outputs": [
    {
     "name": "stdout",
     "output_type": "stream",
     "text": [
      "{'HOSTNAME': 'AS-PAR001', 'REGION': 'EUROPE', 'CITY': 'PARIS', 'DEVICE_ROLE': 'ACCESS SW', 'MGMT_INTERFACE': 'VLAN100', 'IOS_VER': '15.0', 'L100_IP': '10.10.10.1'}\n",
      "{'HOSTNAME': 'DS-MEX002', 'REGION': 'AMERICA', 'CITY': 'MEXICO', 'DEVICE_ROLE': 'DISTRIBUTION SW', 'MGMT_INTERFACE': 'VLAN100', 'IOS_VER': '12.1', 'L100_IP': '10.20.20.2'}\n",
      "{'HOSTNAME': 'CS-DEL001', 'REGION': 'APAC', 'CITY': 'DELHI', 'DEVICE_ROLE': 'CORE SW', 'MGMT_INTERFACE': 'VLAN100', 'IOS_VER': '15.4', 'L100_IP': '10.30.30.3'}\n",
      "{'HOSTNAME': 'AS-2', 'REGION': 'EUROPE', 'CITY': 'PARIS', 'DEVICE_ROLE': 'ACCESS SW', 'MGMT_INTERFACE': 'VLAN100', 'IOS_VER': '15.0', 'L100_IP': '10.10.10.1'}\n",
      "{'HOSTNAME': 'DS-2', 'REGION': 'AMERICA', 'CITY': 'MEXICO', 'DEVICE_ROLE': 'DISTRIBUTION SW', 'MGMT_INTERFACE': 'VLAN100', 'IOS_VER': '12.1', 'L100_IP': '10.20.20.2'}\n",
      "{'HOSTNAME': 'CS-2', 'REGION': 'APAC', 'CITY': 'DELHI', 'DEVICE_ROLE': 'CORE SW', 'MGMT_INTERFACE': 'VLAN100', 'IOS_VER': '15.4', 'L100_IP': '10.30.30.3'}\n"
     ]
    }
   ],
   "source": [
    "f = open(\"json_test_file_1.json\")       ##It will return the json object\n",
    "\n",
    "data = json.load(f)                     ##It will simply convert the json object to the python object\n",
    "\n",
    "##printing all the dictionary each object items\n",
    "print(data[\"DEVICES\"][0])\n",
    "print(data[\"DEVICES\"][1])\n",
    "print(data[\"DEVICES\"][2])\n",
    "print(data[\"DEVICES\"][3])\n",
    "print(data[\"DEVICES\"][4])\n",
    "print(data[\"DEVICES\"][5])\n",
    "# print(data[\"DEVICES\"][6])"
   ]
  },
  {
   "cell_type": "code",
   "execution_count": 28,
   "metadata": {},
   "outputs": [
    {
     "name": "stdout",
     "output_type": "stream",
     "text": [
      "<class 'str'>\n",
      "<class 'dict'>\n",
      "{'HOSTNAME': 'AS-PAR001', 'REGION': 'EUROPE', 'CITY': 'PARIS', 'DEVICE_ROLE': 'ACCESS SW', 'MGMT_INTERFACE': 'VLAN100', 'IOS_VER': '15.0', 'L100_IP': '10.10.10.1'}\n",
      "{'HOSTNAME': 'DS-MEX002', 'REGION': 'AMERICA', 'CITY': 'MEXICO', 'DEVICE_ROLE': 'DISTRIBUTION SW', 'MGMT_INTERFACE': 'VLAN100', 'IOS_VER': '12.1', 'L100_IP': '10.20.20.2'}\n",
      "{'HOSTNAME': 'CS-DEL001', 'REGION': 'APAC', 'CITY': 'DELHI', 'DEVICE_ROLE': 'CORE SW', 'MGMT_INTERFACE': 'VLAN100', 'IOS_VER': '15.4', 'L100_IP': '10.30.30.3'}\n",
      "{'HOSTNAME': 'AS-2', 'REGION': 'EUROPE', 'CITY': 'PARIS', 'DEVICE_ROLE': 'ACCESS SW', 'MGMT_INTERFACE': 'VLAN100', 'IOS_VER': '15.0', 'L100_IP': '10.10.10.1'}\n",
      "{'HOSTNAME': 'DS-2', 'REGION': 'AMERICA', 'CITY': 'MEXICO', 'DEVICE_ROLE': 'DISTRIBUTION SW', 'MGMT_INTERFACE': 'VLAN100', 'IOS_VER': '12.1', 'L100_IP': '10.20.20.2'}\n",
      "{'HOSTNAME': 'CS-2', 'REGION': 'APAC', 'CITY': 'DELHI', 'DEVICE_ROLE': 'CORE SW', 'MGMT_INTERFACE': 'VLAN100', 'IOS_VER': '15.4', 'L100_IP': '10.30.30.3'}\n"
     ]
    }
   ],
   "source": [
    "with open(\"json_test_file_1_.txt\") as f:\n",
    "    json_string = f.read()\n",
    "\n",
    "##checking the variable type\n",
    "print(type(json_string))\n",
    "\n",
    "##converting the json string to the python object\n",
    "\n",
    "python_object = json.loads(json_string)\n",
    "\n",
    "print(type(python_object))\n",
    "\n",
    "print(python_object[\"DEVICES\"][0])\n",
    "print(python_object[\"DEVICES\"][1])\n",
    "print(python_object[\"DEVICES\"][2])\n",
    "print(python_object[\"DEVICES\"][3])\n",
    "print(python_object[\"DEVICES\"][4])\n",
    "print(python_object[\"DEVICES\"][5])\n",
    "# print(python_object[\"DEVICES\"][6])\n"
   ]
  },
  {
   "cell_type": "code",
   "execution_count": 36,
   "metadata": {},
   "outputs": [
    {
     "name": "stdout",
     "output_type": "stream",
     "text": [
      "<class 'dict'>\n",
      "dict_items([('name', 'surendra'), ('subject', 'bca_cloud'), ('email_address', 'surendrasinghtanwar@gmail.com'), ('mobile_no', '9460824001')])\n",
      "<class 'str'>\n",
      "{\n",
      "    \"name\": \"surendra\",\n",
      "    \"subject\": \"bca_cloud\",\n",
      "    \"email_address\": \"surendrasinghtanwar@gmail.com\",\n",
      "    \"mobile_no\": \"9460824001\"\n",
      "}\n"
     ]
    }
   ],
   "source": [
    "# json.dumps ----> Take a pythonic object like dictionary, list etc. and output json encoded data string.\n",
    "\n",
    "##Practise 1\n",
    "x = {\n",
    "    \"name\":\"surendra\",\n",
    "    \"subject\":\"bca_cloud\",\n",
    "    \"email_address\":\"surendrasinghtanwar@gmail.com\",\n",
    "    \"mobile_no\":\"9460824001\"\n",
    "}\n",
    "\n",
    "##checking the x variable data type\n",
    "print(type(x))\n",
    "print(x.items())\n",
    "\n",
    "##converting the python object to json string\n",
    "y = json.dumps(x,indent=4)\n",
    "\n",
    "print(type(y))\n",
    "\n",
    "print(y)"
   ]
  },
  {
   "cell_type": "code",
   "execution_count": 47,
   "metadata": {},
   "outputs": [
    {
     "name": "stdout",
     "output_type": "stream",
     "text": [
      "<class 'dict'>\n",
      "<class 'str'>\n",
      "{\n",
      "     \"Boys_Group\" = \"True\". \n",
      "     \"College_Name\" = \"Poornima University\". \n",
      "     \"Course\" = \"Bca Cloud\". \n",
      "     \"email_address\" = \"surendrasinghtanwar@gmail.com\". \n",
      "     \"mobile_no\" = 9460824001\n",
      "}\n"
     ]
    }
   ],
   "source": [
    "##Practise 2\n",
    "y = {\n",
    "    \"College_Name\":\"Poornima University\",\n",
    "    \"Course\":\"Bca Cloud\",\n",
    "    \"email_address\":\"surendrasinghtanwar@gmail.com\",\n",
    "    \"Boys_Group\" : \"True\",\n",
    "    \"mobile_no\":9460824001\n",
    "}\n",
    "\n",
    "print(type(y))\n",
    "\n",
    "##converting the python object to the json object\n",
    "json_string = json.dumps(y,indent=5,separators=(\". \",\" = \"),sort_keys=True)\n",
    "\n",
    "print(type(json_string))\n",
    "\n",
    "print(json_string)"
   ]
  },
  {
   "cell_type": "code",
   "execution_count": 55,
   "metadata": {},
   "outputs": [
    {
     "name": "stdout",
     "output_type": "stream",
     "text": [
      "<class 'dict'>\n"
     ]
    }
   ],
   "source": [
    "                ##Dump method which will convert the python object to the json object##\n",
    "##Approach 1\n",
    "dict1 ={\n",
    "    \"emp1\": {\n",
    "        \"name\": \"Lisa\",\n",
    "        \"designation\": \"programmer\",\n",
    "        \"age\": \"34\",\n",
    "        \"salary\": \"54000\"\n",
    "    },\n",
    "    \"emp2\": {\n",
    "        \"name\": \"Elis\",\n",
    "        \"designation\": \"Trainee\",\n",
    "        \"age\": \"24\",\n",
    "        \"salary\": \"40000\",\n",
    "        'lang':'??? ????'\n",
    "    },\n",
    "}\n",
    "##Checking the type of dict1\n",
    "print(type(dict1))\n",
    "\n",
    "\n",
    "##Converting the python object to the json object\n",
    "with open(\"myjson.json\",\"w\") as file:\n",
    "    json.dump(dict1,file,indent= 6)\n"
   ]
  },
  {
   "cell_type": "code",
   "execution_count": 57,
   "metadata": {},
   "outputs": [],
   "source": [
    "##Approach 2\n",
    "\n",
    "dict2 = {'lang':'??? ????'}\n",
    "\n",
    "##converting the python object to the json object\n",
    "with open(\"my_log.json\",\"w\") as f:\n",
    "    json.dump(dict2,f,indent=4)"
   ]
  }
 ],
 "metadata": {
  "kernelspec": {
   "display_name": "Python 3",
   "language": "python",
   "name": "python3"
  },
  "language_info": {
   "codemirror_mode": {
    "name": "ipython",
    "version": 3
   },
   "file_extension": ".py",
   "mimetype": "text/x-python",
   "name": "python",
   "nbconvert_exporter": "python",
   "pygments_lexer": "ipython3",
   "version": "3.12.5"
  }
 },
 "nbformat": 4,
 "nbformat_minor": 2
}
