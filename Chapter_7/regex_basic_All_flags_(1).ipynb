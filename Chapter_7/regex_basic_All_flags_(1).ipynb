{
 "cells": [
  {
   "cell_type": "code",
   "execution_count": 3,
   "metadata": {},
   "outputs": [],
   "source": [
    "                                                    ## Ignore Case Flag ##\n",
    "\n",
    "#This flag makes the regex case-insensitive, meaning it will match letters regardless of whether they are uppercase or lowercase.\n",
    "\n",
    "import re"
   ]
  },
  {
   "cell_type": "code",
   "execution_count": 37,
   "metadata": {},
   "outputs": [
    {
     "name": "stdout",
     "output_type": "stream",
     "text": [
      "['surendra ', ' Mohan']\n"
     ]
    }
   ],
   "source": [
    "text1 = \"Hello my name is surendra and hello my name is Mohan we are here to speak anything\"\n",
    "pattern1 = r\"Surendra | Mohan\"\n",
    "\n",
    "result1 = re.findall(pattern1,text1,re.IGNORECASE)\n",
    "\n",
    "print(result1)"
   ]
  },
  {
   "cell_type": "code",
   "execution_count": 38,
   "metadata": {},
   "outputs": [],
   "source": [
    "                                                        ## Multiline Flag ##\n",
    "\n",
    "#This flag changes the behavior of ^ and $ so that they match the start and end of each line, not just the start and end of the entire string."
   ]
  },
  {
   "cell_type": "code",
   "execution_count": 42,
   "metadata": {},
   "outputs": [
    {
     "name": "stdout",
     "output_type": "stream",
     "text": [
      "This is the multiline result using findall method:- ['Start', 'Start']\n",
      "This is the multiline result using findir method:- <re.Match object; span=(0, 5), match='Start'> \n",
      "This is the multiline result using findir method:- <re.Match object; span=(29, 34), match='Start'> \n"
     ]
    }
   ],
   "source": [
    "text2 = \"\"\"Start here\n",
    "We are very happy\n",
    "Start here and Ends Here\"\"\"\n",
    "\n",
    "pattern2 = r\"^Start\"\n",
    "\n",
    "pattern2_result = re.findall(pattern2,text2,re.MULTILINE)\n",
    "\n",
    "pattern_2_result = re.finditer(pattern2,text2,re.MULTILINE)\n",
    "\n",
    "print(f\"This is the multiline result using findall method:- {pattern2_result}\")\n",
    "\n",
    "for items in pattern_2_result:\n",
    "    print(f\"This is the multiline result using findir method:- {items} \")"
   ]
  },
  {
   "cell_type": "code",
   "execution_count": 43,
   "metadata": {},
   "outputs": [],
   "source": [
    "                                                    ## Dotall Flag ##\n",
    "\n",
    "#This flag makes the . (dot) match newline characters as well, which allows it to match across multiple lines."
   ]
  },
  {
   "cell_type": "code",
   "execution_count": 46,
   "metadata": {},
   "outputs": [
    {
     "name": "stdout",
     "output_type": "stream",
     "text": [
      "The outcome of the result is :- <re.Match object; span=(0, 35), match='start\\nthis spans\\nmultiple lines\\nend'>\n"
     ]
    }
   ],
   "source": [
    "#Appraoch 1\n",
    "text3 = '''start\n",
    "this spans\n",
    "multiple lines\n",
    "end'''\n",
    "\n",
    "pattern3 = re.compile(r'start.*end',re.DOTALL)\n",
    "\n",
    "pattern3_result = re.finditer(pattern3,text3)\n",
    "\n",
    "for items in pattern3_result:\n",
    "    print(f\"The outcome of the result is :- {items}\")"
   ]
  },
  {
   "cell_type": "code",
   "execution_count": 53,
   "metadata": {},
   "outputs": [
    {
     "name": "stdout",
     "output_type": "stream",
     "text": [
      "This is the result of pattern <re.Match object; span=(0, 66), match='The race starts here\\nThe race got ends here\\nThe>\n"
     ]
    }
   ],
   "source": [
    "#Approach 2\n",
    "text4 = '''The race starts here\n",
    "The race got ends here\n",
    "The race winner is Sam'''\n",
    "\n",
    "pattern4 = re.compile(r\"The.*Sam\",re.DOTALL)             ##Dotall will find every new line character also\n",
    "\n",
    "pattern4_result = re.finditer(pattern4,text4)\n",
    "\n",
    "for items in pattern4_result:\n",
    "    print(f\"This is the result of pattern {items}\")"
   ]
  },
  {
   "cell_type": "code",
   "execution_count": 54,
   "metadata": {},
   "outputs": [],
   "source": [
    "                                                    ## VERBOSE Flag ##\n",
    "\n",
    "#This flag allows you to write more readable regex patterns by allowing whitespace and comments in the pattern."
   ]
  },
  {
   "cell_type": "code",
   "execution_count": 66,
   "metadata": {},
   "outputs": [
    {
     "name": "stdout",
     "output_type": "stream",
     "text": [
      "This is the result of pattern 5 <re.Match object; span=(0, 21), match='The race starts here.'>\n",
      "This is the result of pattern 5 <re.Match object; span=(22, 44), match='The race got ends here'>\n",
      "This is the result of pattern 5 <re.Match object; span=(45, 67), match='The race winner is Sam'>\n"
     ]
    }
   ],
   "source": [
    "text5 = '''The race starts here.\n",
    "The race got ends here\n",
    "The race winner is Sam'''\n",
    "\n",
    "pattern5 = re.compile(r\"\\w+(?#This is the comment dont focus on it).+\",re.VERBOSE)\n",
    "\n",
    "pattern5_Result = re.finditer(pattern5,text5)\n",
    "\n",
    "#Calling the for loop\n",
    "for items in pattern5_Result:\n",
    "    print(f\"This is the result of pattern 5 {items}\")"
   ]
  },
  {
   "cell_type": "code",
   "execution_count": 74,
   "metadata": {},
   "outputs": [
    {
     "name": "stdout",
     "output_type": "stream",
     "text": [
      "This is the result of pattern 6 <re.Match object; span=(0, 4), match='Here'>\n",
      "This is the result of pattern 6 <re.Match object; span=(5, 8), match='are'>\n",
      "This is the result of pattern 6 <re.Match object; span=(9, 13), match='some'>\n",
      "This is the result of pattern 6 <re.Match object; span=(14, 19), match='words'>\n",
      "This is the result of pattern 6 <re.Match object; span=(21, 24), match='caf'>\n",
      "This is the result of pattern 6 <re.Match object; span=(27, 29), match='na'>\n",
      "This is the result of pattern 6 <re.Match object; span=(30, 32), match='ve'>\n",
      "This is the result of pattern 6 <re.Match object; span=(38, 41), match='and'>\n",
      "This is the result of pattern 6 <re.Match object; span=(42, 48), match='jalape'>\n",
      "This is the result of pattern 6 <re.Match object; span=(49, 50), match='o'>\n"
     ]
    }
   ],
   "source": [
    "                                                    ##Ascii Flag ##\n",
    "#This flag makes the \\w, \\b, \\s, and \\d character classes match only ASCII characters, rather than Unicode characters.\n",
    "\n",
    "text6 = 'Here are some words: café, naïve, *&^ and jalapeño.'\n",
    "\n",
    "pattern6 = r\"\\b\\w+\\b\"\n",
    "\n",
    "pattern6_Result = re.finditer(pattern6,text6,re.ASCII)\n",
    "\n",
    "for items in pattern6_Result:\n",
    "    print(f\"This is the result of pattern 6 {items}\")"
   ]
  }
 ],
 "metadata": {
  "kernelspec": {
   "display_name": "Python 3",
   "language": "python",
   "name": "python3"
  },
  "language_info": {
   "codemirror_mode": {
    "name": "ipython",
    "version": 3
   },
   "file_extension": ".py",
   "mimetype": "text/x-python",
   "name": "python",
   "nbconvert_exporter": "python",
   "pygments_lexer": "ipython3",
   "version": "3.12.4"
  }
 },
 "nbformat": 4,
 "nbformat_minor": 2
}
