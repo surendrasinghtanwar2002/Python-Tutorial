{
 "cells": [
  {
   "cell_type": "code",
   "execution_count": 2,
   "metadata": {},
   "outputs": [],
   "source": [
    "                                                            ## Metacharacters are characters with a special meaning ##\n",
    "\n",
    "#(1) \"?\" :- It is used to make any character optional either string have this character or not then also it will print\n",
    "\n",
    "import re"
   ]
  },
  {
   "cell_type": "code",
   "execution_count": 9,
   "metadata": {},
   "outputs": [
    {
     "name": "stdout",
     "output_type": "stream",
     "text": [
      "Your link is valid:- https://google.com\n",
      "Your link is not valid:- htttps://Hackerrank.com\n",
      "Your link is valid:- http://geeksforgeeks.com\n"
     ]
    }
   ],
   "source": [
    "my_webiste_link = [\"https://google.com\",\"htttps://Hackerrank.com\",\"http://geeksforgeeks.com\"]\n",
    "\n",
    "pattern1 = r\"https?://\\w+\\.\\w+\"\n",
    "\n",
    "\n",
    "for links in my_webiste_link:\n",
    "    if re.match(pattern1,links):\n",
    "        print(f\"Your link is valid:- {links}\")\n",
    "    else:\n",
    "        print(f\"Your link is not valid:- {links}\")\n"
   ]
  },
  {
   "cell_type": "code",
   "execution_count": 12,
   "metadata": {},
   "outputs": [
    {
     "name": "stderr",
     "output_type": "stream",
     "text": [
      "<>:2: SyntaxWarning: invalid escape sequence '\\P'\n",
      "<>:2: SyntaxWarning: invalid escape sequence '\\P'\n",
      "C:\\Users\\suren\\AppData\\Local\\Temp\\ipykernel_14992\\2856239301.py:2: SyntaxWarning: invalid escape sequence '\\P'\n",
      "  with open(\"E:\\Python-Tutorial\\Chapter_7\\website_dummy_data.txt\",\"r\") as file:\n"
     ]
    }
   ],
   "source": [
    "##Dummy data of the website\n",
    "with open(\"E:\\Python-Tutorial\\Chapter_7\\website_dummy_data.txt\",\"r\") as file:\n",
    "    website_data = file.read()"
   ]
  },
  {
   "cell_type": "code",
   "execution_count": 17,
   "metadata": {},
   "outputs": [
    {
     "name": "stdout",
     "output_type": "stream",
     "text": [
      "This all are valid links in the entire list:- ['https://google.com', 'https://example.com', 'http://stackoverflow.com', 'https://github.com', 'http://medium.com', 'https://linkedin.com', 'https://twitter.com', 'https://reddit.com', 'http://wikipedia.org', 'https://bitbucket.org', 'http://freecodecamp.org', 'https://stackoverflow.com', 'https://microsoft.com', 'https://tesla.com', 'https://apple.com', 'https://amazon.com', 'http://forbes.com', 'https://dropbox.com', 'http://github.com', 'https://newyorktimes.com', 'https://bbc.co.uk', 'https://netflix.com', 'http://imgur.com', 'https://yahoo.co.uk', 'http://googlesearch.com', 'https://shopify.com', 'https://t.co', 'http://theguardian.com', 'https://flickr.com', 'https://mashable.com', 'https://whatsapp.com', 'http://airbnb.com', 'https://slack.com', 'https://digitalocean.com', 'https://vimeo.com', 'http://yelp.com', 'https://docs.google.com', 'https://npmjs.com', 'https://yahoo.in', 'http://yahoo.com', 'https://discord.com', 'http://twitch.tv', 'https://zoom.us', 'https://cnn.com', 'http://salesforce.com', 'https://coursera.org', 'https://jupyter.org', 'http://apple.co', 'https://paypal.com', 'https://hackernews.com', 'http://snapchat.com', 'https://codepen.io', 'https://whatsapp.net', 'https://github.io', 'https://facebook.com', 'https://duckduckgo.com', 'http://verizon.com', 'https://adobe.com', 'https://mozilla.org', 'http://soundcloud.com', 'https://mailchimp.com', 'https://stripe.com', 'http://bitbucket.com', 'https://shopify.co', 'https://pluralsight.com', 'http://pythons.org', 'https://news.ycombinator.com', 'https://stackoverflow.org', 'http://microsoft.co', 'https://cloudflare.com', 'https://wikipedia.com', 'https://microsoft.net', 'http://news.com', 'https://quora.org', 'http://onlinestore.com', 'https://bloomberg.com', 'http://bing.com', 'https://mozilla.com', 'https://sourceforge.net', 'https://reddit.co', 'http://eventbrite.com', 'https://shop.com', 'https://github.co', 'http://zoom.com', 'https://bloomberg.co', 'http://whatsapp.org', 'https://tutorialspoint.com', 'http://craigslist.com', 'https://booking.com', 'https://stripe.net', 'https://figma.com', 'https://t.co', 'http://alibaba.com', 'https://airbnb.co', 'https://theverge.com', 'http://dailymotion.com', 'https://reuters.com', 'http://freecodecamp.com', 'https://test.com', 'https://okta.com', 'https://fortnite.com', 'https://shopify.org', 'http://data.gov', 'http://expedia.com', 'https://bestbuy.com', 'https://apple.org', 'http://ovh.com', 'https://paypal.org', 'https://weather.com', 'http://douban.com', 'https://skype.com', 'https://evernote.com', 'https://giphy.com', 'http://badoo.com', 'https://openai.com', 'https://bitly.net', 'http://imdb.com', 'https://dropbox.co', 'https://dribbble.com', 'https://geeksforgeeks.com', 'http://hubspot.com', 'https://pluralsight.co', 'http://techcrunch.com', 'http://flaticon.com', 'https://zoom.co', 'https://appsumo.com', 'http://producthunt.co', 'https://nordstrom.com', 'https://fiverr.com', 'http://linkedin.co', 'https://duckduckgo.org', 'https://twitch.com', 'http://google.co', 'https://pandora.com', 'http://salesforce.co', 'https://codewars.com', 'https://airbnb.org', 'https://outlook.com', 'http://bandcamp.com', 'https://quora.com', 'https://instructure.com', 'http://buy.com', 'https://github.org', 'http://walmart.com', 'https://openstreetmap.org', 'http://sendgrid.com', 'https://wework.com', 'http://t.co', 'https://yelp.co', 'https://disneyplus.com', 'http://pluralsight.org', 'https://mastercard.com', 'https://jitsi.org', 'http://dropbox.co', 'https://snapchat.co', 'http://groupon.com', 'https://ted.com']\n",
      "This all are unvalid links in the entire list:- ['htttps://yahoo.com', 'htttp://hackerrank.com', 'htttps://instagram.com', 'htttps://quora.com', 'htttp://microsoft.com', 'htttps://craigslist.org', 'htttp://producthunt.com', 'htttps://medium.com', 'htttp://weather.com', 'htttp://bitly.com', 'htttps://trello.com', 'htttps://github.io', 'htttp://developer.mozilla.org', 'htttps://yahoo.co', 'htttp://codeforces.com', 'htttps://khanacademy.org', 'htttps://zoho.com', 'htttps://intercom.com', 'htttp://mlb.com', 'htttps://hulu.com', 'htttp://dell.com', 'htttps://digitalocean.net', 'htttp://python.org', 'htttps://pinterest.com', 'htttps://twitter.co']\n"
     ]
    }
   ],
   "source": [
    "final_Data = website_data.split() ##This is our list data\n",
    "\n",
    "pattern8 = r\"https?://\\w+\\.\\w+\"  ##This is my pattern\n",
    "\n",
    "invalid_link = [ ]\n",
    "\n",
    "valid_link = [ ]\n",
    "\n",
    "for links in final_Data:\n",
    "    if re.match(pattern8,links):\n",
    "        valid_link.append(links)\n",
    "    else:\n",
    "        invalid_link.append(links)\n",
    "\n",
    "print(f\"This all are valid links in the entire list:- {valid_link}\")\n",
    "\n",
    "print(f\"This all are unvalid links in the entire list:- {invalid_link}\")\n"
   ]
  }
 ],
 "metadata": {
  "kernelspec": {
   "display_name": "Python 3",
   "language": "python",
   "name": "python3"
  },
  "language_info": {
   "codemirror_mode": {
    "name": "ipython",
    "version": 3
   },
   "file_extension": ".py",
   "mimetype": "text/x-python",
   "name": "python",
   "nbconvert_exporter": "python",
   "pygments_lexer": "ipython3",
   "version": "3.12.4"
  }
 },
 "nbformat": 4,
 "nbformat_minor": 2
}
