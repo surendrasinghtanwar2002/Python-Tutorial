{
 "cells": [
  {
   "cell_type": "code",
   "execution_count": 1,
   "metadata": {},
   "outputs": [],
   "source": [
    "                                        ## Search method find the character in the string and if found return Match object otherwise return None Datatype ##\n",
    "\n",
    "import re"
   ]
  },
  {
   "cell_type": "code",
   "execution_count": 15,
   "metadata": {},
   "outputs": [
    {
     "name": "stdout",
     "output_type": "stream",
     "text": [
      "This is the result of the search method :- <re.Match object; span=(3, 4), match=' '>\n"
     ]
    },
    {
     "name": "stderr",
     "output_type": "stream",
     "text": [
      "<>:3: SyntaxWarning: invalid escape sequence '\\s'\n",
      "<>:3: SyntaxWarning: invalid escape sequence '\\s'\n",
      "C:\\Users\\suren\\AppData\\Local\\Temp\\ipykernel_6352\\1557840749.py:3: SyntaxWarning: invalid escape sequence '\\s'\n",
      "  result = re.search(\"\\s\",txt)                    ## In this we are searching the first space\n"
     ]
    }
   ],
   "source": [
    "txt = \"The rain in the spain\"\n",
    "\n",
    "result = re.search(\"\\s\",txt)                    ## In this we are searching the first space \n",
    "\n",
    "print(f\"This is the result of the search method :- {result}\")"
   ]
  },
  {
   "cell_type": "code",
   "execution_count": 17,
   "metadata": {},
   "outputs": [
    {
     "name": "stdout",
     "output_type": "stream",
     "text": [
      "This is the result of the word result:- <re.Match object; span=(0, 1), match='T'>\n"
     ]
    },
    {
     "name": "stderr",
     "output_type": "stream",
     "text": [
      "<>:2: SyntaxWarning: invalid escape sequence '\\w'\n",
      "<>:2: SyntaxWarning: invalid escape sequence '\\w'\n",
      "C:\\Users\\suren\\AppData\\Local\\Temp\\ipykernel_6352\\791936412.py:2: SyntaxWarning: invalid escape sequence '\\w'\n",
      "  word_result = re.search(\"\\w\",txt)\n"
     ]
    }
   ],
   "source": [
    "                            ## In this step we will find the a single character or word from the existing string ##\n",
    "word_result = re.search(\"\\w\",txt)\n",
    "\n",
    "print(f\"This is the result of the word result:- {word_result}\")"
   ]
  },
  {
   "cell_type": "code",
   "execution_count": 27,
   "metadata": {},
   "outputs": [
    {
     "name": "stdout",
     "output_type": "stream",
     "text": [
      "This is the result of the number result:- <re.Match object; span=(0, 1), match='1'>\n"
     ]
    },
    {
     "name": "stderr",
     "output_type": "stream",
     "text": [
      "<>:3: SyntaxWarning: invalid escape sequence '\\d'\n",
      "<>:3: SyntaxWarning: invalid escape sequence '\\d'\n",
      "C:\\Users\\suren\\AppData\\Local\\Temp\\ipykernel_6352\\2185956622.py:3: SyntaxWarning: invalid escape sequence '\\d'\n",
      "  number_result = re.search(\"\\d\",txt1)\n"
     ]
    }
   ],
   "source": [
    "txt1 = \"1992\"\n",
    "\n",
    "number_result = re.search(\"\\d\",txt1)\n",
    "\n",
    "print(f\"This is the result of the number result:- {number_result}\")"
   ]
  },
  {
   "cell_type": "code",
   "execution_count": 31,
   "metadata": {},
   "outputs": [
    {
     "name": "stdout",
     "output_type": "stream",
     "text": [
      "This is result 1 data <re.Match object; span=(2, 3), match='1'>\n",
      "This is result 2 data <re.Match object; span=(6, 7), match=' '>\n",
      "This is result 3 data <re.Match object; span=(0, 1), match='_'>\n"
     ]
    },
    {
     "name": "stderr",
     "output_type": "stream",
     "text": [
      "<>:3: SyntaxWarning: invalid escape sequence '\\d'\n",
      "<>:5: SyntaxWarning: invalid escape sequence '\\s'\n",
      "<>:7: SyntaxWarning: invalid escape sequence '\\w'\n",
      "<>:3: SyntaxWarning: invalid escape sequence '\\d'\n",
      "<>:5: SyntaxWarning: invalid escape sequence '\\s'\n",
      "<>:7: SyntaxWarning: invalid escape sequence '\\w'\n",
      "C:\\Users\\suren\\AppData\\Local\\Temp\\ipykernel_6352\\1460527764.py:3: SyntaxWarning: invalid escape sequence '\\d'\n",
      "  result1 = re.search(\"\\d\",txt2)                      ## It will find the first digit number from the string\n",
      "C:\\Users\\suren\\AppData\\Local\\Temp\\ipykernel_6352\\1460527764.py:5: SyntaxWarning: invalid escape sequence '\\s'\n",
      "  result2 = re.search(\"\\s\",txt2)                      ## It will find the first space from the string\n",
      "C:\\Users\\suren\\AppData\\Local\\Temp\\ipykernel_6352\\1460527764.py:7: SyntaxWarning: invalid escape sequence '\\w'\n",
      "  result3 = re.search(\"\\w\",txt2)                      ## It will find the first word from the existing string\n"
     ]
    }
   ],
   "source": [
    "txt2 = \"__1998 My birth data\"\n",
    "\n",
    "result1 = re.search(\"\\d\",txt2)                      ## It will find the first digit number from the string\n",
    "\n",
    "result2 = re.search(\"\\s\",txt2)                      ## It will find the first space from the string\n",
    "\n",
    "result3 = re.search(\"\\w\",txt2)                      ## It will find the first word from the existing string\n",
    "\n",
    "print(f\"This is result 1 data {result1}\")\n",
    "print(f\"This is result 2 data {result2}\")\n",
    "print(f\"This is result 3 data {result3}\")"
   ]
  },
  {
   "cell_type": "code",
   "execution_count": 33,
   "metadata": {},
   "outputs": [
    {
     "name": "stdout",
     "output_type": "stream",
     "text": [
      "This is the result of the txt5_Data:- None\n"
     ]
    }
   ],
   "source": [
    "txt5 = \"my name is surendra\"\n",
    "\n",
    "txt5_result = re.search(\"Surendra\",txt5)\n",
    "\n",
    "print(f\"This is the result of the txt5_Data:- {txt5_result}\")"
   ]
  },
  {
   "cell_type": "code",
   "execution_count": 35,
   "metadata": {},
   "outputs": [
    {
     "name": "stdout",
     "output_type": "stream",
     "text": [
      "None\n"
     ]
    }
   ],
   "source": []
  }
 ],
 "metadata": {
  "kernelspec": {
   "display_name": "Python 3",
   "language": "python",
   "name": "python3"
  },
  "language_info": {
   "codemirror_mode": {
    "name": "ipython",
    "version": 3
   },
   "file_extension": ".py",
   "mimetype": "text/x-python",
   "name": "python",
   "nbconvert_exporter": "python",
   "pygments_lexer": "ipython3",
   "version": "3.12.4"
  }
 },
 "nbformat": 4,
 "nbformat_minor": 2
}
