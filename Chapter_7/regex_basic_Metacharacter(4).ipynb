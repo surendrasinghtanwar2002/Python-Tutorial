{
 "cells": [
  {
   "cell_type": "code",
   "execution_count": 1,
   "metadata": {},
   "outputs": [],
   "source": [
    "                                         ## Metacharacters are sepcial characters or symbol which have special meaning in python ##\n",
    "\n",
    "#(1) \"^\":- Caret symbol has two use case when we use inside the character class it will negotiate all the pattern in that and second use case is to find the word is starting with the string or not\n",
    "\n",
    "#(2) \"$\":- It is used to check that line is ending with specific string or number only \n",
    "\n",
    "import re"
   ]
  },
  {
   "cell_type": "code",
   "execution_count": 12,
   "metadata": {},
   "outputs": [
    {
     "name": "stdout",
     "output_type": "stream",
     "text": [
      "Here we have got the iter oject <callable_iterator object at 0x000002B86DE405B0>\n",
      "This is the output of the result <re.Match object; span=(0, 40), match='surendra is going to the python classes.'>\n",
      "This is the output of the result <re.Match object; span=(41, 84), match='Manish is also going to the python classes.'>\n",
      "This is the output of the result <re.Match object; span=(85, 129), match='Mridhul is also going to the python classes.'>\n",
      "This is the output of the result <re.Match object; span=(130, 173), match='Rakesh is also going to the python classes.'>\n"
     ]
    }
   ],
   "source": [
    "data = \"\"\"surendra is going to the python classes.\n",
    "Manish is also going to the python classes.\n",
    "Mridhul is also going to the python classes.\n",
    "Rakesh is also going to the python classes.\n",
    "\"\"\"\n",
    "\n",
    "pattern1 = r\".+[a-zA-Z]+\\.$\"\n",
    "\n",
    "result1 = re.finditer(pattern1,data,re.MULTILINE)\n",
    "\n",
    "print(f\"Here we have got the iter oject {result1}\")\n",
    "\n",
    "##Calling the for loop and printing all the result\n",
    "for items in result1:\n",
    "    print(f\"This is the output of the result {items}\")"
   ]
  },
  {
   "cell_type": "code",
   "execution_count": 17,
   "metadata": {},
   "outputs": [
    {
     "name": "stdout",
     "output_type": "stream",
     "text": [
      "Here we got the iter ojbect <callable_iterator object at 0x000002B86DE513F0>\n",
      "<re.Match object; span=(0, 6), match='Harish'>\n",
      "<re.Match object; span=(25, 31), match='Rakesh'>\n",
      "<re.Match object; span=(62, 68), match='Manish'>\n",
      "<re.Match object; span=(100, 106), match='Suresh'>\n"
     ]
    }
   ],
   "source": [
    "my_Data = \"\"\"Harish is also studying.\n",
    "Rakesh is also going to the classes.\n",
    "Manish is also playing in the garden.\n",
    "Suresh is also working hard for the examination.\n",
    "\"\"\"\n",
    "\n",
    "pattern2 = r\"^\\w+\"\n",
    "\n",
    "result2 = re.finditer(pattern2,my_Data,re.MULTILINE)\n",
    "\n",
    "print(f\"Here we got the iter ojbect {result2}\")\n",
    "\n",
    "##Calling the for loop\n",
    "for items in result2:\n",
    "    print(items)"
   ]
  },
  {
   "cell_type": "code",
   "execution_count": 31,
   "metadata": {},
   "outputs": [
    {
     "name": "stdout",
     "output_type": "stream",
     "text": [
      "This will return the iter object for result 3:- <callable_iterator object at 0x000002B86DE6B820>\n",
      "This will return the iter object for the result 4:- <callable_iterator object at 0x000002B86DE6AA10>\n",
      "This is starting pattern of the string:- <re.Match object; span=(0, 4), match='John'>\n",
      "This is starting pattern of the string:- <re.Match object; span=(35, 40), match='Latin'>\n",
      "This is starting pattern of the string:- <re.Match object; span=(95, 99), match='Lusi'>\n",
      "This is ending pattern of the string:- <re.Match object; span=(28, 34), match='regex.'>\n",
      "This is ending pattern of the string:- <re.Match object; span=(87, 94), match='python.'>\n",
      "This is ending pattern of the string:- <re.Match object; span=(130, 137), match='python.'>\n"
     ]
    }
   ],
   "source": [
    "my_data3 = \"\"\"John is trying to learn the regex.\n",
    "Latin is also planning to study the core concept of python.\n",
    "Lusi is also expert concept of the python.\n",
    "\"\"\"\n",
    "\n",
    "pattern3 = r\"^\\w+\"\n",
    "\n",
    "pattern4 = r\"\\w+\\.$\"\n",
    "\n",
    "result3 = re.finditer(pattern3,my_data3,re.MULTILINE)\n",
    "\n",
    "result4 = re.finditer(pattern4,my_data3,re.MULTILINE)\n",
    "\n",
    "print(f\"This will return the iter object for result 3:- {result3}\")\n",
    "\n",
    "print(f\"This will return the iter object for the result 4:- {result4}\")\n",
    "\n",
    "##for loop\n",
    "for items in result3:\n",
    "    print(f\"This is starting pattern of the string:- {items}\")\n",
    "\n",
    "\n",
    "##for loop\n",
    "for items in result4:\n",
    "    print(f\"This is ending pattern of the string:- {items}\")"
   ]
  },
  {
   "cell_type": "code",
   "execution_count": 63,
   "metadata": {},
   "outputs": [
    {
     "name": "stdout",
     "output_type": "stream",
     "text": [
      "Yes your string is starting with the character\n"
     ]
    }
   ],
   "source": [
    "my_data3 = \"\"\"John is trying to learn the regex.\n",
    "Latin is also planning to study the core concept of python.\n",
    "Lusi is also expert concept of the python.\n",
    "\"\"\"\n",
    "pattern5 = r\"^(\\w+)\"\n",
    "\n",
    "result5 = re.finditer(pattern5,my_data3,re.MULTILINE)\n",
    "\n",
    "##Calling the for loop to iterate every object returned by the finditer function\n",
    "if result5:\n",
    "    print(\"Yes your string is starting with the character\")\n",
    "else:\n",
    "    print(\"No your string is not starting with the character\")"
   ]
  },
  {
   "cell_type": "code",
   "execution_count": 73,
   "metadata": {},
   "outputs": [
    {
     "name": "stdout",
     "output_type": "stream",
     "text": [
      "Yes we have found the items in the iter object:- <callable_iterator object at 0x000002B86DD33EB0>\n",
      "This is the resulf <re.Match object; span=(0, 4), match='2022'>\n"
     ]
    }
   ],
   "source": [
    "my_data4 = \"\"\"1surendra is a good boy but sometime he acts so rudely that's the reason no one care about him.\"\"\"\n",
    "\n",
    "my_data5 = \"\"\"2022 a great hacking event was organinsed under town and a lot of hacker come to participate in it.\"\"\"\n",
    "\n",
    "pattern6 = r\"^\\d{4}\"\n",
    "\n",
    "result6 = re.finditer(pattern6,my_data5)\n",
    "\n",
    "##Calling the for loop with the iter object returned by the findier function\n",
    "\n",
    "if result6:\n",
    "    print(f\"Yes we have found the items in the iter object:- {result6}\")\n",
    "\n",
    "else:\n",
    "    print(\"No we have not found the items in the iter object\")\n",
    "\n",
    "\n",
    "for items in result6:\n",
    "    print(f\"This is the resulf {items}\")\n"
   ]
  },
  {
   "cell_type": "code",
   "execution_count": 77,
   "metadata": {},
   "outputs": [
    {
     "name": "stdout",
     "output_type": "stream",
     "text": [
      "This is the result of the items <re.Match object; span=(1, 9), match='surendra'>\n",
      "This is the result of the items <re.Match object; span=(9, 12), match=' is'>\n",
      "This is the result of the items <re.Match object; span=(12, 14), match=' a'>\n",
      "This is the result of the items <re.Match object; span=(14, 19), match=' good'>\n",
      "This is the result of the items <re.Match object; span=(19, 23), match=' boy'>\n",
      "This is the result of the items <re.Match object; span=(23, 27), match=' but'>\n",
      "This is the result of the items <re.Match object; span=(27, 36), match=' sometime'>\n",
      "This is the result of the items <re.Match object; span=(36, 39), match=' he'>\n",
      "This is the result of the items <re.Match object; span=(39, 44), match=' acts'>\n",
      "This is the result of the items <re.Match object; span=(44, 47), match=' so'>\n",
      "This is the result of the items <re.Match object; span=(47, 54), match=' rudely'>\n",
      "This is the result of the items <re.Match object; span=(54, 59), match=' that'>\n",
      "This is the result of the items <re.Match object; span=(59, 61), match=\"'s\">\n",
      "This is the result of the items <re.Match object; span=(61, 65), match=' the'>\n",
      "This is the result of the items <re.Match object; span=(65, 72), match=' reason'>\n",
      "This is the result of the items <re.Match object; span=(72, 75), match=' no'>\n",
      "This is the result of the items <re.Match object; span=(75, 79), match=' one'>\n",
      "This is the result of the items <re.Match object; span=(79, 84), match=' care'>\n",
      "This is the result of the items <re.Match object; span=(84, 90), match=' about'>\n",
      "This is the result of the items <re.Match object; span=(90, 94), match=' him'>\n",
      "This is the result of the items <re.Match object; span=(94, 98), match=' and'>\n",
      "This is the result of the items <re.Match object; span=(98, 102), match=' his'>\n",
      "This is the result of the items <re.Match object; span=(102, 107), match=' date'>\n",
      "This is the result of the items <re.Match object; span=(107, 110), match=' of'>\n",
      "This is the result of the items <re.Match object; span=(110, 116), match=' birth'>\n",
      "This is the result of the items <re.Match object; span=(116, 119), match=' is'>\n",
      "This is the result of the items <re.Match object; span=(124, 128), match=' and'>\n",
      "This is the result of the items <re.Match object; span=(128, 132), match=' his'>\n",
      "This is the result of the items <re.Match object; span=(132, 139), match=' mobile'>\n",
      "This is the result of the items <re.Match object; span=(139, 142), match=' no'>\n",
      "This is the result of the items <re.Match object; span=(142, 145), match=' is'>\n"
     ]
    }
   ],
   "source": [
    "my_data7 = \"\"\"1surendra is a good boy but sometime he acts so rudely that's the reason no one care about him and his date of birth is 2002 and his mobile no is 94625414141.\"\"\"\n",
    "\n",
    "pattern7 = r\"[^0-9][a-zA-Z]+\"                ##It will return the entire string but escape the numerical from the string\n",
    "\n",
    "result7= re.finditer(pattern7,my_data7)\n",
    "\n",
    "##Call the for loop and iter every object\n",
    "for items in result7:\n",
    "    print(f\"This is the result of the items {items}\")"
   ]
  },
  {
   "cell_type": "code",
   "execution_count": 80,
   "metadata": {},
   "outputs": [
    {
     "name": "stderr",
     "output_type": "stream",
     "text": [
      "<>:3: SyntaxWarning: invalid escape sequence '\\P'\n",
      "<>:3: SyntaxWarning: invalid escape sequence '\\P'\n",
      "C:\\Users\\suren\\AppData\\Local\\Temp\\ipykernel_408\\3751990758.py:3: SyntaxWarning: invalid escape sequence '\\P'\n",
      "  with open(\"E:\\Python-Tutorial\\Chapter_7\\mobile_no.txt\",\"r\") as f:\n"
     ]
    }
   ],
   "source": [
    "##getting data from the file\n",
    "\n",
    "with open(\"E:\\Python-Tutorial\\Chapter_7\\mobile_no.txt\",\"r\") as f:\n",
    "    my_common_data = f.read()"
   ]
  },
  {
   "cell_type": "code",
   "execution_count": 86,
   "metadata": {},
   "outputs": [
    {
     "name": "stdout",
     "output_type": "stream",
     "text": [
      "This is the result <re.Match object; span=(9, 16), match='1945123'>\n",
      "This is the result <re.Match object; span=(53, 59), match='987123'>\n",
      "This is the result <re.Match object; span=(60, 68), match='85234123'>\n",
      "This is the result <re.Match object; span=(69, 77), match='34123123'>\n",
      "This is the result <re.Match object; span=(100, 107), match='2345123'>\n",
      "This is the result <re.Match object; span=(108, 114), match='567123'>\n",
      "This is the result <re.Match object; span=(122, 128), match='189123'>\n",
      "This is the result <re.Match object; span=(136, 142), match='789123'>\n",
      "This is the result <re.Match object; span=(166, 172), match='450123'>\n",
      "This is the result <re.Match object; span=(208, 216), match='78123123'>\n",
      "This is the result <re.Match object; span=(217, 224), match='8394123'>\n",
      "This is the result <re.Match object; span=(225, 231), match='561123'>\n",
      "This is the result <re.Match object; span=(247, 255), match='85234123'>\n",
      "This is the result <re.Match object; span=(256, 262), match='890123'>\n",
      "This is the result <re.Match object; span=(284, 293), match='423456123'>\n",
      "This is the result <re.Match object; span=(294, 300), match='810123'>\n",
      "This is the result <re.Match object; span=(301, 308), match='9832123'>\n",
      "This is the result <re.Match object; span=(309, 316), match='2945123'>\n",
      "This is the result <re.Match object; span=(317, 327), match='1945123123'>\n",
      "This is the result <re.Match object; span=(328, 334), match='879123'>\n",
      "This is the result <re.Match object; span=(357, 364), match='6798123'>\n",
      "This is the result <re.Match object; span=(365, 371), match='450123'>\n",
      "This is the result <re.Match object; span=(372, 380), match='74123123'>\n",
      "This is the result <re.Match object; span=(430, 437), match='7890123'>\n",
      "This is the result <re.Match object; span=(475, 484), match='912345123'>\n",
      "This is the result <re.Match object; span=(485, 491), match='456123'>\n",
      "This is the result <re.Match object; span=(492, 499), match='7839123'>\n",
      "This is the result <re.Match object; span=(515, 521), match='189123'>\n",
      "This is the result <re.Match object; span=(522, 530), match='54123123'>\n",
      "This is the result <re.Match object; span=(539, 545), match='567123'>\n",
      "This is the result <re.Match object; span=(561, 568), match='7398123'>\n",
      "This is the result <re.Match object; span=(576, 584), match='43234123'>\n",
      "This is the result <re.Match object; span=(592, 598), match='345123'>\n",
      "This is the result <re.Match object; span=(606, 614), match='10234123'>\n",
      "This is the result <re.Match object; span=(615, 622), match='9834123'>\n",
      "This is the result <re.Match object; span=(638, 646), match='85234123'>\n",
      "This is the result <re.Match object; span=(676, 684), match='43234123'>\n",
      "This is the result <re.Match object; span=(685, 691), match='354123'>\n",
      "This is the result <re.Match object; span=(706, 715), match='912345123'>\n",
      "This is the result <re.Match object; span=(730, 739), match='912345123'>\n"
     ]
    }
   ],
   "source": [
    "pattern8 = r\"\\d+123$\"                                           ##This will find all the number which ends with 123\n",
    "\n",
    "result8 = re.finditer(pattern8,my_common_data,re.MULTILINE)\n",
    "\n",
    "##calling the for loop \n",
    "for commands in result8:\n",
    "    print(f\"This is the result {commands}\")"
   ]
  },
  {
   "cell_type": "code",
   "execution_count": 88,
   "metadata": {},
   "outputs": [
    {
     "name": "stdout",
     "output_type": "stream",
     "text": [
      "This is the result <re.Match object; span=(0, 8), match='12345678'>\n",
      "This is the result <re.Match object; span=(9, 16), match='1945123'>\n",
      "This is the result <re.Match object; span=(93, 99), match='123098'>\n",
      "This is the result <re.Match object; span=(115, 121), match='129087'>\n",
      "This is the result <re.Match object; span=(122, 128), match='189123'>\n",
      "This is the result <re.Match object; span=(270, 276), match='123456'>\n",
      "This is the result <re.Match object; span=(317, 327), match='1945123123'>\n",
      "This is the result <re.Match object; span=(388, 394), match='123789'>\n",
      "This is the result <re.Match object; span=(500, 506), match='129087'>\n",
      "This is the result <re.Match object; span=(515, 521), match='189123'>\n",
      "This is the result <re.Match object; span=(531, 538), match='1237890'>\n",
      "This is the result <re.Match object; span=(606, 614), match='10234123'>\n",
      "This is the result <re.Match object; span=(623, 630), match='1234569'>\n",
      "This is the result <re.Match object; span=(647, 653), match='123789'>\n",
      "This is the result <re.Match object; span=(740, 747), match='1237890'>\n"
     ]
    }
   ],
   "source": [
    "pattern9 = r\"^1\\d+\"                                     ##This will find all the number starts with 1\n",
    "\n",
    "result9 = re.finditer(pattern9,my_common_data,re.MULTILINE)\n",
    "\n",
    "##Calling the for loop\n",
    "\n",
    "for items in result9:\n",
    "    print(f\"This is the result {items}\")"
   ]
  },
  {
   "cell_type": "code",
   "execution_count": 91,
   "metadata": {},
   "outputs": [
    {
     "name": "stdout",
     "output_type": "stream",
     "text": [
      "This is the result <re.Match object; span=(31, 37), match='981234'>\n",
      "This is the result <re.Match object; span=(53, 59), match='987123'>\n",
      "This is the result <re.Match object; span=(159, 165), match='987890'>\n",
      "This is the result <re.Match object; span=(194, 200), match='987654'>\n",
      "This is the result <re.Match object; span=(277, 283), match='987234'>\n",
      "This is the result <re.Match object; span=(301, 308), match='9832123'>\n",
      "This is the result <re.Match object; span=(343, 349), match='983456'>\n",
      "This is the result <re.Match object; span=(381, 387), match='981234'>\n",
      "This is the result <re.Match object; span=(402, 408), match='981234'>\n",
      "This is the result <re.Match object; span=(475, 484), match='912345123'>\n",
      "This is the result <re.Match object; span=(507, 514), match='9876543'>\n",
      "This is the result <re.Match object; span=(615, 622), match='9834123'>\n",
      "This is the result <re.Match object; span=(669, 675), match='987654'>\n",
      "This is the result <re.Match object; span=(706, 715), match='912345123'>\n",
      "This is the result <re.Match object; span=(730, 739), match='912345123'>\n",
      "This is the result <re.Match object; span=(755, 761), match='987654'>\n"
     ]
    }
   ],
   "source": [
    "pattern10 = r\"^(9)\\d+\"                        ##This will find all the number from the pattern\n",
    "\n",
    "result10 = re.finditer(pattern10,my_common_data,re.MULTILINE)\n",
    "\n",
    "##Calling the for loop\n",
    "\n",
    "for items in result10:\n",
    "    print(f\"This is the result {items}\")"
   ]
  },
  {
   "cell_type": "code",
   "execution_count": null,
   "metadata": {},
   "outputs": [],
   "source": []
  }
 ],
 "metadata": {
  "kernelspec": {
   "display_name": "Python 3",
   "language": "python",
   "name": "python3"
  },
  "language_info": {
   "codemirror_mode": {
    "name": "ipython",
    "version": 3
   },
   "file_extension": ".py",
   "mimetype": "text/x-python",
   "name": "python",
   "nbconvert_exporter": "python",
   "pygments_lexer": "ipython3",
   "version": "3.12.4"
  }
 },
 "nbformat": 4,
 "nbformat_minor": 2
}
