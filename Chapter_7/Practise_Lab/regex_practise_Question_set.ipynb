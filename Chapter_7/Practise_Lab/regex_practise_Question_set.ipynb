{
 "cells": [
  {
   "cell_type": "code",
   "execution_count": 1,
   "metadata": {},
   "outputs": [],
   "source": [
    "import re"
   ]
  },
  {
   "cell_type": "code",
   "execution_count": 2,
   "metadata": {},
   "outputs": [
    {
     "name": "stdout",
     "output_type": "stream",
     "text": [
      "<re.Match object; span=(0, 3), match='Cat'>\n",
      "<re.Match object; span=(46, 49), match='Cat'>\n"
     ]
    }
   ],
   "source": [
    "#Question 1 Write a regex pattern to find all occurrences of the word \"cat\" in a given text.\n",
    "\n",
    "#Approach 1\n",
    "my_text = \"Cat is a very intelligent animal in the world.Cat can do any thing she want\"           \n",
    "\n",
    "pattern = r\"cat\"\n",
    "\n",
    "pattern_result = re.finditer(pattern,my_text,re.IGNORECASE)\n",
    "\n",
    "for items in pattern_result:\n",
    "    print(items)"
   ]
  },
  {
   "cell_type": "code",
   "execution_count": 5,
   "metadata": {},
   "outputs": [
    {
     "name": "stdout",
     "output_type": "stream",
     "text": [
      "['Cat', 'Cat']\n"
     ]
    }
   ],
   "source": [
    "#Approach 2\n",
    "pattern =r\"(cat)\"\n",
    "\n",
    "pattern_result = re.findall(pattern,my_text,re.IGNORECASE)\n",
    "\n",
    "print(pattern_result)"
   ]
  },
  {
   "cell_type": "code",
   "execution_count": 16,
   "metadata": {},
   "outputs": [
    {
     "name": "stdout",
     "output_type": "stream",
     "text": [
      "['a', 'i', 'a', 'e', 'i', 'e', 'i', 'e', 'a', 'i', 'a', 'i', 'e', 'o', 'a', 'a', 'o', 'a', 'i', 'e', 'a']\n"
     ]
    }
   ],
   "source": [
    "#Question 2 Write a regex pattern to find all words that start with a vowel in a given text.\n",
    "\n",
    "#Approach 1\n",
    "pattern2 = r\"[aeiou]\"\n",
    "\n",
    "pattern_result = re.findall(pattern2,my_text,re.IGNORECASE)\n",
    "\n",
    "print(pattern_result)"
   ]
  },
  {
   "cell_type": "code",
   "execution_count": 70,
   "metadata": {},
   "outputs": [
    {
     "name": "stdout",
     "output_type": "stream",
     "text": [
      "This return a list ['Cat is a very intelligent animal in the world.Cat can do any thing she wa']\n"
     ]
    }
   ],
   "source": [
    "#Approach 2\n",
    "pattern3 = r'.+[aeiou]'\n",
    "\n",
    "pattern3_result = re.findall(pattern3,my_text)\n",
    "\n",
    "print(f\"This return a list {pattern3_result}\")"
   ]
  },
  {
   "cell_type": "code",
   "execution_count": 74,
   "metadata": {},
   "outputs": [
    {
     "name": "stdout",
     "output_type": "stream",
     "text": [
      "['Price: $50.00', 'Price: $30.00']\n"
     ]
    }
   ],
   "source": [
    "#Question 3 Write a regex pattern to match a string that contains the text \"Price: $50.00\" exactly as is.\n",
    "\n",
    "#Approach 1\n",
    "\n",
    "text1 = \"Price: $50.00 is the final amount. Price: $30.00 for this item.\"\n",
    "\n",
    "pattern4 = r\"(\\w{5}:\\s\\$\\d{2}\\.\\d{2})\"\n",
    "\n",
    "pattern4_result= re.findall(pattern4,text1,re.IGNORECASE)\n",
    "\n",
    "print(pattern4_result)\n"
   ]
  },
  {
   "cell_type": "code",
   "execution_count": 75,
   "metadata": {},
   "outputs": [
    {
     "name": "stdout",
     "output_type": "stream",
     "text": [
      "This is the result of pattern 5 ['Price: $50.00', 'Price: $30.00']\n"
     ]
    }
   ],
   "source": [
    "#Approach 2\n",
    "pattern5 = r\"\\w{5}:\\s\\$.{5}\"\n",
    "\n",
    "pattern5_result = re.findall(pattern5,text1,re.IGNORECASE)\n",
    "\n",
    "print(f\"This is the result of pattern 5 {pattern5_result}\")\n"
   ]
  },
  {
   "cell_type": "code",
   "execution_count": 86,
   "metadata": {},
   "outputs": [
    {
     "name": "stdout",
     "output_type": "stream",
     "text": [
      "This is the data of pattern ['Price: $50.00', 'Price: $30.00']\n"
     ]
    }
   ],
   "source": [
    "#Approach 3\n",
    "text1 = \"Price: $50.00 is the final amount. Price: $30.00 for this item.\"\n",
    "\n",
    "pattern6 = r\"\\w+:\\s\\$\\d+\\.\\d+\"\n",
    "\n",
    "pattern6_result = re.findall(pattern6,text1,re.IGNORECASE)\n",
    "\n",
    "print(f\"This is the data of pattern {pattern6_result}\")"
   ]
  },
  {
   "cell_type": "code",
   "execution_count": 89,
   "metadata": {},
   "outputs": [
    {
     "name": "stdout",
     "output_type": "stream",
     "text": [
      "This is the data of pattern ['Price: $50']\n"
     ]
    }
   ],
   "source": [
    "#Approach 4\n",
    "pattern7 = r\"\\w+:\\s\\$5\\d+\"\n",
    "\n",
    "pattern7_result = re.findall(pattern7,text1,re.IGNORECASE)\n",
    "\n",
    "print(f\"This is the data of pattern {pattern7_result}\")\n"
   ]
  },
  {
   "cell_type": "code",
   "execution_count": 91,
   "metadata": {},
   "outputs": [
    {
     "name": "stdout",
     "output_type": "stream",
     "text": [
      "This is the result of the pattern:- ['2024.08.23']\n"
     ]
    }
   ],
   "source": [
    "#Question 4 Write a regex pattern to find all sequences of three characters followed by a period (.) in the text.\n",
    "\n",
    "#Approach 1\n",
    "Text4= \"The date is 2024.08.23 and the time is 12:34.\"\n",
    "\n",
    "pattern8 = r\"\\d+\\.\\d+\\.\\d+\"\n",
    "\n",
    "pattern8_result = re.findall(pattern8,Text4,re.IGNORECASE)\n",
    "\n",
    "print(f\"This is the result of the pattern:- {pattern8_result}\")\n"
   ]
  },
  {
   "cell_type": "code",
   "execution_count": 95,
   "metadata": {},
   "outputs": [
    {
     "name": "stdout",
     "output_type": "stream",
     "text": [
      "This is the result of pattern [' 2024.08.23']\n"
     ]
    }
   ],
   "source": [
    "#Approach 2\n",
    "pattern9 = r\"\\d+\\.\\d+\\.\\d+ | \\d{4}\\.\\d{2}\\.\\d{2}\"\n",
    "\n",
    "pattern9_result = re.findall(pattern9,Text4,re.IGNORECASE)\n",
    "\n",
    "print(f\"This is the result of pattern {pattern9_result}\")"
   ]
  },
  {
   "cell_type": "code",
   "execution_count": 169,
   "metadata": {},
   "outputs": [
    {
     "name": "stdout",
     "output_type": "stream",
     "text": [
      "['Hello World']\n"
     ]
    }
   ],
   "source": [
    "#Question 5 Write a regex pattern to match lines that start with \"Hello\" and end with \"World\".\n",
    "\n",
    "text5 = \"Hello everyone\\nThis is a test\\nHello World\\nGoodbye World\"\n",
    "\n",
    "pattern10 = r'^Hello.*World$'\n",
    "\n",
    "pattern10_result = re.findall(pattern10,text5,re.MULTILINE)\n",
    "\n",
    "print(pattern10_result)"
   ]
  },
  {
   "cell_type": "code",
   "execution_count": 172,
   "metadata": {},
   "outputs": [
    {
     "name": "stdout",
     "output_type": "stream",
     "text": [
      "['1234', '5678', '9012', '6789']\n"
     ]
    }
   ],
   "source": [
    "#Question 6 Write a regex pattern to match sequences of digits that are exactly 4 digits long.\n",
    "\n",
    "#Right Approach\n",
    "\n",
    "text6 = \"My PIN codes are 1234, 5678, and 9012. Other codes are 12, 345, and 67890.\"\n",
    "\n",
    "pattern11 = r\"\\d{4}\"\n",
    "\n",
    "pattern11_result = re.findall(pattern11,text6,re.IGNORECASE)\n",
    "\n",
    "print(pattern11_result)"
   ]
  },
  {
   "cell_type": "code",
   "execution_count": 178,
   "metadata": {},
   "outputs": [
    {
     "name": "stdout",
     "output_type": "stream",
     "text": [
      "This is the pattern result:- ['1234', '5678', '9012', '12', '345', '67890']\n"
     ]
    }
   ],
   "source": [
    "#Wrong approach because we know we only need 4 digit code only\n",
    "\n",
    "pattern12 = r\"\\d+\"\n",
    "\n",
    "pattern12_result = re.findall(pattern12,text6)\n",
    "\n",
    "print(f\"This is the pattern result:- {pattern12_result}\")"
   ]
  },
  {
   "cell_type": "code",
   "execution_count": 196,
   "metadata": {},
   "outputs": [
    {
     "name": "stdout",
     "output_type": "stream",
     "text": [
      "This is the result of the pattern <re.Match object; span=(14, 20), match='apple '>\n"
     ]
    }
   ],
   "source": [
    "#Question 7 Write a regex pattern to find occurrences of either \"apple\" or \"orange\".\n",
    "\n",
    "#Approach 1 (If we need first occurance from apple and orange)\n",
    "text7 = \"I like to eat apple pie and orange juice. Apple and orange are my favorite fruits.\"\n",
    "\n",
    "pattern13 = r\"apple | orange\"\n",
    "\n",
    "pattern13_result = re.search(pattern13,text7)\n",
    "\n",
    "print(f\"This is the result of the pattern {pattern13_result}\")"
   ]
  },
  {
   "cell_type": "code",
   "execution_count": 198,
   "metadata": {},
   "outputs": [
    {
     "name": "stdout",
     "output_type": "stream",
     "text": [
      "This is the result of the pattern ['apple ', ' orange', ' orange']\n"
     ]
    }
   ],
   "source": [
    "#Approach 2 (If we need multiple occurance from the existing string)\n",
    "pattern13_result = re.findall(pattern13,text7)\n",
    "\n",
    "print(f\"This is the result of the pattern {pattern13_result}\")"
   ]
  },
  {
   "cell_type": "code",
   "execution_count": 200,
   "metadata": {},
   "outputs": [
    {
     "name": "stdout",
     "output_type": "stream",
     "text": [
      "['banana', 'cherry', 'orange', 'papaya']\n"
     ]
    }
   ],
   "source": [
    "#Question 8 Write a regex pattern to find all words with exactly 6 letters\n",
    "\n",
    "text8 = \"These are some words: apple, banana, cherry, grape, orange, papaya.\"\n",
    "\n",
    "pattern14 = r\"\\w{6}\"\n",
    "pattern14_result = re.findall(pattern14,text8)\n",
    "\n",
    "print(pattern14_result)"
   ]
  },
  {
   "cell_type": "code",
   "execution_count": 202,
   "metadata": {},
   "outputs": [
    {
     "name": "stdout",
     "output_type": "stream",
     "text": [
      "['Example', 'Example', 'Example', 'example']\n"
     ]
    }
   ],
   "source": [
    "#Question 9 Write a regex pattern to search for the word \"example\" in a case-insensitive manner.\n",
    "\n",
    "text9 = \"Example one: Example text. Example two: example text.\"\n",
    "\n",
    "pattern15 = r\"\\w{7}\"\n",
    "pattern15 = re.findall(pattern15,text9,re.IGNORECASE)           ##it will stop the case sensitive mode\n",
    "\n",
    "print(pattern15)"
   ]
  },
  {
   "cell_type": "code",
   "execution_count": 204,
   "metadata": {},
   "outputs": [
    {
     "name": "stdout",
     "output_type": "stream",
     "text": [
      "['user123@example.com', 'user456@example.com']\n"
     ]
    }
   ],
   "source": [
    "#Question 10 Write a regex pattern to find all email addresses following the pattern \"user123@example.com\".\n",
    "\n",
    "text10 = \"Contact us at user123@example.com or user456@example.com for more information.\"\n",
    "\n",
    "pattern16 = r\"\\w+\\d+@\\w+\\.\\w+\"\n",
    "\n",
    "pattern16_result =  re.findall(pattern16,text10)\n",
    "\n",
    "print(pattern16_result)"
   ]
  },
  {
   "cell_type": "code",
   "execution_count": 211,
   "metadata": {},
   "outputs": [
    {
     "name": "stdout",
     "output_type": "stream",
     "text": [
      "['Hello', '', 'How', 'are', 'you', '', 'I', 'm', 'fine', '', 'thanks', '']\n"
     ]
    }
   ],
   "source": [
    "#Question 11 Write a regex pattern to split the string by any non-alphanumeric character.\n",
    "\n",
    "##Approach 1\n",
    "text11 = \"Hello! How are you? I'm fine, thanks.\"\n",
    "\n",
    "pattern17 = r\"\\W\"\n",
    "\n",
    "pattern17_result = re.split(pattern17,text11)         \n",
    "\n",
    "print(pattern17_result)"
   ]
  },
  {
   "cell_type": "code",
   "execution_count": 213,
   "metadata": {},
   "outputs": [
    {
     "name": "stdout",
     "output_type": "stream",
     "text": [
      "This is the result of pattern 18:- ['Hello', '', 'How', 'are', 'you', '', 'I', 'm', 'fine', '', 'thanks', '']\n"
     ]
    }
   ],
   "source": [
    "#Approach 2\n",
    "pattern18 = r\"[^a-zA-Z0-9_]\"\n",
    "\n",
    "pattern18_result = re.split(pattern18,text11)\n",
    "\n",
    "print(f\"This is the result of pattern 18:- {pattern18_result}\")"
   ]
  },
  {
   "cell_type": "code",
   "execution_count": 217,
   "metadata": {},
   "outputs": [
    {
     "name": "stdout",
     "output_type": "stream",
     "text": [
      "Visit us at https://example.com and https://anotherexample.com.\n"
     ]
    }
   ],
   "source": [
    "#Question 12 Write a regex pattern to replace all instances of \"http\" with \"https\"\n",
    "\n",
    "#Approach 1\n",
    "\n",
    "text12 = \"Visit us at http://example.com and http://anotherexample.com.\"\n",
    "\n",
    "pattern19 = r\"\\w+:\"\n",
    "\n",
    "pattern19_result = re.sub(pattern19,\"https:\",text12)\n",
    "\n",
    "print(pattern19_result)"
   ]
  },
  {
   "cell_type": "code",
   "execution_count": 224,
   "metadata": {},
   "outputs": [
    {
     "name": "stdout",
     "output_type": "stream",
     "text": [
      "This is the result of pattern 20 Visit us at https://example.com and https://anotherexample.com.\n"
     ]
    }
   ],
   "source": [
    "#Approach 2\n",
    "\n",
    "pattern20 = r\"\\w{4}:\"\n",
    "\n",
    "pattern20_result = re.sub(pattern20,\"https:\",text12)\n",
    "\n",
    "print(f\"This is the result of pattern 20 {pattern20_result}\")"
   ]
  },
  {
   "cell_type": "code",
   "execution_count": null,
   "metadata": {},
   "outputs": [],
   "source": []
  }
 ],
 "metadata": {
  "kernelspec": {
   "display_name": "Python 3",
   "language": "python",
   "name": "python3"
  },
  "language_info": {
   "codemirror_mode": {
    "name": "ipython",
    "version": 3
   },
   "file_extension": ".py",
   "mimetype": "text/x-python",
   "name": "python",
   "nbconvert_exporter": "python",
   "pygments_lexer": "ipython3",
   "version": "3.12.4"
  }
 },
 "nbformat": 4,
 "nbformat_minor": 2
}
