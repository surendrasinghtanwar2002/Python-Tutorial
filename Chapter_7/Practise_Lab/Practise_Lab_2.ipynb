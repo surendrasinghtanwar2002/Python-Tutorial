{
 "cells": [
  {
   "cell_type": "code",
   "execution_count": 1,
   "metadata": {},
   "outputs": [],
   "source": [
    "                                                                    ## Practising basic regex method ##\n",
    "import re"
   ]
  },
  {
   "cell_type": "code",
   "execution_count": 3,
   "metadata": {},
   "outputs": [
    {
     "name": "stdout",
     "output_type": "stream",
     "text": [
      "This is the actual pattern result <re.Match object; span=(0, 8), match='Surendra'>\n"
     ]
    }
   ],
   "source": [
    "                                                                                        ## search method will only find one pattern for one time only in the string ##\n",
    "##Approach 1\n",
    "\n",
    "pattern = \"Surendra\"\n",
    "\n",
    "data = \"Surendra is a boy which is trying to learn python from past 2 months\"\n",
    "\n",
    "result = re.search(pattern,data)\n",
    "\n",
    "print(f\"This is the actual pattern result {result}\")"
   ]
  },
  {
   "cell_type": "code",
   "execution_count": 5,
   "metadata": {},
   "outputs": [
    {
     "name": "stdout",
     "output_type": "stream",
     "text": [
      "This is the result1 of the second pattern: <re.Match object; span=(9, 12), match='Cat'>\n"
     ]
    }
   ],
   "source": [
    "##Approach 2\n",
    "\n",
    "pattern = \"Cat\"\n",
    "\n",
    "data = \"Dogs and Cat can never be a good friend. Cat always be naughty\"\n",
    "\n",
    "result1 = re.search(pattern,data)\n",
    "\n",
    "print(f\"This is the result1 of the second pattern: {result1}\")"
   ]
  },
  {
   "cell_type": "code",
   "execution_count": 10,
   "metadata": {},
   "outputs": [
    {
     "name": "stdout",
     "output_type": "stream",
     "text": [
      "This is the resulf of find all method which will return the list of the avilable pattern in the string: ['Rohan', 'Rohan']\n"
     ]
    }
   ],
   "source": [
    "                                                                                    ## Find all method will return all the elements of the pattern which present in the string ##\n",
    "##Approach 1\n",
    "\n",
    "pattern2 = r\"Rohan\"\n",
    "\n",
    "data2 = \"Rohan is a good boy and he tries to fetch all those thing which are avilalbe in the market. Rohan is learning python programming language\"\n",
    "\n",
    "result_2 = re.findall(pattern2,data2)\n",
    "\n",
    "print(f\"This is the resulf of find all method which will return the list of the avilable pattern in the string: {result_2}\")"
   ]
  },
  {
   "cell_type": "code",
   "execution_count": 13,
   "metadata": {},
   "outputs": [
    {
     "name": "stdout",
     "output_type": "stream",
     "text": [
      "['Mohan']\n"
     ]
    }
   ],
   "source": [
    "##Approach 2\n",
    "\n",
    "pattern_3 = r\"Mohan\"\n",
    "\n",
    "data_3 = 'The data can be hacked anytime but there should be algorithm and which is only known by me and i never loose I can easily crack the pattern this is said my Mohan'\n",
    "\n",
    "result_pattern3 = re.findall(pattern_3,data_3)\n",
    "\n",
    "print(result_pattern3)"
   ]
  },
  {
   "cell_type": "code",
   "execution_count": 14,
   "metadata": {},
   "outputs": [
    {
     "name": "stdout",
     "output_type": "stream",
     "text": [
      "This the actual pattern result using match method <re.Match object; span=(0, 6), match='hacked'>\n"
     ]
    }
   ],
   "source": [
    "                                                                                 ## match() method is used to find the pattern from the beggining posisition only ##\n",
    "##Approach 1\n",
    "\n",
    "pattern_4 = \"hacked\"\n",
    "\n",
    "data_4 = \"hacked data cannot be recovered because that is encrypted and for unlocking that we need a decryption key which cannot be avilable until and unless we pay to the hackers group\"\n",
    "\n",
    "result_pattern4 = re.match(pattern_4,data_4)\n",
    "\n",
    "print(f\"This the actual pattern result using match method {result_pattern4}\")"
   ]
  },
  {
   "cell_type": "code",
   "execution_count": 16,
   "metadata": {},
   "outputs": [
    {
     "name": "stdout",
     "output_type": "stream",
     "text": [
      "This is the actual data of the server:- jackson\n"
     ]
    }
   ],
   "source": [
    "## Approach 2\n",
    "\n",
    "pattern_5 = \"jackson\"\n",
    "\n",
    "data_5= \"jackson is not a good boy he always try to hack the system and which can be various dangerous when someone really want to secure the device\"\n",
    "\n",
    "pattern_result_5 = re.match(pattern_5,data_5)\n",
    "\n",
    "print(f\"This is the actual data of the server:- {pattern_5}\")"
   ]
  },
  {
   "cell_type": "code",
   "execution_count": 34,
   "metadata": {},
   "outputs": [
    {
     "name": "stdout",
     "output_type": "stream",
     "text": [
      "This is the result of the pattern 7: <callable_iterator object at 0x000001F3260801F0>\n"
     ]
    }
   ],
   "source": [
    "    ## finditer () method which will return all the pattern same like find all but this will return object which is not stored in memory directly when we call then only one by one value will be stored in the memory ##\n",
    "\n",
    "##Approach 1\n",
    "\n",
    "data_7 = \"rohan is a good boy but when he decided that he will hack the machine then he will hack the machine no one can stop him.rohan is trying to hack the entire college server room\"\n",
    "\n",
    "pattern_7 = r\"rohan\"\n",
    "\n",
    "pattern_7_result = re.finditer(pattern_7,data_7)\n",
    "\n",
    "print(f\"This is the result of the pattern 7: {pattern_7_result}\")"
   ]
  },
  {
   "cell_type": "code",
   "execution_count": 36,
   "metadata": {},
   "outputs": [
    {
     "name": "stdout",
     "output_type": "stream",
     "text": [
      "-----------------------> <callable_iterator object at 0x000001F3260801F0> <------------------------\n"
     ]
    }
   ],
   "source": [
    "print(f\"-----------------------> {pattern_7_result} <------------------------\")\n",
    "for data_value in pattern_7_result:\n",
    "    print(f\"This the result of the data  {data_value}\")"
   ]
  },
  {
   "cell_type": "code",
   "execution_count": 45,
   "metadata": {},
   "outputs": [
    {
     "name": "stdout",
     "output_type": "stream",
     "text": [
      "This the actual pattern result of the data_8 <callable_iterator object at 0x000001F325FD3700>\n"
     ]
    }
   ],
   "source": [
    "## Approach 2\n",
    "\n",
    "data_8 = \"Lokendar is trying to hack the machine but now someone had caught him how he can escape from a tight security there is only chance to exist is just leave the room. Lokendar is trying but still there is no path to exit\"\n",
    "\n",
    "pattern_8 = \"Lokendar\"\n",
    "\n",
    "pattern_8_result = re.finditer(pattern_8,data_8)\n",
    "\n",
    "print(f\"This the actual pattern result of the data_8 {pattern_8_result}\")"
   ]
  },
  {
   "cell_type": "code",
   "execution_count": 47,
   "metadata": {},
   "outputs": [],
   "source": [
    "counter_value = 0\n",
    "for data_range in pattern_8_result:\n",
    "    counter_value+=1\n",
    "    print(f\"This is the actual data of the server {data_range}\")\n",
    "    print(f\"This is the value of the counter variable {counter_value}\")"
   ]
  },
  {
   "cell_type": "code",
   "execution_count": 49,
   "metadata": {},
   "outputs": [
    {
     "name": "stdout",
     "output_type": "stream",
     "text": [
      "This is the actual pattern 9 result:- Suresh is trying to perform some miscallenous act on the poornima server and no one is stopping because no is aware about the server\n"
     ]
    }
   ],
   "source": [
    "                                                    ## sub() method is used to find the pattern and replace with new pattern value ##                                                                                                \n",
    "data = \"Mohan is trying to perform some miscallenous act on the poornima server and no one is stopping because no is aware about the server\"\n",
    "\n",
    "pattern_9 = \"Mohan\"\n",
    "\n",
    "new_pattern = \"Suresh\"\n",
    "\n",
    "pattern_9_result = re.sub(pattern_9,new_pattern,data)\n",
    "\n",
    "print(f\"This is the actual pattern 9 result:- {pattern_9_result}\")\n"
   ]
  },
  {
   "cell_type": "code",
   "execution_count": null,
   "metadata": {},
   "outputs": [],
   "source": []
  }
 ],
 "metadata": {
  "kernelspec": {
   "display_name": "Python 3",
   "language": "python",
   "name": "python3"
  },
  "language_info": {
   "codemirror_mode": {
    "name": "ipython",
    "version": 3
   },
   "file_extension": ".py",
   "mimetype": "text/x-python",
   "name": "python",
   "nbconvert_exporter": "python",
   "pygments_lexer": "ipython3",
   "version": "3.12.4"
  }
 },
 "nbformat": 4,
 "nbformat_minor": 2
}
