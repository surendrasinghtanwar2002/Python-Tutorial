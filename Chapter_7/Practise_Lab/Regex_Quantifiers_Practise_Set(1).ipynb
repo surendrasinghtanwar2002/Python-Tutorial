{
 "cells": [
  {
   "cell_type": "code",
   "execution_count": 1,
   "metadata": {},
   "outputs": [],
   "source": [
    "                                    ## This is the practise question for Regex Quantifiers Practise Set ##\n",
    "import re"
   ]
  },
  {
   "cell_type": "code",
   "execution_count": 11,
   "metadata": {},
   "outputs": [
    {
     "name": "stdout",
     "output_type": "stream",
     "text": [
      "This is the result of pattern1:- ['a', '', '', '', 'a', '', '', '', '', 'a', '', '', '', '', '', '', 'a', '']\n"
     ]
    }
   ],
   "source": [
    "##Question 1 Write a regex to match the letter \"a\" followed by zero or more \"b\" characters.\n",
    "text1 = \"ab, abb, abbbb, a\"\n",
    "pattern1 = re.compile(r\"a*\",re.IGNORECASE)\n",
    "\n",
    "pattern1_result = re.findall(pattern1,text1)\n",
    "print(f\"This is the result of pattern1:- {pattern1_result}\")"
   ]
  },
  {
   "cell_type": "code",
   "execution_count": 14,
   "metadata": {},
   "outputs": [
    {
     "name": "stdout",
     "output_type": "stream",
     "text": [
      "This is the result of pattern2:- ['123', '', '', '1234', '', '', '12', '', '', '1', '']\n"
     ]
    }
   ],
   "source": [
    "#Question 2 Write a regex to match one or more digits. \n",
    "text2 = \"123, 1234, 12, 1\"\n",
    "pattern2 = re.compile(r\"\\d*\")\n",
    "\n",
    "pattern2_result = re.findall(pattern2,text2)\n",
    "\n",
    "print(f\"This is the result of pattern2:- {pattern2_result}\")"
   ]
  },
  {
   "cell_type": "code",
   "execution_count": 19,
   "metadata": {},
   "outputs": [
    {
     "name": "stdout",
     "output_type": "stream",
     "text": [
      "This is the resulf of pattern3:- ['a', 'aa', 'aaa']\n"
     ]
    }
   ],
   "source": [
    "#Question 3 Write a regex to match one or more occurrences of the letter \"a\"\n",
    "text3 = \"a, aa, aaa, ,\"\n",
    "pattern3 = re.compile(r\"a+\",re.IGNORECASE)\n",
    "\n",
    "pattern3_result = re.findall(pattern3,text3)\n",
    "\n",
    "print(f\"This is the resulf of pattern3:- {pattern3_result}\")"
   ]
  },
  {
   "cell_type": "code",
   "execution_count": 22,
   "metadata": {},
   "outputs": [
    {
     "name": "stdout",
     "output_type": "stream",
     "text": [
      "This is the resulf of pattern 4: ['1', '12', '123', '1']\n"
     ]
    }
   ],
   "source": [
    "#Question 4 Write a regex to match one or more digits.\n",
    "text4 = \"1, 12, 123, 1abc\"\n",
    "pattern4 = re.compile(r\"\\d+\")\n",
    "\n",
    "pattern4_result = re.findall(pattern4,text4)\n",
    "print(f\"This is the resulf of pattern 4: {pattern4_result}\")"
   ]
  },
  {
   "cell_type": "code",
   "execution_count": 28,
   "metadata": {},
   "outputs": [
    {
     "name": "stdout",
     "output_type": "stream",
     "text": [
      "This is the resulf of pattern5:- ['a', 'ab']\n"
     ]
    }
   ],
   "source": [
    "#Question 5 Write a regex to match the letter \"a\" followed by an optional \"b\".\n",
    "text5 = \"a, ab, b\"\n",
    "pattern5 = re.compile(r\"a+b?\",re.IGNORECASE)\n",
    "\n",
    "pattern5_result = re.findall(pattern5,text5)\n",
    "\n",
    "print(f\"This is the resulf of pattern5:- {pattern5_result}\")"
   ]
  },
  {
   "cell_type": "code",
   "execution_count": 30,
   "metadata": {},
   "outputs": [
    {
     "name": "stdout",
     "output_type": "stream",
     "text": [
      "This is the result of pattern 6 ['1', '12', '2']\n"
     ]
    }
   ],
   "source": [
    "#Question 6 Write a regex to match a single digit optionally followed by another digit.\n",
    "text6 = \"1, 12, 2,\"\n",
    "pattern6 = re.compile(r\"\\d\\d?\")\n",
    "\n",
    "pattern6_result = re.findall(pattern6,text6)\n",
    "\n",
    "print(f\"This is the result of pattern 6 {pattern6_result}\")"
   ]
  },
  {
   "cell_type": "code",
   "execution_count": 33,
   "metadata": {},
   "outputs": [
    {
     "name": "stdout",
     "output_type": "stream",
     "text": [
      "This is the result of pattern7:- <re.Match object; span=(0, 3), match='aaa'>\n",
      "This is the result of pattern7:- <re.Match object; span=(9, 12), match='aaa'>\n"
     ]
    }
   ],
   "source": [
    "#Question 7 Write a regex to match exactly three occurrences of the letter \"a\".\n",
    "text7 = \"aaa, aa, aaaa, a\"\n",
    "pattern7 = re.compile(r\"a{3}\")\n",
    "pattern7_result = re.finditer(pattern7,text7)\n",
    "\n",
    "##Calling the for loop\n",
    "for items in pattern7_result:\n",
    "    print(f\"This is the result of pattern7:- {items}\")"
   ]
  },
  {
   "cell_type": "code",
   "execution_count": 35,
   "metadata": {},
   "outputs": [
    {
     "name": "stdout",
     "output_type": "stream",
     "text": [
      "This is the result of pattern8:- <re.Match object; span=(0, 4), match='1234'>\n",
      "This is the result of pattern8:- <re.Match object; span=(10, 14), match='1234'>\n"
     ]
    }
   ],
   "source": [
    "#Question 8 Write a regex to match exactly four digits.\n",
    "text8 = \"1234, 12, 12345, 123\"\n",
    "pattern8 = re.compile(r\"\\d{4}\")\n",
    "pattern8_result = re.finditer(pattern8,text8)\n",
    "\n",
    "##Calling the for loop\n",
    "for items in pattern8_result:\n",
    "    print(f\"This is the result of pattern8:- {items}\")"
   ]
  },
  {
   "cell_type": "code",
   "execution_count": 37,
   "metadata": {},
   "outputs": [
    {
     "name": "stdout",
     "output_type": "stream",
     "text": [
      "This is the result of pattern9:- <re.Match object; span=(0, 3), match='aaa'>\n",
      "This is the result of pattern9:- <re.Match object; span=(5, 9), match='aaaa'>\n"
     ]
    }
   ],
   "source": [
    "#Question 9 Write a regex to match at least three occurrences of the letter \"a\"\n",
    "text9 = \"aaa, aaaa, aa, A\"\n",
    "pattern9 = re.compile(r\"\\w{3,}\")                    ##This will specify that letter should be atleast 3 or more than 3\n",
    "pattern9_result = re.finditer(pattern9,text9)\n",
    "\n",
    "##Calling the for loop\n",
    "for items in pattern9_result:\n",
    "    print(f\"This is the result of pattern9:- {items}\")"
   ]
  },
  {
   "cell_type": "code",
   "execution_count": 39,
   "metadata": {},
   "outputs": [
    {
     "name": "stdout",
     "output_type": "stream",
     "text": [
      "This is the result of pattern 10:- <re.Match object; span=(0, 3), match='123'>\n",
      "This is the result of pattern 10:- <re.Match object; span=(5, 9), match='1234'>\n",
      "This is the result of pattern 10:- <re.Match object; span=(15, 20), match='12345'>\n"
     ]
    }
   ],
   "source": [
    "#Question 10 Write a regex to match at least three digits.\n",
    "text10 = \"123, 1234, 12, 12345\"\n",
    "pattern10 = re.compile(r\"\\d{3,}\")               ##This will also check alteast three digit from the string\n",
    "pattern10_result = re.finditer(pattern10,text10)\n",
    "\n",
    "##Calling the for loop\n",
    "for items in pattern10_result:\n",
    "    print(f\"This is the result of pattern 10:- {items}\")"
   ]
  },
  {
   "cell_type": "code",
   "execution_count": 41,
   "metadata": {},
   "outputs": [
    {
     "name": "stdout",
     "output_type": "stream",
     "text": [
      "This is the result of pattern 11 <re.Match object; span=(0, 2), match='aa'>\n",
      "This is the result of pattern 11 <re.Match object; span=(4, 7), match='aaa'>\n",
      "This is the result of pattern 11 <re.Match object; span=(9, 13), match='aaaa'>\n",
      "This is the result of pattern 11 <re.Match object; span=(15, 19), match='aaaa'>\n"
     ]
    }
   ],
   "source": [
    "#Question 11 Write a regex to match between two and four occurrences of the letter \"a\".\n",
    "text11 = \"aa, aaa, aaaa, aaaaa\"\n",
    "pattern11 = re.compile(r'\\w{2,4}',re.IGNORECASE)                ##This will check minimum 2 occurence and maximum 4 occurence\n",
    "pattern11_result = re.finditer(pattern11,text11)\n",
    "\n",
    "##Calling the for loop\n",
    "for items in pattern11_result:\n",
    "    print(F\"This is the result of pattern 11 {items}\")"
   ]
  },
  {
   "cell_type": "code",
   "execution_count": 42,
   "metadata": {},
   "outputs": [
    {
     "name": "stdout",
     "output_type": "stream",
     "text": [
      "This is the result of pattern12 <re.Match object; span=(0, 3), match='123'>\n",
      "This is the result of pattern12 <re.Match object; span=(5, 9), match='1234'>\n",
      "This is the result of pattern12 <re.Match object; span=(15, 20), match='12345'>\n"
     ]
    }
   ],
   "source": [
    "#Question 12 Write a regex to match between three and five digits\n",
    "text12 = \"123, 1234, 12, 12345\"\n",
    "pattern12 = re.compile(r\"\\d{3,5}\")\n",
    "pattern12_result = re.finditer(pattern12,text12)\n",
    "\n",
    "##Calling the for loop\n",
    "for items in pattern12_result:\n",
    "    print(f\"This is the result of pattern12 {items}\")"
   ]
  }
 ],
 "metadata": {
  "kernelspec": {
   "display_name": "Python 3",
   "language": "python",
   "name": "python3"
  },
  "language_info": {
   "codemirror_mode": {
    "name": "ipython",
    "version": 3
   },
   "file_extension": ".py",
   "mimetype": "text/x-python",
   "name": "python",
   "nbconvert_exporter": "python",
   "pygments_lexer": "ipython3",
   "version": "3.12.4"
  }
 },
 "nbformat": 4,
 "nbformat_minor": 2
}
